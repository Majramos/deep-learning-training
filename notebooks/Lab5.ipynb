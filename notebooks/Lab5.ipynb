{
 "cells": [
  {
   "cell_type": "markdown",
   "metadata": {
    "id": "mDqiSMvL7JNw"
   },
   "source": [
    "# Variational auto-encoders\n",
    "\n",
    "In this lab, you will look at variational auto-encoders."
   ]
  },
  {
   "cell_type": "code",
   "execution_count": 1,
   "metadata": {
    "colab": {
     "background_save": true
    },
    "execution": {
     "iopub.execute_input": "2023-06-01T13:12:28.036941Z",
     "iopub.status.busy": "2023-06-01T13:12:28.036534Z",
     "iopub.status.idle": "2023-06-01T13:12:31.648924Z",
     "shell.execute_reply": "2023-06-01T13:12:31.648051Z",
     "shell.execute_reply.started": "2023-06-01T13:12:28.036920Z"
    },
    "id": "EGR2ILHqv_Ci"
   },
   "outputs": [],
   "source": [
    "# Numpy library provides useful numeric computation utilities\n",
    "import numpy as np\n",
    "\n",
    "# We import Pyplot for its plotting utilities\n",
    "import matplotlib.pyplot as plt\n",
    "\n",
    "# We import torch, torch.nn and torchvision, since these provide the neural \n",
    "# network and image processing utilities we will use\n",
    "import torch\n",
    "import torch.nn as nn\n",
    "import torchvision\n",
    "\n",
    "# We also import the functional module of torch.nn, since it has some useful \n",
    "# functions implemented in Pytorch\n",
    "import torch.nn.functional as F\n",
    "\n",
    "# torchvision.transforms is used to load images into adequate Pytorch tensors.\n",
    "# It also provides some potentially useful utilities to transform images (more \n",
    "# on this later).\n",
    "import torchvision.transforms as transforms"
   ]
  },
  {
   "cell_type": "markdown",
   "metadata": {
    "id": "qzEsA0DI7Y9S"
   },
   "source": [
    "## Prepare the data\n",
    "We will again use the FashionMNIST dataset, which you encountered in previous labs:\n",
    "\n",
    "![<Image not loaded>](https://miro.medium.com/max/1400/1*RCXpLibVCgoRYckEd2kU8Q.png)\n",
    "\n",
    "Recall that FashionMNIST consists of a dataset of 60,000 training images and 10,000 test images. Each example is a 28&times;28 grayscale image, associated with a label from 10 classes, corresponding to a piece of clothing:\n",
    "\n",
    "| Label   |  0  |  1  |  2  |  3  |  4  |  5  |  6  |  7  |  8  |  9  | \n",
    "| ------- | --- | --- | --- | --- | --- | --- | --- | --- | --- | --- | \n",
    "| Object  | T-shirt | Trousers | Pull-over | Dress | Coat | Sandal | Shirt | Sneaker | Bag | Boot |\n",
    "\n",
    "We start by loading the dataset and then creating the associated dataloaders, which will be used to sample batches of images during training."
   ]
  },
  {
   "cell_type": "code",
   "execution_count": 2,
   "metadata": {
    "colab": {
     "background_save": true
    },
    "execution": {
     "iopub.execute_input": "2023-06-01T13:12:31.650119Z",
     "iopub.status.busy": "2023-06-01T13:12:31.649652Z",
     "iopub.status.idle": "2023-06-01T13:12:32.350526Z",
     "shell.execute_reply": "2023-06-01T13:12:32.349670Z",
     "shell.execute_reply.started": "2023-06-01T13:12:31.650098Z"
    },
    "id": "ww8DRMITwBXt"
   },
   "outputs": [],
   "source": [
    "# The images, once loaded, are transformed in two ways: \n",
    "#  - They are turned to tensors\n",
    "#  - They are normalized\n",
    "\n",
    "# We construct a \"transformator\" to perform those two things.\n",
    "transformator = transforms.Compose(\n",
    "    [transforms.ToTensor(),\n",
    "     transforms.Normalize((0.5,), (0.5,))])\n",
    "\n",
    "# We can now import the training and test data\n",
    "train_set = torchvision.datasets.FashionMNIST(root=\"./\", download=True, \n",
    "                                              train=True,\n",
    "                                              transform=transformator)\n",
    "\n",
    "valid_set = torchvision.datasets.FashionMNIST(root=\"./\", download=True, \n",
    "                                              train=False,\n",
    "                                              transform=transformator)\n",
    "\n",
    "# We now create our dataloaders\n",
    "train_loader = torch.utils.data.DataLoader(train_set, batch_size=64, shuffle=True)\n",
    "valid_loader = torch.utils.data.DataLoader(valid_set, batch_size=10000)"
   ]
  },
  {
   "cell_type": "markdown",
   "metadata": {
    "id": "36A-vrROMcx8"
   },
   "source": [
    "## VAE model\n",
    "\n",
    "We define our VAE model by defining the encoder and decoder, separately, and then putting the two together. We start with the decoder."
   ]
  },
  {
   "cell_type": "code",
   "execution_count": 3,
   "metadata": {
    "colab": {
     "background_save": true
    },
    "execution": {
     "iopub.execute_input": "2023-06-01T13:12:32.351715Z",
     "iopub.status.busy": "2023-06-01T13:12:32.351378Z",
     "iopub.status.idle": "2023-06-01T13:12:32.358189Z",
     "shell.execute_reply": "2023-06-01T13:12:32.356661Z",
     "shell.execute_reply.started": "2023-06-01T13:12:32.351698Z"
    },
    "id": "gUeb7fxH7jsz"
   },
   "outputs": [],
   "source": [
    "class decoder(nn.Module):\n",
    "    def __init__(self, latent_dim, hidden_dim, output_dim):\n",
    "        super().__init__()\n",
    "\n",
    "        self.layers = nn.Sequential(\n",
    "            nn.Linear(latent_dim, hidden_dim),\n",
    "            nn.ReLU(),\n",
    "            nn.Linear(hidden_dim, output_dim),\n",
    "            nn.Sigmoid()\n",
    "        )\n",
    "\n",
    "    def forward(self, input):\n",
    "        # input.size: (b, latent_dim)\n",
    "        # output.size: (b, output_dim)\n",
    "        return self.layers(input)"
   ]
  },
  {
   "cell_type": "markdown",
   "metadata": {
    "id": "bptH2TQ-80ZH"
   },
   "source": [
    "... and now the encoder."
   ]
  },
  {
   "cell_type": "code",
   "execution_count": 4,
   "metadata": {
    "colab": {
     "background_save": true
    },
    "execution": {
     "iopub.execute_input": "2023-06-01T13:12:32.362262Z",
     "iopub.status.busy": "2023-06-01T13:12:32.361549Z",
     "iopub.status.idle": "2023-06-01T13:12:32.374356Z",
     "shell.execute_reply": "2023-06-01T13:12:32.373192Z",
     "shell.execute_reply.started": "2023-06-01T13:12:32.362238Z"
    },
    "id": "CNTMRL9w83TH"
   },
   "outputs": [],
   "source": [
    "class encoder(nn.Module):\n",
    "    def __init__(self, input_dim, hidden_dim, latent_dim):\n",
    "        ''' input_dim is a list with the c x w x h of the input image.'''\n",
    "        super().__init__()\n",
    "\n",
    "        kernels = [5, 3]\n",
    "        channels = [5, 10]\n",
    "        pool = [2, 2]\n",
    "\n",
    "        # Get dimensions right\n",
    "        # - Output of conv layer 1\n",
    "        conv1 = [channels[0], \n",
    "                 input_dim[1] - kernels[0] + 1, \n",
    "                 input_dim[2] - kernels[0] + 1]\n",
    "        \n",
    "        # - Output of max-pool layer 1\n",
    "        maxp1 = [conv1[0], \n",
    "                 (conv1[1] - pool[0]) // pool[0] + 1, \n",
    "                 (conv1[2] - pool[0]) // pool[0] + 1]\n",
    "        \n",
    "        # - Output of conv layer 2\n",
    "        conv2 = [channels[1], \n",
    "                 maxp1[1] - kernels[1] + 1, \n",
    "                 maxp1[2] - kernels[1] + 1]\n",
    "        \n",
    "        # - Output of max-pool layer 2\n",
    "        maxp2 = [conv2[0],\n",
    "                 (conv2[1] - pool[1]) // pool[1] + 1, \n",
    "                 (conv2[2] - pool[1]) // pool[1] + 1]\n",
    "\n",
    "        # - Input to FC layer\n",
    "        flat = maxp2[0] * maxp2[1] * maxp2[2]\n",
    "\n",
    "        # Define convolutional encoder\n",
    "        self.layers = nn.Sequential(\n",
    "            nn.Conv2d(input_dim[0], channels[0], kernel_size=kernels[0]),\n",
    "            nn.MaxPool2d(pool[0]),\n",
    "            nn.ReLU(),\n",
    "            nn.Conv2d(channels[0],  channels[1], kernel_size=kernels[1]),\n",
    "            nn.MaxPool2d(pool[1]),\n",
    "            nn.ReLU(),\n",
    "            nn.Flatten(),\n",
    "            nn.Linear(flat, hidden_dim),\n",
    "            nn.ReLU(),\n",
    "        )\n",
    "\n",
    "        self.head_mu  = nn.Linear(hidden_dim, latent_dim)\n",
    "        self.head_var = nn.Linear(hidden_dim, latent_dim)\n",
    "\n",
    "    def forward(self, input):\n",
    "        # input.size: (batch, c, w, h)\n",
    "        \n",
    "        h = self.layers(input)\n",
    "        # h.size: (b, hidden_dim)\n",
    "\n",
    "        mu = self.head_mu(h)\n",
    "        # mu.size: (b, latent_dim)\n",
    "        \n",
    "        logvar = self.head_var(h)\n",
    "        # logvar.size: (b, latent_dim)\n",
    "\n",
    "        return mu, logvar"
   ]
  },
  {
   "cell_type": "markdown",
   "metadata": {
    "id": "_sAex945Ailv"
   },
   "source": [
    "We can put everything together to build our VAE model."
   ]
  },
  {
   "cell_type": "code",
   "execution_count": 5,
   "metadata": {
    "colab": {
     "background_save": true
    },
    "execution": {
     "iopub.execute_input": "2023-06-01T13:12:32.376715Z",
     "iopub.status.busy": "2023-06-01T13:12:32.376353Z",
     "iopub.status.idle": "2023-06-01T13:12:32.385632Z",
     "shell.execute_reply": "2023-06-01T13:12:32.384736Z",
     "shell.execute_reply.started": "2023-06-01T13:12:32.376697Z"
    },
    "id": "x6ZH5Np9An2c"
   },
   "outputs": [],
   "source": [
    "class VAE(nn.Module):\n",
    "    def __init__(self, input_dim, latent_dim, hidden_dim, output_dim):\n",
    "        ''' both input_dim and output_dim are lists [c, w, h].'''\n",
    "        super().__init__()\n",
    "\n",
    "        self.output_dim = output_dim\n",
    "\n",
    "        self.enc = encoder(input_dim, hidden_dim, latent_dim)\n",
    "        self.dec = decoder(latent_dim, hidden_dim, np.prod(output_dim))\n",
    "\n",
    "    def forward(self, input):\n",
    "        # input.size: (b, c, w, h)\n",
    "        mu_z, logvar_z = self.enc(input)\n",
    "        # mu_z.size: (b, latent_dim)\n",
    "        # logvar_z.size: (b, latent_dim)\n",
    "        \n",
    "        # Compute standard deviation\n",
    "        sigma_z = torch.exp(logvar_z / 2)\n",
    "        # sigma_z.size: (b, latent_dim)\n",
    "        \n",
    "        # Sample (0, 1) Gaussian tensor\n",
    "        eps = torch.randn(mu_z.size())\n",
    "        # eps.size: (b, latent_dim)\n",
    "\n",
    "        # Compute latent variable (reparametrization trick)\n",
    "        z = mu_z + eps * sigma_z\n",
    "        # z.size: (b, latent_dim)\n",
    "\n",
    "        # Run latent variable through decoder\n",
    "        mu_x = self.dec(z)\n",
    "        # mu_x.size: (b, output_dim)\n",
    "\n",
    "        # We reshape mu_x to the size of an image\n",
    "        mu_x = mu_x.view(-1, *output_dim)\n",
    "\n",
    "        return mu_x, mu_z, logvar_z"
   ]
  },
  {
   "cell_type": "markdown",
   "metadata": {
    "id": "HlJbqlPZF3aD"
   },
   "source": [
    "In order to train our VAE, we need to compute the loss from the ELBO. The next function does precisely that. Recall that the ELBO loss is given by\n",
    "\n",
    "$$L(w,\\theta)=\\log q_\\theta(z\\mid x)-\\log_{\\rm prior}(z)-\\log p_w(x\\mid z).$$\n",
    "\n",
    "The last term is just the negative log likelihood of the image x generated from z. The first term is the KL divergence between $q_\\theta$ and $p_{\\rm prior}$. We compute each of the two terms separately. Note that:\n",
    "\n",
    "* The negative log-likelihood of the image, $-\\log p_w(x\\mid z)$, corresponds to the mean squared error between $x$ and the mean of $p_w(\\cdot\\mid z)$ (up to a constant).\n",
    "* The KL divergence between $q_\\theta$ and the prior is simply\n",
    "\n",
    "$$ KL(q_\\theta, p_{\\rm prior})=-\\frac{1}{2}(\\log\\sigma_z^2-\\mu_z^2-\\sigma_z^2 + 1),$$\n",
    "\n",
    "where $\\mu_z$ and $\\sigma_z$ are the mean and standard deviation of $q_\\theta(\\cdot\\mid z)$. "
   ]
  },
  {
   "cell_type": "code",
   "execution_count": 6,
   "metadata": {
    "colab": {
     "background_save": true
    },
    "execution": {
     "iopub.execute_input": "2023-06-01T13:12:32.386541Z",
     "iopub.status.busy": "2023-06-01T13:12:32.386339Z",
     "iopub.status.idle": "2023-06-01T13:12:32.396645Z",
     "shell.execute_reply": "2023-06-01T13:12:32.395850Z",
     "shell.execute_reply.started": "2023-06-01T13:12:32.386523Z"
    },
    "id": "rwR7joHwGEnw"
   },
   "outputs": [],
   "source": [
    "def elbo_loss(x, mu_x, mu_z, logvar_z):\n",
    "    # The negative log-likelihood of x, up to a constant,\n",
    "    # corresponds to the mean-squared error between x and mu_x\n",
    "    nll = torch.sum(F.mse_loss(mu_x, x, reduction='none').view(x.shape[0], -1), dim=1) \n",
    "    # x.size: (b, c, w, h)\n",
    "    # mu_x.size: (b, c, w, h)\n",
    "\n",
    "    # The KLD between two Gaussians has a closed form, given by:\n",
    "    # \n",
    "    # KLD(p1 || p2) = log(s2 / s1) - 0.5 * (1 - ((mu1 - mu2) ** 2 + s1 ** 2) / s2 ** 2)\n",
    "    #\n",
    "    # In our case, since mu2 = 0 and s2 = 1 (the prior), we get\n",
    "    #\n",
    "    # KLD(p1 || p2) = -log(s1) - 0.5 * (1 - mu1 ** 2 + s1 ** 2)\n",
    "    # \n",
    "    # Finally, since \n",
    "    #   . log(s1) = 0.5 logvar_z\n",
    "    #   . s1 ** 2 = logvar_z.exp()\n",
    "    #   . mu1 = mu_z,\n",
    "    kld = torch.sum(-0.5 * (logvar_z - mu_z ** 2 - logvar_z.exp() + 1), dim=1)\n",
    "    # logvar_z.size: (b, latent_dim)\n",
    "    # mu_z.size: (b, latent_dim)\n",
    "\n",
    "    return torch.mean(nll + kld)"
   ]
  },
  {
   "cell_type": "markdown",
   "metadata": {
    "id": "3kEP0vaZLCK2"
   },
   "source": [
    "## Training and evaluation functions\n",
    "\n",
    "Much like in the previous labs, we define training and evaluation functions to help us keep track of the performance of our model. We start with the evaluation function."
   ]
  },
  {
   "cell_type": "code",
   "execution_count": 7,
   "metadata": {
    "colab": {
     "background_save": true
    },
    "execution": {
     "iopub.execute_input": "2023-06-01T13:12:32.397690Z",
     "iopub.status.busy": "2023-06-01T13:12:32.397485Z",
     "iopub.status.idle": "2023-06-01T13:12:32.405590Z",
     "shell.execute_reply": "2023-06-01T13:12:32.404739Z",
     "shell.execute_reply.started": "2023-06-01T13:12:32.397672Z"
    },
    "id": "1OGoS3nJLKX9"
   },
   "outputs": [],
   "source": [
    "def evaluate(net, Xbatch):\n",
    "  \n",
    "    # Compute batch size\n",
    "    batch_size = Xbatch.size(0)\n",
    "\n",
    "    # We set the network to \"evaluation mode\".\n",
    "    net.eval()\n",
    "\n",
    "    # We compute the mean output image\n",
    "    output, _, _ = net(Xbatch)\n",
    "\n",
    "    # Compute mean squared error of mean image\n",
    "    err = F.mse_loss(output, Xbatch).item()\n",
    "\n",
    "    # We reset the network back to training mode\n",
    "    net.train()\n",
    "    \n",
    "    return err"
   ]
  },
  {
   "cell_type": "code",
   "execution_count": 8,
   "metadata": {
    "colab": {
     "background_save": true
    },
    "execution": {
     "iopub.execute_input": "2023-06-01T13:12:32.406553Z",
     "iopub.status.busy": "2023-06-01T13:12:32.406352Z",
     "iopub.status.idle": "2023-06-01T13:12:32.414765Z",
     "shell.execute_reply": "2023-06-01T13:12:32.413197Z",
     "shell.execute_reply.started": "2023-06-01T13:12:32.406536Z"
    },
    "id": "gPdbk4-RL2bd"
   },
   "outputs": [],
   "source": [
    "def train_network(net, optimizer, dataloader, num_epochs=20):\n",
    "    \n",
    "    # We initialize a list to track the loss during training.\n",
    "    train_losses = []\n",
    "    valid_losses = []\n",
    "\n",
    "    for ep in range(num_epochs):\n",
    "        print('\\n- Training epoch: %i -' % ep)\n",
    "\n",
    "        # We use auxiliary variables to keep track of the loss within an epoch\n",
    "        running_loss = 0.\n",
    "        dataset_size = 0\n",
    "\n",
    "        for Xbatch, ybatch in dataloader:\n",
    "            batch_size = Xbatch.size(0)\n",
    "            dataset_size += batch_size\n",
    "            \n",
    "            # We zero-out the gradient\n",
    "            optimizer.zero_grad()\n",
    "\n",
    "            # Compute output\n",
    "            mu_x, mu_z, logvar_z = net(Xbatch)\n",
    "\n",
    "            # Get loss\n",
    "            l = elbo_loss(Xbatch, mu_x, mu_z, logvar_z)\n",
    "\n",
    "            # Compute gradient\n",
    "            l.backward()\n",
    "            \n",
    "            # Perform optimization step\n",
    "            optimizer.step()\n",
    "\n",
    "            # Update total running loss. We account for the number of points \n",
    "            # in the batch\n",
    "            running_loss += l.item() * batch_size\n",
    "             \n",
    "        train_losses += [running_loss / dataset_size]\n",
    "\n",
    "        # Loss in the validation set\n",
    "        val_x, val_y = next(iter(valid_loader))\n",
    "        val_err = evaluate(net, val_x)\n",
    "\n",
    "        valid_losses += [val_err]\n",
    "\n",
    "        print(f'Training loss: {train_losses[-1]:.4f}')\n",
    "        print(f'Validation loss: {valid_losses[-1]:.4f}')\n",
    "\n",
    "    return net, train_losses, valid_losses"
   ]
  },
  {
   "cell_type": "markdown",
   "metadata": {
    "id": "7V8Jfjr8EH8R"
   },
   "source": [
    "Let's train."
   ]
  },
  {
   "cell_type": "code",
   "execution_count": 9,
   "metadata": {
    "colab": {
     "base_uri": "https://localhost:8080/"
    },
    "execution": {
     "iopub.execute_input": "2023-06-01T13:12:32.415907Z",
     "iopub.status.busy": "2023-06-01T13:12:32.415682Z",
     "iopub.status.idle": "2023-06-01T13:19:01.805751Z",
     "shell.execute_reply": "2023-06-01T13:19:01.804813Z",
     "shell.execute_reply.started": "2023-06-01T13:12:32.415888Z"
    },
    "executionInfo": {
     "elapsed": 656673,
     "status": "ok",
     "timestamp": 1656119979345,
     "user": {
      "displayName": "Francisco Melo",
      "userId": "00306568718420504230"
     },
     "user_tz": -60
    },
    "id": "l2HkBmDKwSTL",
    "outputId": "77aaab5f-ef50-43c1-8868-a3939bd76ab9"
   },
   "outputs": [
    {
     "name": "stdout",
     "output_type": "stream",
     "text": [
      "\n",
      "- Training epoch: 0 -\n",
      "Training loss: 499.8859\n",
      "Validation loss: 0.6191\n",
      "\n",
      "- Training epoch: 1 -\n",
      "Training loss: 490.0862\n",
      "Validation loss: 0.6171\n",
      "\n",
      "- Training epoch: 2 -\n",
      "Training loss: 488.9825\n",
      "Validation loss: 0.6152\n",
      "\n",
      "- Training epoch: 3 -\n",
      "Training loss: 488.3815\n",
      "Validation loss: 0.6151\n",
      "\n",
      "- Training epoch: 4 -\n",
      "Training loss: 487.9547\n",
      "Validation loss: 0.6149\n",
      "\n",
      "- Training epoch: 5 -\n",
      "Training loss: 487.6216\n",
      "Validation loss: 0.6146\n",
      "\n",
      "- Training epoch: 6 -\n",
      "Training loss: 487.4003\n",
      "Validation loss: 0.6140\n",
      "\n",
      "- Training epoch: 7 -\n",
      "Training loss: 487.3319\n",
      "Validation loss: 0.6144\n",
      "\n",
      "- Training epoch: 8 -\n",
      "Training loss: 487.1754\n",
      "Validation loss: 0.6141\n",
      "\n",
      "- Training epoch: 9 -\n",
      "Training loss: 486.9662\n",
      "Validation loss: 0.6135\n",
      "\n",
      "- Training epoch: 10 -\n",
      "Training loss: 486.9155\n",
      "Validation loss: 0.6131\n",
      "\n",
      "- Training epoch: 11 -\n",
      "Training loss: 486.8204\n",
      "Validation loss: 0.6135\n",
      "\n",
      "- Training epoch: 12 -\n",
      "Training loss: 486.7316\n",
      "Validation loss: 0.6127\n",
      "\n",
      "- Training epoch: 13 -\n",
      "Training loss: 486.5982\n",
      "Validation loss: 0.6132\n",
      "\n",
      "- Training epoch: 14 -\n",
      "Training loss: 486.5838\n",
      "Validation loss: 0.6130\n",
      "\n",
      "- Training epoch: 15 -\n",
      "Training loss: 486.5251\n",
      "Validation loss: 0.6126\n",
      "\n",
      "- Training epoch: 16 -\n",
      "Training loss: 486.4642\n",
      "Validation loss: 0.6132\n",
      "\n",
      "- Training epoch: 17 -\n",
      "Training loss: 486.4724\n",
      "Validation loss: 0.6126\n",
      "\n",
      "- Training epoch: 18 -\n",
      "Training loss: 486.3791\n",
      "Validation loss: 0.6127\n",
      "\n",
      "- Training epoch: 19 -\n",
      "Training loss: 486.3528\n",
      "Validation loss: 0.6122\n"
     ]
    }
   ],
   "source": [
    "input_dim = [1, 28, 28]\n",
    "latent_dim = 2 # Very small latent space\n",
    "hidden_dim = 256\n",
    "output_dim = input_dim\n",
    "\n",
    "# We create our VAE model\n",
    "vae = VAE(input_dim, latent_dim, hidden_dim, output_dim)\n",
    "\n",
    "# We use stochastic gradient descent as the optimizer\n",
    "adam = torch.optim.Adam(vae.parameters(), lr=0.005)\n",
    "\n",
    "vae, train_loss, valid_loss = train_network(vae, adam, train_loader, num_epochs=20)"
   ]
  },
  {
   "cell_type": "code",
   "execution_count": 10,
   "metadata": {
    "colab": {
     "base_uri": "https://localhost:8080/",
     "height": 541
    },
    "execution": {
     "iopub.execute_input": "2023-06-01T13:19:01.807499Z",
     "iopub.status.busy": "2023-06-01T13:19:01.807150Z",
     "iopub.status.idle": "2023-06-01T13:19:02.102866Z",
     "shell.execute_reply": "2023-06-01T13:19:02.101870Z",
     "shell.execute_reply.started": "2023-06-01T13:19:01.807459Z"
    },
    "executionInfo": {
     "elapsed": 591,
     "status": "ok",
     "timestamp": 1656119979921,
     "user": {
      "displayName": "Francisco Melo",
      "userId": "00306568718420504230"
     },
     "user_tz": -60
    },
    "id": "RvXQs16RPKuL",
    "outputId": "f8872ef2-0f13-45ae-ee16-b29f5318fcc9"
   },
   "outputs": [
    {
     "data": {
      "image/png": "[encoded data removed]",
      "text/plain": [
       "<Figure size 640x480 with 1 Axes>"
      ]
     },
     "metadata": {},
     "output_type": "display_data"
    },
    {
     "data": {
      "image/png": "[encoded data removed]",
      "text/plain": [
       "<Figure size 640x480 with 1 Axes>"
      ]
     },
     "metadata": {},
     "output_type": "display_data"
    }
   ],
   "source": [
    "plt.figure()\n",
    "plt.plot(train_loss, 'k-')\n",
    "plt.xlabel('N. epochs')\n",
    "plt.ylabel('ELBO loss')\n",
    "plt.show()\n",
    "\n",
    "plt.figure()\n",
    "plt.plot(valid_loss, 'k-')\n",
    "plt.xlabel('N. epochs')\n",
    "plt.ylabel('MSE validation loss')\n",
    "plt.show()"
   ]
  },
  {
   "cell_type": "markdown",
   "metadata": {
    "id": "wRiQEHHPVMLO"
   },
   "source": [
    "Let's observe some generated images."
   ]
  },
  {
   "cell_type": "code",
   "execution_count": 19,
   "metadata": {
    "colab": {
     "base_uri": "https://localhost:8080/",
     "height": 134
    },
    "execution": {
     "iopub.execute_input": "2023-06-01T13:48:33.294609Z",
     "iopub.status.busy": "2023-06-01T13:48:33.294354Z",
     "iopub.status.idle": "2023-06-01T13:48:33.443050Z",
     "shell.execute_reply": "2023-06-01T13:48:33.442238Z",
     "shell.execute_reply.started": "2023-06-01T13:48:33.294591Z"
    },
    "executionInfo": {
     "elapsed": 910,
     "status": "ok",
     "timestamp": 1656121099421,
     "user": {
      "displayName": "Francisco Melo",
      "userId": "00306568718420504230"
     },
     "user_tz": -60
    },
    "id": "ihTxUyl_VN5I",
    "outputId": "d39c1189-3fcc-4f05-f429-88c2444d76f3",
    "tags": []
   },
   "outputs": [
    {
     "data": {
      "image/png": "[encoded data removed]",
      "text/plain": [
       "<Figure size 1500x1000 with 1 Axes>"
      ]
     },
     "metadata": {},
     "output_type": "display_data"
    }
   ],
   "source": [
    "grid = []\n",
    "\n",
    "for _ in range(10):\n",
    "    z = torch.randn(1, 2)\n",
    "    mu_x = vae.dec(z).reshape(28, 28).detach().numpy()\n",
    "    grid += [mu_x]\n",
    "\n",
    "grid = np.hstack(grid)\n",
    "\n",
    "# To plot the sample, we create a grid\n",
    "plt.figure(figsize=(15, 10))\n",
    "\n",
    "# Plot the samples\n",
    "plt.imshow(grid, cmap='gray')\n",
    "plt.show()"
   ]
  },
  {
   "cell_type": "code",
   "execution_count": 31,
   "metadata": {
    "execution": {
     "iopub.execute_input": "2023-06-01T13:49:12.366428Z",
     "iopub.status.busy": "2023-06-01T13:49:12.364566Z",
     "iopub.status.idle": "2023-06-01T13:49:12.526261Z",
     "shell.execute_reply": "2023-06-01T13:49:12.525043Z",
     "shell.execute_reply.started": "2023-06-01T13:49:12.366406Z"
    },
    "tags": []
   },
   "outputs": [
    {
     "data": {
      "image/png": "[encoded data removed]",
      "text/plain": [
       "<Figure size 1500x2000 with 1 Axes>"
      ]
     },
     "metadata": {},
     "output_type": "display_data"
    }
   ],
   "source": [
    "grid = []\n",
    "\n",
    "n_steps = 20\n",
    "ii=0\n",
    "jj=2\n",
    "for ii in torch.linspace(-4, 4, n_steps):\n",
    "    dim1_change = ii\n",
    "    dim2_change = jj\n",
    "    z = torch.tensor(\n",
    "        [[0, 0]]) + torch.tensor([[dim1_change, dim2_change]])\n",
    "    mu_x = vae.dec(z).reshape(28, 28).detach().numpy()\n",
    "    grid += [mu_x]\n",
    "\n",
    "grid = np.hstack(grid)\n",
    "\n",
    "# To plot the sample, we create a grid\n",
    "plt.figure(figsize=(15, n_steps))\n",
    "\n",
    "# Plot the samples\n",
    "plt.imshow(grid, cmap='gray')\n",
    "plt.show()"
   ]
  },
  {
   "cell_type": "markdown",
   "metadata": {
    "id": "x8aK8fZxWxrK"
   },
   "source": [
    "# Activities\n",
    "\n",
    "1. Today we covered deep generative models, such as VAEs and GANs. GANs, in particular, have the ability to generate very realistic synthetic data. Identify one possible ethical challenge involved with this type of models, explaining your reasoning.\n",
    "\n",
    "2. Why is discrimination bias a problem for deep learning technology? Support your argument with a possible real-world scenario.\n",
    "\n",
    "3. One of the ethical challenges that was discussed today was related with _accessibility_, which we discussed in particular in the context of natural language processing. Can you identify another domain in which accessibility of deep learning technology (or lack thereof) can contribute to accentuate inequality or unfairness?"
   ]
  }
 ],
 "metadata": {
  "colab": {
   "authorship_tag": "ABX9TyMMc8uI9ADMpPtMnlZXqrcm",
   "collapsed_sections": [],
   "name": "Lab5.ipynb",
   "version": ""
  },
  "gpuClass": "standard",
  "kernelspec": {
   "display_name": "Python 3 (ipykernel)",
   "language": "python",
   "name": "python3"
  },
  "language_info": {
   "codemirror_mode": {
    "name": "ipython",
    "version": 3
   },
   "file_extension": ".py",
   "mimetype": "text/x-python",
   "name": "python",
   "nbconvert_exporter": "python",
   "pygments_lexer": "ipython3",
   "version": "3.10.11"
  }
 },
 "nbformat": 4,
 "nbformat_minor": 4
}
