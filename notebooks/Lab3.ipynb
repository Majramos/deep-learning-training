{
 "cells": [
  {
   "cell_type": "markdown",
   "metadata": {
    "id": "l8jx134dakEm"
   },
   "source": [
    "# Recurrent Neural Networks\n",
    "\n",
    "In this lab, we will look at recurrent neural networks, and their use in natural language processing tasks. We will use RNNs both for sequence classification, and in a sequence-to-sequence model."
   ]
  },
  {
   "cell_type": "markdown",
   "metadata": {
    "id": "v7_tMzMAdxf6"
   },
   "source": [
    "## Preparation\n",
    "\n",
    "We start by importing the libraries that we will use throughout."
   ]
  },
  {
   "cell_type": "code",
   "execution_count": 1,
   "metadata": {
    "execution": {
     "iopub.execute_input": "2023-05-26T12:03:11.266302Z",
     "iopub.status.busy": "2023-05-26T12:03:11.264953Z",
     "iopub.status.idle": "2023-05-26T12:03:13.610545Z",
     "shell.execute_reply": "2023-05-26T12:03:13.609693Z",
     "shell.execute_reply.started": "2023-05-26T12:03:11.266242Z"
    },
    "executionInfo": {
     "elapsed": 265,
     "status": "ok",
     "timestamp": 1654594114799,
     "user": {
      "displayName": "Francisco Melo",
      "userId": "00306568718420504230"
     },
     "user_tz": -60
    },
    "id": "aWvGUgnDabis",
    "tags": []
   },
   "outputs": [],
   "source": [
    "# Numpy library provides useful numeric computation utilities\n",
    "import numpy as np\n",
    "\n",
    "# We import Pyplot for its plotting utilities\n",
    "import matplotlib.pyplot as plt\n",
    "\n",
    "# We also import some randomization utilities from the random library\n",
    "from random import shuffle, choice\n",
    "\n",
    "# ... and a fancy progress bar\n",
    "from tqdm import tqdm\n",
    "\n",
    "# We import torch and torch.nn for the neural network utilities we will use\n",
    "import torch\n",
    "import torch.nn as nn\n",
    "\n",
    "# We also import Pytorch data-handling utilities\n",
    "import torch.utils.data as datautils\n",
    "\n",
    "# In the previous labs, we used the torchvision module, which provided image\n",
    "# processing utilities. Today we will use the torchtext module, which provides\n",
    "# text processing utilities\n",
    "\n",
    "from torchtext import data, datasets"
   ]
  },
  {
   "cell_type": "markdown",
   "metadata": {
    "id": "PRF7z7hC9_Yh"
   },
   "source": [
    "To make our life easier further ahead, we create an auxiliary function to evaluate a network given a batch of data and a loss function. The is called `evaluate` and receives, as arguments,\n",
    "\n",
    "* The neural network\n",
    "* The input batch\n",
    "* The output batch\n",
    "* The loss function\n",
    "\n",
    "The function returns both the loss and the accuracy of the network in the batch."
   ]
  },
  {
   "cell_type": "code",
   "execution_count": 2,
   "metadata": {
    "execution": {
     "iopub.execute_input": "2023-05-26T12:03:13.611785Z",
     "iopub.status.busy": "2023-05-26T12:03:13.611407Z",
     "iopub.status.idle": "2023-05-26T12:03:13.619279Z",
     "shell.execute_reply": "2023-05-26T12:03:13.617792Z",
     "shell.execute_reply.started": "2023-05-26T12:03:13.611765Z"
    },
    "executionInfo": {
     "elapsed": 5,
     "status": "ok",
     "timestamp": 1654594115088,
     "user": {
      "displayName": "Francisco Melo",
      "userId": "00306568718420504230"
     },
     "user_tz": -60
    },
    "id": "NcyrGU80-WhJ",
    "tags": []
   },
   "outputs": [],
   "source": [
    "def evaluate(net, dataset, loss):\n",
    "  \n",
    "    # Compute dataset size\n",
    "    dataset_size = len(dataset)\n",
    "\n",
    "    # We first set the network to \"evaluation mode\". This is useful, for \n",
    "    # example, in dropout layers, which should behave differently in training \n",
    "    # and evaluation.\n",
    "    net.eval()\n",
    "\n",
    "    l = 0\n",
    "    acc = 0\n",
    "\n",
    "    # We compute both scores and labels\n",
    "    for X, y in dataset:\n",
    "        output = net(X)\n",
    "        _, label = torch.max(output, dim=1)\n",
    "\n",
    "        # Compute loss\n",
    "        l += loss(output, y).item()\n",
    "            \n",
    "        # Compute accuracy\n",
    "        acc += (label == y).double().item()\n",
    "\n",
    "    # Average\n",
    "    l = l / dataset_size\n",
    "    acc = acc / dataset_size\n",
    "    \n",
    "    # We reset the network back to training mode\n",
    "    net.train()\n",
    "    \n",
    "    return l, acc"
   ]
  },
  {
   "cell_type": "markdown",
   "metadata": {
    "id": "7IpfC2QyUvmh"
   },
   "source": [
    "We also define a general function to be used when training a neural network. We call the function `train_network`. The function shall receive, as arguments:\n",
    "\n",
    "* The neural network\n",
    "* The loss function\n",
    "* The optimizer\n",
    "* The training data loader\n",
    "\n",
    "We'll also include an optional parameter to specify the number of epochs (we'll use 20 as the default value)."
   ]
  },
  {
   "cell_type": "code",
   "execution_count": 3,
   "metadata": {
    "execution": {
     "iopub.execute_input": "2023-05-26T12:03:13.622185Z",
     "iopub.status.busy": "2023-05-26T12:03:13.621554Z",
     "iopub.status.idle": "2023-05-26T12:03:13.636944Z",
     "shell.execute_reply": "2023-05-26T12:03:13.635132Z",
     "shell.execute_reply.started": "2023-05-26T12:03:13.622150Z"
    },
    "executionInfo": {
     "elapsed": 5,
     "status": "ok",
     "timestamp": 1654594115089,
     "user": {
      "displayName": "Francisco Melo",
      "userId": "00306568718420504230"
     },
     "user_tz": -60
    },
    "id": "8ZQERgBtUtqd",
    "tags": []
   },
   "outputs": [],
   "source": [
    "def train_network(net, loss, optimizer, dataset, num_epochs=20):\n",
    "    \n",
    "    # We start by initializing two lists, to track the loss and accuracy during\n",
    "    # training.\n",
    "    train_losses = []\n",
    "    train_accuracies = []\n",
    "\n",
    "    valid_losses = []\n",
    "    valid_accuracies = []\n",
    "\n",
    "    for ep in range(num_epochs):\n",
    "        print('\\n- Training epoch: %i -' % ep)\n",
    "\n",
    "        # We use auxiliary variables to keep track of loss and accuracy within \n",
    "        # an epoch\n",
    "        running_loss = 0.\n",
    "        running_acc  = 0.\n",
    "\n",
    "        for X, y in dataset:\n",
    "\n",
    "            # We zero-out the gradient\n",
    "            optimizer.zero_grad()\n",
    "\n",
    "            # Compute output\n",
    "            output = net(X)\n",
    "\n",
    "            # Our outputs are *scores*, so we also compute the predicted labels, \n",
    "            # since we need them to check the accuracy\n",
    "            #\n",
    "            # To that purpose, we compute the class that maximizes the score. \n",
    "            # The max function returns both the maximum value, and the \n",
    "            # maximizing entry. We care only about the latter, so we ignore the \n",
    "            # first output. \n",
    "            #\n",
    "            # Also, recall that the dimensions of the output are \n",
    "            # (batch size, n. classes). We take the maximum over the first \n",
    "            # dimension\n",
    "            _, label = torch.max(output, dim=1)\n",
    "\n",
    "            # Get loss\n",
    "            l = loss(output, y)\n",
    "\n",
    "            # Compute gradient\n",
    "            l.backward()\n",
    "            \n",
    "            # Perform optimization step\n",
    "            optimizer.step()\n",
    "\n",
    "            # Update total running loss. We account for the number of points \n",
    "            # in the batch\n",
    "            running_loss += l.item()\n",
    "             \n",
    "            # Update the accuracy\n",
    "            running_acc += (label == y.data).double().item()\n",
    "\n",
    "        train_losses += [running_loss / len(dataset)]\n",
    "        train_accuracies += [running_acc / len(dataset)]\n",
    "\n",
    "        # Loss and accuracy in the validation set\n",
    "        aux_l, aux_a = evaluate(net, valid_set, loss)\n",
    "\n",
    "        valid_losses += [aux_l]\n",
    "        valid_accuracies += [aux_a]\n",
    "\n",
    "        print(f'Training loss: {train_losses[-1]:.4f}')\n",
    "        print(f'Training accuracy: {train_accuracies[-1]:.1%}')\n",
    "        print(f'Validation loss: {valid_losses[-1]:.4f}')\n",
    "        print(f'Validation accuracy: {valid_accuracies[-1]:.1%}')\n",
    "\n",
    "    return net, train_losses, train_accuracies, valid_losses, valid_accuracies"
   ]
  },
  {
   "cell_type": "markdown",
   "metadata": {
    "id": "2jeYAYgpdm7Q"
   },
   "source": [
    "## Preparing the dataset\n",
    "\n",
    "The data we will be using today is available in the files `train_data.csv` and `test_data.csv` that you can find in the course's website. Download the files to your local computer and then follow the following instructions:\n",
    "\n",
    "1. Go to the files tab in the Colab window:\n",
    "\n",
    "<img src=\"https://drive.google.com/uc?id=1dRfyvq3z_kSjFhkXumKnuIpqVlFj84YA\"\n",
    "     alt=\"Image not loaded!\"\n",
    "     width=600 />\n",
    "\n",
    "2. Right click anywhere on the left panel and select \"Upload\":\n",
    "\n",
    "<img src=\"https://drive.google.com/uc?id=1McH8TMEk6Ts7ZImNlBoGr2Km1HJz3kr6\"\n",
    "     alt=\"Image not loaded!\"\n",
    "     width=600 />\n",
    "\n",
    "3. Locate in your computer the files `train_data.csv` and `test_data.csv`  that you just downloaded. After it uploads, you should see them on the files panel:\n",
    "\n",
    "<img src=\"https://drive.google.com/uc?id=1D5gXJl5DYZyC0ipgUJLV7lPoqmOdV4NS\"\n",
    "     alt=\"Image not loaded!\"\n",
    "     width=600 />\n",
    "\n",
    "We can now use the data in this file as our dataset. The file contains a list of last names from 4 different languages (English, French, Portuguese, and Spanish), and the corresponding language, from\n",
    "\n",
    "* English\n",
    "* French\n",
    "* Portuguese\n",
    "* Spanish\n",
    "\n",
    "We will also encode each name in the file as a sequence of vectors, where each vector corresponds to a letter in the name, and represents that letter using one-hot encoding. To that purpose, we define the set of all letters and run through the dataset to create our encoded sequences of letters."
   ]
  },
  {
   "cell_type": "code",
   "execution_count": 4,
   "metadata": {
    "execution": {
     "iopub.execute_input": "2023-05-26T12:03:13.643581Z",
     "iopub.status.busy": "2023-05-26T12:03:13.642020Z",
     "iopub.status.idle": "2023-05-26T12:03:13.654294Z",
     "shell.execute_reply": "2023-05-26T12:03:13.651873Z",
     "shell.execute_reply.started": "2023-05-26T12:03:13.643528Z"
    },
    "executionInfo": {
     "elapsed": 5,
     "status": "ok",
     "timestamp": 1654594115089,
     "user": {
      "displayName": "Francisco Melo",
      "userId": "00306568718420504230"
     },
     "user_tz": -60
    },
    "id": "K9SCqr-7rMNq",
    "tags": []
   },
   "outputs": [],
   "source": [
    "import string\n",
    "\n",
    "LABELS = ['English', 'French', 'Portuguese', 'Spanish']\n",
    "LETTERS = list(string.ascii_letters + \" .,;'-\") + ['<eos>']\n",
    "\n",
    "def input_encoding(input_str):\n",
    "    ''' Receives a string as input and returns, as output, a Pytorch tensor\n",
    "        containing the one-hot encoding of the provided string.'''\n",
    "\n",
    "    one_hot_string = torch.zeros(len(input_str), 1, len(LETTERS), dtype=torch.float)\n",
    "    \n",
    "    for letter_idx in range(len(input_str)):\n",
    "        letter = input_str[letter_idx]\n",
    "        one_hot_string[letter_idx][0][LETTERS.index(letter)] = 1\n",
    "\n",
    "    return one_hot_string\n",
    "\n",
    "def label_encoding(output_str):\n",
    "    ''' Receives a string as input and returns, as output, a Pytorch tensor\n",
    "        containing the one-hot encoding of the provided label string.'''\n",
    "\n",
    "    one_hot_label = torch.zeros(1, len(LABELS), dtype=torch.float)\n",
    "    label_idx = LABELS.index(output_str)\n",
    "    one_hot_label[0][label_idx] = 1\n",
    "\n",
    "    return one_hot_label"
   ]
  },
  {
   "cell_type": "markdown",
   "metadata": {
    "id": "fufhIyctBcCP"
   },
   "source": [
    "We are now going to create a custom dataset. We create a subclass of Pytorch's `Dataset` class, and write down the `__init__`, `__len__`, and `__getitem__` methods. \n",
    "\n",
    "We thus load the file `names_data.csv` that we just uploaded and then use the data in it to create the dataset."
   ]
  },
  {
   "cell_type": "code",
   "execution_count": 5,
   "metadata": {
    "execution": {
     "iopub.execute_input": "2023-05-26T12:03:13.657800Z",
     "iopub.status.busy": "2023-05-26T12:03:13.657411Z",
     "iopub.status.idle": "2023-05-26T12:03:13.940156Z",
     "shell.execute_reply": "2023-05-26T12:03:13.939161Z",
     "shell.execute_reply.started": "2023-05-26T12:03:13.657780Z"
    },
    "executionInfo": {
     "elapsed": 4,
     "status": "ok",
     "timestamp": 1654594115089,
     "user": {
      "displayName": "Francisco Melo",
      "userId": "00306568718420504230"
     },
     "user_tz": -60
    },
    "id": "w3UYdxDzCLAK",
    "tags": []
   },
   "outputs": [],
   "source": [
    "# To make our life easier, we use Pandas to load the csv file\n",
    "import pandas as pd\n",
    "\n",
    "# We now create our custom class\n",
    "class NamesDataset(datautils.Dataset):\n",
    "    def __init__(self, names_file):\n",
    "\n",
    "        # We load the data from the csv file\n",
    "        name_data = pd.read_csv(names_file)\n",
    "        \n",
    "        # We create a list to store the input and output pairs\n",
    "        self.samples = []\n",
    "\n",
    "        # We run through the data in the Dataframe and fill in both lists\n",
    "        for idx in range(len(name_data)):\n",
    "            name  = input_encoding(name_data['Name'][idx])\n",
    "            label = torch.tensor([LABELS.index(name_data['Label'][idx])])\n",
    "\n",
    "            self.samples += [(name, label)]\n",
    "\n",
    "        shuffle(self.samples)\n",
    "\n",
    "    def __len__(self):\n",
    "        return len(self.samples)\n",
    "\n",
    "    def __getitem__(self, idx):\n",
    "        return self.samples[idx]"
   ]
  },
  {
   "cell_type": "markdown",
   "metadata": {
    "id": "WasZteXkFu7e"
   },
   "source": [
    "We can now create a dataset."
   ]
  },
  {
   "cell_type": "code",
   "execution_count": 6,
   "metadata": {
    "execution": {
     "iopub.execute_input": "2023-05-26T12:03:13.941551Z",
     "iopub.status.busy": "2023-05-26T12:03:13.941280Z",
     "iopub.status.idle": "2023-05-26T12:03:14.379418Z",
     "shell.execute_reply": "2023-05-26T12:03:14.378237Z",
     "shell.execute_reply.started": "2023-05-26T12:03:13.941534Z"
    },
    "executionInfo": {
     "elapsed": 588,
     "status": "ok",
     "timestamp": 1654594115673,
     "user": {
      "displayName": "Francisco Melo",
      "userId": "00306568718420504230"
     },
     "user_tz": -60
    },
    "id": "nscUGkkeF24a",
    "tags": []
   },
   "outputs": [],
   "source": [
    "train_set = NamesDataset('train_data.csv')\n",
    "valid_set = NamesDataset('test_data.csv')"
   ]
  },
  {
   "cell_type": "markdown",
   "metadata": {
    "id": "3T7ImXKHK5hM"
   },
   "source": [
    "## Creating a Recurrent Neural Network\n",
    "\n",
    "We start by creating a very simple recurrent neural network. Recall that, in a standard feedforward network with a single hidden layer, we have\n",
    "\n",
    "$$h = F_1(W_1 x)$$\n",
    "$$y = F_o(W_o h)$$\n",
    "\n",
    "In a recurrent network, we have that\n",
    "\n",
    "$$h = F_1(W_{1x}x+W_{1h}h)$$\n",
    "$$y = F_o(W_o h)$$\n",
    "\n",
    "We therefore implement this architecture directly."
   ]
  },
  {
   "cell_type": "code",
   "execution_count": 7,
   "metadata": {
    "execution": {
     "iopub.execute_input": "2023-05-26T12:03:14.381716Z",
     "iopub.status.busy": "2023-05-26T12:03:14.381187Z",
     "iopub.status.idle": "2023-05-26T12:03:14.393461Z",
     "shell.execute_reply": "2023-05-26T12:03:14.392251Z",
     "shell.execute_reply.started": "2023-05-26T12:03:14.381685Z"
    },
    "executionInfo": {
     "elapsed": 256,
     "status": "ok",
     "timestamp": 1654594131840,
     "user": {
      "displayName": "Francisco Melo",
      "userId": "00306568718420504230"
     },
     "user_tz": -60
    },
    "id": "gOHKON2yK8Xj",
    "tags": []
   },
   "outputs": [],
   "source": [
    "class RecurrentNetwork(nn.Module):\n",
    "    def __init__(self, input_size, hidden_size, output_size, dropout=0.2):\n",
    "        ''' The hidden_size indicate the size of the recurrent network's \n",
    "            hidden state. '''\n",
    "\n",
    "        # As in last week's architecture, we start by calling the constructor \n",
    "        # of the parent class\n",
    "        super().__init__()\n",
    "\n",
    "        # Dimension of the RNN's hidden state, necessary for \n",
    "        # hidden state initialization\n",
    "        self.hidden_size = hidden_size\n",
    "\n",
    "        # We now create a first layer that receives as input the \n",
    "        # network's input and the output of the hidden layer itself\n",
    "        self.i2h_layer = nn.Linear(input_size + hidden_size, hidden_size)\n",
    "\n",
    "        # We use tanh as the non-linearity\n",
    "        self.tanh = nn.Tanh()\n",
    "\n",
    "        # The second layer is the output layer. It receives the hidden state\n",
    "        # as input and computes the output\n",
    "        self.h2o_layer = nn.Linear(hidden_size, output_size)\n",
    "\n",
    "        # We also create a dropout layer, just because\n",
    "        self.drop_layer = nn.Dropout(dropout)\n",
    "\n",
    "        self.hidden_init = nn.Parameter(torch.zeros(1, hidden_size))\n",
    "\n",
    "    # We write down an auxiliary method that performs a single pass through\n",
    "    # the network\n",
    "    def single_pass(self, input, hidden):\n",
    "        z1 = self.i2h_layer(torch.cat((self.drop_layer(input), hidden), 1))\n",
    "        h1 = self.tanh(z1)\n",
    "        out = self.h2o_layer(h1)\n",
    "\n",
    "        return out, h1\n",
    "\n",
    "    def forward(self, input):\n",
    "        # Initialize the hidden state\n",
    "        h = self.hidden_init\n",
    "\n",
    "        for x in input:\n",
    "            out, h = self.single_pass(x, h)\n",
    "\n",
    "        # We need only to return the last output\n",
    "        return out"
   ]
  },
  {
   "cell_type": "markdown",
   "metadata": {
    "id": "PwaaJoBMRDlx"
   },
   "source": [
    "## Training our neural network\n",
    "\n",
    "We now train our neural network on our names dataset. The process is, in all aspects, similar to the one from last week's lab. We have only to define the loss and optimizer."
   ]
  },
  {
   "cell_type": "code",
   "execution_count": 8,
   "metadata": {
    "colab": {
     "base_uri": "https://localhost:8080/"
    },
    "execution": {
     "iopub.execute_input": "2023-05-26T12:03:14.394982Z",
     "iopub.status.busy": "2023-05-26T12:03:14.394696Z",
     "iopub.status.idle": "2023-05-26T12:06:58.814635Z",
     "shell.execute_reply": "2023-05-26T12:06:58.813477Z",
     "shell.execute_reply.started": "2023-05-26T12:03:14.394962Z"
    },
    "executionInfo": {
     "elapsed": 96714,
     "status": "ok",
     "timestamp": 1654594302817,
     "user": {
      "displayName": "Francisco Melo",
      "userId": "00306568718420504230"
     },
     "user_tz": -60
    },
    "id": "NVs5VYwERNi8",
    "outputId": "753d5743-124e-4d0b-c911-a43daac191ac",
    "scrolled": true,
    "tags": []
   },
   "outputs": [
    {
     "name": "stdout",
     "output_type": "stream",
     "text": [
      "\n",
      "- Training epoch: 0 -\n",
      "Training loss: 0.5185\n",
      "Training accuracy: 85.7%\n",
      "Validation loss: 0.4375\n",
      "Validation accuracy: 86.5%\n",
      "\n",
      "- Training epoch: 1 -\n",
      "Training loss: 0.4489\n",
      "Training accuracy: 87.4%\n",
      "Validation loss: 0.3735\n",
      "Validation accuracy: 88.4%\n",
      "\n",
      "- Training epoch: 2 -\n",
      "Training loss: 0.4309\n",
      "Training accuracy: 87.3%\n",
      "Validation loss: 0.3620\n",
      "Validation accuracy: 89.0%\n",
      "\n",
      "- Training epoch: 3 -\n",
      "Training loss: 0.4321\n",
      "Training accuracy: 87.4%\n",
      "Validation loss: 0.3737\n",
      "Validation accuracy: 88.0%\n",
      "\n",
      "- Training epoch: 4 -\n",
      "Training loss: 0.4126\n",
      "Training accuracy: 87.6%\n",
      "Validation loss: 0.3804\n",
      "Validation accuracy: 88.4%\n",
      "\n",
      "- Training epoch: 5 -\n",
      "Training loss: 0.4060\n",
      "Training accuracy: 87.8%\n",
      "Validation loss: 0.3744\n",
      "Validation accuracy: 89.5%\n",
      "\n",
      "- Training epoch: 6 -\n",
      "Training loss: 0.4112\n",
      "Training accuracy: 87.2%\n",
      "Validation loss: 0.3441\n",
      "Validation accuracy: 88.9%\n",
      "\n",
      "- Training epoch: 7 -\n",
      "Training loss: 0.4060\n",
      "Training accuracy: 87.4%\n",
      "Validation loss: 0.3499\n",
      "Validation accuracy: 89.1%\n",
      "\n",
      "- Training epoch: 8 -\n",
      "Training loss: 0.3941\n",
      "Training accuracy: 87.9%\n",
      "Validation loss: 0.3377\n",
      "Validation accuracy: 89.4%\n",
      "\n",
      "- Training epoch: 9 -\n",
      "Training loss: 0.3973\n",
      "Training accuracy: 87.6%\n",
      "Validation loss: 0.3474\n",
      "Validation accuracy: 89.6%\n",
      "\n",
      "- Training epoch: 10 -\n",
      "Training loss: 0.3869\n",
      "Training accuracy: 87.8%\n",
      "Validation loss: 0.3514\n",
      "Validation accuracy: 89.1%\n",
      "\n",
      "- Training epoch: 11 -\n",
      "Training loss: 0.3947\n",
      "Training accuracy: 87.6%\n",
      "Validation loss: 0.3351\n",
      "Validation accuracy: 89.7%\n",
      "\n",
      "- Training epoch: 12 -\n",
      "Training loss: 0.3903\n",
      "Training accuracy: 87.6%\n",
      "Validation loss: 0.3592\n",
      "Validation accuracy: 88.9%\n",
      "\n",
      "- Training epoch: 13 -\n",
      "Training loss: 0.3899\n",
      "Training accuracy: 87.5%\n",
      "Validation loss: 0.3607\n",
      "Validation accuracy: 88.6%\n",
      "\n",
      "- Training epoch: 14 -\n",
      "Training loss: 0.3889\n",
      "Training accuracy: 87.7%\n",
      "Validation loss: 0.3547\n",
      "Validation accuracy: 89.2%\n",
      "\n",
      "- Training epoch: 15 -\n",
      "Training loss: 0.3893\n",
      "Training accuracy: 87.4%\n",
      "Validation loss: 0.3614\n",
      "Validation accuracy: 88.6%\n",
      "\n",
      "- Training epoch: 16 -\n",
      "Training loss: 0.3973\n",
      "Training accuracy: 87.5%\n",
      "Validation loss: 0.3487\n",
      "Validation accuracy: 89.4%\n",
      "\n",
      "- Training epoch: 17 -\n",
      "Training loss: 0.4044\n",
      "Training accuracy: 87.0%\n",
      "Validation loss: 0.3635\n",
      "Validation accuracy: 88.8%\n",
      "\n",
      "- Training epoch: 18 -\n",
      "Training loss: 0.4071\n",
      "Training accuracy: 87.2%\n",
      "Validation loss: 0.3776\n",
      "Validation accuracy: 88.5%\n",
      "\n",
      "- Training epoch: 19 -\n",
      "Training loss: 0.4017\n",
      "Training accuracy: 87.7%\n",
      "Validation loss: 0.3738\n",
      "Validation accuracy: 88.6%\n"
     ]
    }
   ],
   "source": [
    "# We create a recurrent network with 128 hidden units\n",
    "rnn = RecurrentNetwork(len(LETTERS), 128, len(LABELS), dropout=0.2)\n",
    "\n",
    "# We use the cross-entropy loss\n",
    "loss = nn.CrossEntropyLoss()\n",
    "\n",
    "# ... and Adam as the optimizer\n",
    "optim = torch.optim.Adam(rnn.parameters(), lr=0.001)\n",
    "\n",
    "rnn, rnn_train_losses, rnn_train_accuracies, rnn_valid_losses, rnn_valid_accuracies = train_network(rnn, loss, optim, train_set)"
   ]
  },
  {
   "cell_type": "markdown",
   "metadata": {
    "id": "QV1Dg9UQc89U"
   },
   "source": [
    "We can plot loss and accuracy during training, and see how they evolved."
   ]
  },
  {
   "cell_type": "code",
   "execution_count": 9,
   "metadata": {
    "colab": {
     "base_uri": "https://localhost:8080/",
     "height": 549
    },
    "execution": {
     "iopub.execute_input": "2023-05-26T12:06:58.816068Z",
     "iopub.status.busy": "2023-05-26T12:06:58.815768Z",
     "iopub.status.idle": "2023-05-26T12:06:59.165287Z",
     "shell.execute_reply": "2023-05-26T12:06:59.164387Z",
     "shell.execute_reply.started": "2023-05-26T12:06:58.816045Z"
    },
    "executionInfo": {
     "elapsed": 610,
     "status": "ok",
     "timestamp": 1654594623540,
     "user": {
      "displayName": "Francisco Melo",
      "userId": "00306568718420504230"
     },
     "user_tz": -60
    },
    "id": "QkiqTTz8dCWL",
    "outputId": "7fff8296-676c-4067-fe62-e5d3fe54e2f1",
    "tags": []
   },
   "outputs": [
    {
     "data": {
      "image/png": "[encoded data removed]",
      "text/plain": [
       "<Figure size 640x480 with 1 Axes>"
      ]
     },
     "metadata": {},
     "output_type": "display_data"
    },
    {
     "data": {
      "image/png": "[encoded data removed]",
      "text/plain": [
       "<Figure size 640x480 with 1 Axes>"
      ]
     },
     "metadata": {},
     "output_type": "display_data"
    }
   ],
   "source": [
    "plt.figure()\n",
    "plt.plot(rnn_train_losses, 'k-', label='Training set')\n",
    "plt.plot(rnn_valid_losses, 'k:', label='Validation set')\n",
    "plt.xlabel('N. epochs')\n",
    "plt.ylabel('Loss')\n",
    "plt.legend(loc='best')\n",
    "plt.axis([0, 19, 0, 1])\n",
    "plt.show()\n",
    "\n",
    "plt.figure()\n",
    "plt.plot(rnn_train_accuracies, 'k-', label='Training set')\n",
    "plt.plot(rnn_valid_accuracies, 'k:', label='Validation set')\n",
    "plt.xlabel('N. epochs')\n",
    "plt.ylabel('Accuracy')\n",
    "plt.legend(loc='best')\n",
    "plt.axis([0, 19, 0, 1])\n",
    "plt.show()"
   ]
  },
  {
   "cell_type": "markdown",
   "metadata": {
    "id": "urW11NfjOhow"
   },
   "source": [
    "## Text generation using LSTM\n",
    "\n",
    "We are now going to perform a slightly more sophisticated task on the same data we used before. In particular, we will now _generate_ names from the different countries that follow the same pattern found in the names in the dataset.\n",
    "\n",
    "To that purpose, we need to perform a little more ground work. We slightly reformulate the `NamesDataset` class to now have as input a sequence of symbols and a category, and as output another sequence of symbols."
   ]
  },
  {
   "cell_type": "code",
   "execution_count": 10,
   "metadata": {
    "execution": {
     "iopub.execute_input": "2023-05-26T12:06:59.166513Z",
     "iopub.status.busy": "2023-05-26T12:06:59.166273Z",
     "iopub.status.idle": "2023-05-26T12:06:59.174119Z",
     "shell.execute_reply": "2023-05-26T12:06:59.173088Z",
     "shell.execute_reply.started": "2023-05-26T12:06:59.166493Z"
    },
    "executionInfo": {
     "elapsed": 257,
     "status": "ok",
     "timestamp": 1654594634328,
     "user": {
      "displayName": "Francisco Melo",
      "userId": "00306568718420504230"
     },
     "user_tz": -60
    },
    "id": "J5vNj2fTd8gC",
    "tags": []
   },
   "outputs": [],
   "source": [
    "# We now create our custom class\n",
    "class NamesDataset(datautils.Dataset):\n",
    "    def __init__(self, names_file):\n",
    "\n",
    "        # We load the data from the csv file\n",
    "        name_data = pd.read_csv(names_file)\n",
    "\n",
    "        # We create a list to store the input and output pairs\n",
    "        self.samples = []\n",
    "\n",
    "        # We run through the data in the Dataframe and fill in both lists\n",
    "        for idx in range(len(name_data)):\n",
    "            name  = name_data['Name'][idx]\n",
    "            label = name_data['Label'][idx]\n",
    "\n",
    "            self.samples += [(name, label)]\n",
    "\n",
    "        shuffle(self.samples)\n",
    "\n",
    "    def __len__(self):\n",
    "        return len(self.samples)\n",
    "\n",
    "    def __getitem__(self, idx):\n",
    "        item = self.samples[idx]\n",
    "\n",
    "        name = item[0]\n",
    "        label = item[1]\n",
    "        \n",
    "        # Since we're using an embedding layer, we no longer \n",
    "        # use one-hot encoding, but store only the index        \n",
    "        input_tensor  = torch.tensor([[LETTERS.index(x)] for x in name], dtype=torch.long)\n",
    "        label_tensor  = label_encoding(label)\n",
    "        target_tensor = torch.tensor([LETTERS.index(x) for x in name[1:]] + [LETTERS.index('<eos>')], dtype=torch.long)\n",
    "        \n",
    "        item_dict = {\"label\": label,\n",
    "                     \"name\": name,\n",
    "                     \"label_tensor\": label_tensor,\n",
    "                     \"input_tensor\": input_tensor,\n",
    "                     \"target_tensor\": target_tensor}        \n",
    "        \n",
    "        return item_dict"
   ]
  },
  {
   "cell_type": "markdown",
   "metadata": {
    "id": "Ra_VIWsxgiMr"
   },
   "source": [
    "We now create our dataset."
   ]
  },
  {
   "cell_type": "code",
   "execution_count": 11,
   "metadata": {
    "execution": {
     "iopub.execute_input": "2023-05-26T12:06:59.177638Z",
     "iopub.status.busy": "2023-05-26T12:06:59.176352Z",
     "iopub.status.idle": "2023-05-26T12:06:59.257422Z",
     "shell.execute_reply": "2023-05-26T12:06:59.256548Z",
     "shell.execute_reply.started": "2023-05-26T12:06:59.177563Z"
    },
    "executionInfo": {
     "elapsed": 267,
     "status": "ok",
     "timestamp": 1654594637040,
     "user": {
      "displayName": "Francisco Melo",
      "userId": "00306568718420504230"
     },
     "user_tz": -60
    },
    "id": "PGhCnMV2gm8p",
    "tags": []
   },
   "outputs": [],
   "source": [
    "train_set = NamesDataset('train_data.csv')"
   ]
  },
  {
   "cell_type": "markdown",
   "metadata": {
    "id": "0RvRF7WPg44x"
   },
   "source": [
    "Let's now create a LSTM-based neural network. Unlike the previous network, where we only used the last hidden state to compute the output, we now use the neural network as a sequence-to-sequence model: at each step, we use the hidden state and previous letter to \"guess\" the next letter."
   ]
  },
  {
   "cell_type": "code",
   "execution_count": 12,
   "metadata": {
    "execution": {
     "iopub.execute_input": "2023-05-26T12:06:59.259381Z",
     "iopub.status.busy": "2023-05-26T12:06:59.259160Z",
     "iopub.status.idle": "2023-05-26T12:06:59.269431Z",
     "shell.execute_reply": "2023-05-26T12:06:59.268147Z",
     "shell.execute_reply.started": "2023-05-26T12:06:59.259363Z"
    },
    "executionInfo": {
     "elapsed": 281,
     "status": "ok",
     "timestamp": 1654594638828,
     "user": {
      "displayName": "Francisco Melo",
      "userId": "00306568718420504230"
     },
     "user_tz": -60
    },
    "id": "KcOhIvGjiJrK",
    "tags": []
   },
   "outputs": [],
   "source": [
    "class LSTMNetwork(nn.Module):\n",
    "    def __init__(self, input_size, n_labels, embedding_size, hidden_size, output_size, dropout=0.):\n",
    "        super().__init__()\n",
    "        \n",
    "        # First, an embedding layer is used to convert the one-hot encoding \n",
    "        # into a feature vector\n",
    "        self.i2f_layer = nn.Embedding(input_size, embedding_size)\n",
    "\n",
    "        # We then create an LSTM layer\n",
    "        self.f2h_layer = nn.LSTM(embedding_size + n_labels, hidden_size, 1)\n",
    "\n",
    "        # Then, a linear layer that turns the LSTM hidden state into an \n",
    "        # output prediction\n",
    "        self.h2o_layer = nn.Linear(hidden_size, output_size)\n",
    "        \n",
    "        # We include a dropout layer for the embedding\n",
    "        self.dropout = nn.Dropout(dropout)\n",
    "\n",
    "        # We add initialization parameters for the hidden state and cell\n",
    "        self.hidden_init = nn.Parameter(torch.zeros(1, hidden_size))\n",
    "        self.cell_init   = nn.Parameter(torch.zeros(1, hidden_size))\n",
    "\n",
    "    def single_pass(self, letter_tensor, label_tensor, hidden, cell):\n",
    "        # Compute embedding\n",
    "        f = self.dropout(self.i2f_layer(letter_tensor))\n",
    "        \n",
    "        # Peform lstm pass\n",
    "        o, (h, c) = self.f2h_layer(torch.cat((f, label_tensor), 1), (hidden, cell))\n",
    "        \n",
    "        # Compute output\n",
    "        o = self.h2o_layer(o)\n",
    "\n",
    "        return o, h, c\n",
    "\n",
    "    def forward(self, input):\n",
    "        name = input['input_tensor']\n",
    "        label = input['label_tensor']\n",
    "\n",
    "        h = self.hidden_init\n",
    "        c = self.cell_init\n",
    "\n",
    "        outputs = []\n",
    "\n",
    "        for letter in name:\n",
    "            out, h, c = self.single_pass(letter, label, h, c)\n",
    "            outputs += [out]\n",
    "\n",
    "        # We return all outputs\n",
    "        return torch.cat(outputs)\n",
    "\n",
    "    def sample(self, label, start_letter, max_length=20):\n",
    "        ''' We will use this function to generate names given a label.'''\n",
    "            \n",
    "        # During sampling, we store no gradient information\n",
    "        self.eval()\n",
    "\n",
    "        with torch.no_grad():\n",
    "            label_tensor = label_encoding(label)\n",
    "            letter_tensor = torch.tensor([LETTERS.index(start_letter)], dtype=torch.long)\n",
    "          \n",
    "            h = self.hidden_init\n",
    "            c = self.cell_init\n",
    "\n",
    "            output = [start_letter]\n",
    "\n",
    "            for i in range(max_length):\n",
    "                o, h, c = self.single_pass(letter_tensor, label_tensor, h, c)\n",
    "                \n",
    "                _, next_idx = torch.max(o, dim=1)\n",
    "                next_letter = LETTERS[next_idx]\n",
    "\n",
    "                if next_letter == \"<eos>\":\n",
    "                    break\n",
    "                else:\n",
    "                    output += [next_letter]\n",
    "                    letter_tensor = torch.tensor([next_idx], dtype=torch.long)\n",
    "\n",
    "        self.train()\n",
    "\n",
    "        return ''.join(output)"
   ]
  },
  {
   "cell_type": "markdown",
   "metadata": {
    "id": "tBmkEjns0ovu"
   },
   "source": [
    "We can now run the training routine. Note, however, that the output is now a sequence of distributions, one per symbol, so the computation of the loss must be different. For this reason, we do not use the `train_network` function defined above."
   ]
  },
  {
   "cell_type": "code",
   "execution_count": 13,
   "metadata": {
    "colab": {
     "base_uri": "https://localhost:8080/"
    },
    "execution": {
     "iopub.execute_input": "2023-05-26T12:06:59.274788Z",
     "iopub.status.busy": "2023-05-26T12:06:59.273801Z",
     "iopub.status.idle": "2023-05-26T12:25:39.655268Z",
     "shell.execute_reply": "2023-05-26T12:25:39.654013Z",
     "shell.execute_reply.started": "2023-05-26T12:06:59.274761Z"
    },
    "executionInfo": {
     "elapsed": 1330728,
     "status": "ok",
     "timestamp": 1654595973791,
     "user": {
      "displayName": "Francisco Melo",
      "userId": "00306568718420504230"
     },
     "user_tz": -60
    },
    "id": "pMeGDeiMaqv3",
    "outputId": "8e57e871-6ec1-49a7-b22d-2eadb430333c",
    "tags": []
   },
   "outputs": [
    {
     "name": "stdout",
     "output_type": "stream",
     "text": [
      "Generated name in French: RiIgOOHOOHOOHOOHOOHOO\n",
      "Generated name in French: Qjjjjjjjjjjjjjjjjjjjj\n",
      "Generated name in Portuguese: JIzXLbqHLqHLsQjjjjjjj\n",
      "Generated name in Spanish: VP\n",
      "Generated name in Spanish: AIzXLbzXLN'wTN'wTNwsT\n",
      "Generated name in English: Zo'CPjjjjjjjjjjjjjjjj\n",
      "Generated name in Spanish: ,XLN'wTN'wTNwsTNwsTNw\n",
      "Generated name in English: JIzXLbgWOHOOHOOHOOHOO\n",
      "Generated name in Portuguese: SbCgOHOHrHOHOrHOHOrHO\n",
      "Generated name in English: Zo'CPjjjjjjjjjjjjjjjj\n",
      "\n",
      "- Training epoch: 0 -\n",
      "Training loss: 14.1293\n",
      "\n",
      "- Training epoch: 1 -\n",
      "Training loss: 12.3719\n",
      "\n",
      "- Training epoch: 2 -\n",
      "Training loss: 11.5648\n",
      "\n",
      "- Training epoch: 3 -\n",
      "Training loss: 11.0100\n",
      "\n",
      "- Training epoch: 4 -\n",
      "Training loss: 10.4963\n",
      "\n",
      "- Training epoch: 5 -\n",
      "Training loss: 10.0671\n",
      "\n",
      "- Training epoch: 6 -\n",
      "Training loss: 9.6707\n",
      "\n",
      "- Training epoch: 7 -\n",
      "Training loss: 9.3129\n",
      "\n",
      "- Training epoch: 8 -\n",
      "Training loss: 9.0171\n",
      "\n",
      "- Training epoch: 9 -\n",
      "Training loss: 8.6996\n",
      "\n",
      "- Training epoch: 10 -\n",
      "Training loss: 8.4679\n",
      "\n",
      "- Training epoch: 11 -\n",
      "Training loss: 8.2140\n",
      "\n",
      "- Training epoch: 12 -\n",
      "Training loss: 8.0220\n",
      "\n",
      "- Training epoch: 13 -\n",
      "Training loss: 7.8426\n",
      "\n",
      "- Training epoch: 14 -\n",
      "Training loss: 7.6727\n",
      "\n",
      "- Training epoch: 15 -\n",
      "Training loss: 7.5069\n",
      "\n",
      "- Training epoch: 16 -\n",
      "Training loss: 7.4024\n",
      "\n",
      "- Training epoch: 17 -\n",
      "Training loss: 7.3074\n",
      "\n",
      "- Training epoch: 18 -\n",
      "Training loss: 7.1875\n",
      "\n",
      "- Training epoch: 19 -\n",
      "Training loss: 7.1563\n",
      "\n",
      "- Training epoch: 20 -\n",
      "Training loss: 7.1032\n",
      "\n",
      "- Training epoch: 21 -\n",
      "Training loss: 7.0048\n",
      "\n",
      "- Training epoch: 22 -\n",
      "Training loss: 6.9208\n",
      "\n",
      "- Training epoch: 23 -\n",
      "Training loss: 6.8839\n",
      "\n",
      "- Training epoch: 24 -\n",
      "Training loss: 6.8483\n",
      "\n",
      "- Training epoch: 25 -\n",
      "Training loss: 6.7841\n",
      "\n",
      "- Training epoch: 26 -\n",
      "Training loss: 6.7763\n",
      "\n",
      "- Training epoch: 27 -\n",
      "Training loss: 6.7079\n",
      "\n",
      "- Training epoch: 28 -\n",
      "Training loss: 6.6578\n",
      "\n",
      "- Training epoch: 29 -\n",
      "Training loss: 6.6301\n"
     ]
    }
   ],
   "source": [
    "# We create an instance of our LSTM network.\n",
    "lstm_net = LSTMNetwork(len(LETTERS), len(LABELS), 128, 256, len(LETTERS), dropout=0.3)\n",
    "\n",
    "# Before training, let's check how well the network generates names\n",
    "for i in range(10):\n",
    "    label = np.random.choice(LABELS)\n",
    "    letter = np.random.choice(LETTERS[:-1]).upper()\n",
    "    \n",
    "    print(f'Generated name in {label}:', lstm_net.sample(label, letter))\n",
    "\n",
    "# We use the cross-entropy loss _per letter_\n",
    "loss = nn.CrossEntropyLoss()\n",
    "\n",
    "# ... and Adam as the optimizer\n",
    "optim = torch.optim.Adam(lstm_net.parameters(), lr=0.001)\n",
    "\n",
    "train_losses = []\n",
    "\n",
    "num_epochs = 30\n",
    "\n",
    "for ep in range(num_epochs):\n",
    "    print('\\n- Training epoch: %i -' % ep)\n",
    "\n",
    "    # We use auxiliary variables to keep track of loss and accuracy within \n",
    "    # an epoch\n",
    "    running_loss = 0.\n",
    "\n",
    "    for sample in train_set:\n",
    "        target = sample['target_tensor']\n",
    "\n",
    "        # We zero-out the gradient\n",
    "        optim.zero_grad()\n",
    "\n",
    "        # We initialize the loss to 0\n",
    "        l = 0\n",
    "\n",
    "        # Compute output\n",
    "        outputs = lstm_net(sample)\n",
    "\n",
    "        # We now compute the loss for each letter in the input name, given the \n",
    "        # target.\n",
    "        for i in range(len(target)):\n",
    "            l += loss(outputs[i], target[i])\n",
    "\n",
    "        # Compute gradient\n",
    "        l.backward()\n",
    "            \n",
    "        # Perform optimization step\n",
    "        optim.step()\n",
    "\n",
    "        # Update total running loss. We account for the number of points \n",
    "        # in the batch\n",
    "        running_loss += l.item()\n",
    "             \n",
    "    train_losses += [running_loss / len(train_set)]\n",
    "\n",
    "    print(f'Training loss: {train_losses[-1]:.4f}')"
   ]
  },
  {
   "cell_type": "markdown",
   "metadata": {
    "id": "bJ9rsz_jfGqg"
   },
   "source": [
    "Now that we trained out network, let us see how well it is able to generate names given a label/language."
   ]
  },
  {
   "cell_type": "code",
   "execution_count": 14,
   "metadata": {
    "execution": {
     "iopub.execute_input": "2023-05-26T12:25:39.657371Z",
     "iopub.status.busy": "2023-05-26T12:25:39.656567Z",
     "iopub.status.idle": "2023-05-26T12:25:39.715974Z",
     "shell.execute_reply": "2023-05-26T12:25:39.714864Z",
     "shell.execute_reply.started": "2023-05-26T12:25:39.657343Z"
    },
    "executionInfo": {
     "elapsed": 23,
     "status": "aborted",
     "timestamp": 1654594125505,
     "user": {
      "displayName": "Francisco Melo",
      "userId": "00306568718420504230"
     },
     "user_tz": -60
    },
    "id": "mX1__QUYfW4s",
    "tags": []
   },
   "outputs": [
    {
     "name": "stdout",
     "output_type": "stream",
     "text": [
      "Generated name in English: Kennett\n",
      "Generated name in Portuguese: Romao\n",
      "Generated name in Spanish: Iniguez\n",
      "Generated name in French: Albert\n",
      "Generated name in English: Young\n",
      "Generated name in Portuguese: Faures\n",
      "Generated name in French: Robert\n",
      "Generated name in French: Vipond\n",
      "Generated name in Portuguese: Garcia\n",
      "Generated name in English: Lawlor\n",
      "Generated name in French: Espard\n",
      "Generated name in French: Xollins\n",
      "Generated name in English: Utton\n",
      "Generated name in Spanish: Quinones\n",
      "Generated name in English: Duffield\n",
      "Generated name in French: Kerridge\n",
      "Generated name in Spanish: Gutierrez\n",
      "Generated name in French: Ubina\n",
      "Generated name in French: Robert\n",
      "Generated name in Spanish: Iniguez\n"
     ]
    }
   ],
   "source": [
    "for i in range(20):\n",
    "    label = np.random.choice(LABELS)\n",
    "    letter = np.random.choice(list('ABCDEFGHIJKLMNOPQRSTUVWXYZ'))\n",
    "    \n",
    "    print(f'Generated name in {label}:', lstm_net.sample(label, letter))"
   ]
  },
  {
   "cell_type": "code",
   "execution_count": 20,
   "metadata": {
    "execution": {
     "iopub.execute_input": "2023-05-26T14:11:46.953538Z",
     "iopub.status.busy": "2023-05-26T14:11:46.951376Z",
     "iopub.status.idle": "2023-05-26T14:11:47.208089Z",
     "shell.execute_reply": "2023-05-26T14:11:47.206539Z",
     "shell.execute_reply.started": "2023-05-26T14:11:46.953494Z"
    },
    "tags": []
   },
   "outputs": [
    {
     "name": "stdout",
     "output_type": "stream",
     "text": [
      "Generated name in English: Quirk\n",
      "Generated name in English: Connolly\n",
      "Generated name in English: Allington\n",
      "Generated name in English: Griff\n",
      "Generated name in English: Kennett\n",
      "Generated name in English: Zavalas\n",
      "Generated name in English: Robishaw\n",
      "Generated name in English: Jefferies\n",
      "Generated name in English: Holder\n",
      "Generated name in English: Jefferies\n",
      "Generated name in French: Ubina\n",
      "Generated name in French: Vipond\n",
      "Generated name in French: Espard\n",
      "Generated name in French: Travere\n",
      "Generated name in French: Albert\n",
      "Generated name in French: Warden\n",
      "Generated name in French: Dupont\n",
      "Generated name in French: Norbury\n",
      "Generated name in French: Travere\n",
      "Generated name in French: Lefurgey\n",
      "Generated name in Portuguese: Faures\n",
      "Generated name in Portuguese: De santigo\n",
      "Generated name in Portuguese: Romao\n",
      "Generated name in Portuguese: Nesbitt\n",
      "Generated name in Portuguese: Upjos\n",
      "Generated name in Portuguese: Costa\n",
      "Generated name in Portuguese: Maria\n",
      "Generated name in Portuguese: Santiago\n",
      "Generated name in Portuguese: Jouraa\n",
      "Generated name in Portuguese: Xarra\n",
      "Generated name in Spanish: Villaverde\n",
      "Generated name in Spanish: De la fuente\n",
      "Generated name in Spanish: Ubina\n",
      "Generated name in Spanish: Holguin\n",
      "Generated name in Spanish: Gutierrez\n",
      "Generated name in Spanish: Bello\n",
      "Generated name in Spanish: Perez\n",
      "Generated name in Spanish: Iniguez\n",
      "Generated name in Spanish: Perez\n",
      "Generated name in Spanish: Quinones\n"
     ]
    }
   ],
   "source": [
    "for label in LABELS:\n",
    "    for i in range(10):\n",
    "        letter = np.random.choice(list('ABCDEFGHIJKLMNOPQRSTUVWXYZ'))\n",
    "        print(f'Generated name in {label}:', lstm_net.sample(label, letter))"
   ]
  },
  {
   "cell_type": "code",
   "execution_count": 15,
   "metadata": {
    "execution": {
     "iopub.execute_input": "2023-05-26T12:25:39.717258Z",
     "iopub.status.busy": "2023-05-26T12:25:39.716994Z",
     "iopub.status.idle": "2023-05-26T12:25:39.723752Z",
     "shell.execute_reply": "2023-05-26T12:25:39.722563Z",
     "shell.execute_reply.started": "2023-05-26T12:25:39.717237Z"
    },
    "tags": []
   },
   "outputs": [
    {
     "data": {
      "text/plain": [
       "422587"
      ]
     },
     "execution_count": 15,
     "metadata": {},
     "output_type": "execute_result"
    }
   ],
   "source": [
    "sum(p.numel() for p in lstm_net.parameters())"
   ]
  },
  {
   "cell_type": "code",
   "execution_count": 16,
   "metadata": {
    "execution": {
     "iopub.execute_input": "2023-05-26T12:25:39.725206Z",
     "iopub.status.busy": "2023-05-26T12:25:39.724932Z",
     "iopub.status.idle": "2023-05-26T12:25:39.731384Z",
     "shell.execute_reply": "2023-05-26T12:25:39.730142Z",
     "shell.execute_reply.started": "2023-05-26T12:25:39.725185Z"
    },
    "tags": []
   },
   "outputs": [
    {
     "name": "stdout",
     "output_type": "stream",
     "text": [
      "hidden_init torch.Size([1, 256])\n",
      "cell_init torch.Size([1, 256])\n",
      "i2f_layer.weight torch.Size([59, 128])\n",
      "f2h_layer.weight_ih_l0 torch.Size([1024, 132])\n",
      "f2h_layer.weight_hh_l0 torch.Size([1024, 256])\n",
      "f2h_layer.bias_ih_l0 torch.Size([1024])\n",
      "f2h_layer.bias_hh_l0 torch.Size([1024])\n",
      "h2o_layer.weight torch.Size([59, 256])\n",
      "h2o_layer.bias torch.Size([59])\n"
     ]
    }
   ],
   "source": [
    "for name, param in lstm_net.named_parameters():\n",
    "    print(name, param.shape)"
   ]
  },
  {
   "cell_type": "markdown",
   "metadata": {
    "id": "x42z0hX-Cr-o"
   },
   "source": [
    "##### Activities\n",
    "\n",
    "1. How many parameters does the first recurrent neural network have? And the LSTM network?\n",
    "\n",
    "2. Why are exploding/vanishing gradients a more pressing issue in recurrent neural networks? And how does the LSTM architecture help to address the vanishing gradient problem?\n",
    "\n",
    "3. Repeat the training of the LSTM network, but now using all the words in the two datasets (training and test) as training data. Let the network train for 40 epochs. Then, for each of the 4 possible labels/languages, generate 5 sample names using the trained network. Comment on the performance of the network thus trained."
   ]
  }
 ],
 "metadata": {
  "colab": {
   "authorship_tag": "ABX9TyOHHhena3Vq04n5OcUy/Wmn",
   "collapsed_sections": [],
   "name": "Lab3.ipynb",
   "provenance": []
  },
  "kernelspec": {
   "display_name": "Python 3 (ipykernel)",
   "language": "python",
   "name": "python3"
  },
  "language_info": {
   "codemirror_mode": {
    "name": "ipython",
    "version": 3
   },
   "file_extension": ".py",
   "mimetype": "text/x-python",
   "name": "python",
   "nbconvert_exporter": "python",
   "pygments_lexer": "ipython3",
   "version": "3.10.11"
  }
 },
 "nbformat": 4,
 "nbformat_minor": 4
}
