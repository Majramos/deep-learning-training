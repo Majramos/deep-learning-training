{
 "cells": [
  {
   "cell_type": "markdown",
   "metadata": {},
   "source": [
    "# Group 1\n",
    "\n",
    "- Ricardo Lopes\n",
    "- Marco Ramos\n",
    "- Susana Fernandes"
   ]
  },
  {
   "cell_type": "code",
   "execution_count": 10,
   "metadata": {
    "execution": {
     "iopub.execute_input": "2023-05-23T14:13:30.140450Z",
     "iopub.status.busy": "2023-05-23T14:13:30.139476Z",
     "iopub.status.idle": "2023-05-23T14:13:30.656572Z",
     "shell.execute_reply": "2023-05-23T14:13:30.655729Z",
     "shell.execute_reply.started": "2023-05-23T14:13:30.140411Z"
    },
    "tags": []
   },
   "outputs": [],
   "source": [
    "import numpy as np\n",
    "import torch\n",
    "import torchvision\n",
    "import torchvision.transforms as transforms\n",
    "from sklearn.metrics import confusion_matrix"
   ]
  },
  {
   "cell_type": "markdown",
   "metadata": {
    "id": "5cKRCtMrmzA7"
   },
   "source": [
    "# Data"
   ]
  },
  {
   "cell_type": "code",
   "execution_count": 2,
   "metadata": {
    "execution": {
     "iopub.execute_input": "2023-05-23T14:03:55.103081Z",
     "iopub.status.busy": "2023-05-23T14:03:55.101975Z",
     "iopub.status.idle": "2023-05-23T14:03:55.338952Z",
     "shell.execute_reply": "2023-05-23T14:03:55.338157Z",
     "shell.execute_reply.started": "2023-05-23T14:03:55.103041Z"
    },
    "id": "1Ys4Klpzkrs5",
    "tags": []
   },
   "outputs": [],
   "source": [
    "# We import data for training and testing separately\n",
    "train_set = torchvision.datasets.FashionMNIST(root=\"./\", download=True,\n",
    "                                              train=True,\n",
    "                                              transform=transforms.Compose([transforms.ToTensor()]))\n",
    "\n",
    "test_set = torchvision.datasets.FashionMNIST(root=\"./\", download=True, \n",
    "                                              train=False,\n",
    "                                              transform=transforms.Compose([transforms.ToTensor()]))"
   ]
  },
  {
   "cell_type": "markdown",
   "metadata": {
    "id": "8IYJqeU7k6jj"
   },
   "source": [
    "To facilitate the manipulation of the data, we create a **data loader**: an object that is used to get batches of data from the dataset during training. "
   ]
  },
  {
   "cell_type": "code",
   "execution_count": 3,
   "metadata": {
    "execution": {
     "iopub.execute_input": "2023-05-23T14:03:58.199480Z",
     "iopub.status.busy": "2023-05-23T14:03:58.199140Z",
     "iopub.status.idle": "2023-05-23T14:03:58.206656Z",
     "shell.execute_reply": "2023-05-23T14:03:58.204729Z",
     "shell.execute_reply.started": "2023-05-23T14:03:58.199460Z"
    },
    "id": "yLwHxK4Oky8b",
    "tags": []
   },
   "outputs": [],
   "source": [
    "data_loader = torch.utils.data.DataLoader(train_set, batch_size=10, shuffle=True)"
   ]
  },
  {
   "cell_type": "markdown",
   "metadata": {
    "id": "eTtgUHO2lTEA"
   },
   "source": [
    "Let's visualize some of the samples in our dataset."
   ]
  },
  {
   "cell_type": "code",
   "execution_count": 6,
   "metadata": {
    "execution": {
     "iopub.execute_input": "2023-05-23T14:05:33.862759Z",
     "iopub.status.busy": "2023-05-23T14:05:33.861905Z",
     "iopub.status.idle": "2023-05-23T14:05:34.044050Z",
     "shell.execute_reply": "2023-05-23T14:05:34.042812Z",
     "shell.execute_reply.started": "2023-05-23T14:05:33.862738Z"
    },
    "id": "z-IA6hhAlR9n",
    "tags": []
   },
   "outputs": [
    {
     "name": "stdout",
     "output_type": "stream",
     "text": [
      "Image tensor: torch.Size([10, 1, 28, 28])\n",
      "class labels: tensor([2, 9, 8, 2, 3, 9, 4, 1, 9, 6])\n"
     ]
    },
    {
     "data": {
      "text/plain": [
       "<matplotlib.image.AxesImage at 0x7f758598ab90>"
      ]
     },
     "execution_count": 6,
     "metadata": {},
     "output_type": "execute_result"
    },
    {
     "data": {
      "image/png": "[encoded data removed]",
      "text/plain": [
       "<Figure size 1500x1000 with 1 Axes>"
      ]
     },
     "metadata": {},
     "output_type": "display_data"
    }
   ],
   "source": [
    "# Import plotting utilities\n",
    "import matplotlib.pyplot as plt\n",
    "\n",
    "# Get a sample from our dataloader. \n",
    "# The sample consists of a batch of images and corresponding labels.\n",
    "images, labels = next(iter(data_loader))\n",
    "\n",
    "# To plot the sample, we create a grid\n",
    "plt.figure(figsize=(15, 10))\n",
    "grid = torchvision.utils.make_grid(nrow=20, tensor=images)\n",
    "print('Image tensor:', images.shape)\n",
    "print('class labels:', labels)\n",
    "\n",
    "# Plot the samples\n",
    "plt.imshow(np.transpose(grid, axes=(1,2,0)), cmap='gray')"
   ]
  },
  {
   "cell_type": "code",
   "execution_count": 13,
   "metadata": {
    "execution": {
     "iopub.execute_input": "2023-05-23T13:53:32.718146Z",
     "iopub.status.busy": "2023-05-23T13:53:32.717653Z",
     "iopub.status.idle": "2023-05-23T13:53:32.722649Z",
     "shell.execute_reply": "2023-05-23T13:53:32.721883Z",
     "shell.execute_reply.started": "2023-05-23T13:53:32.718126Z"
    },
    "id": "9oArL5vRt69R",
    "tags": []
   },
   "outputs": [],
   "source": [
    "LABELS = ('T-shirt', 'Trousers', 'Pull-over', 'Dress', 'Coat', 'Sandal', 'Shirt', 'Sneaker', 'Bag', 'Boot')"
   ]
  },
  {
   "cell_type": "markdown",
   "metadata": {
    "id": "x42z0hX-Cr-o"
   },
   "source": [
    "# Activities\n",
    "\n",
    "## Verify the impact of L2 regularization in the performance of the network. To that purpose, repeat the training of the network, but add to the SGD parameters the option `weight_decay=0.1`."
   ]
  },
  {
   "cell_type": "markdown",
   "metadata": {},
   "source": [
    "What is the weight_decay parameter?\n",
    "- The weight_decay parameter adds a L2 penalty to the cost which can effectively lead to to smaller model weights.  \n",
    "- L2 regularization is also referred to as weight decay.  \n",
    "- The reason for this name is that thinking about SGD and backpropagation, the negative gradient of the L2 regularization term with respect to a parameter w_i is – 2 * lambda * w_i, where lambda is the aforementioned hyperparameter, simply named weight decay in PyTorch."
   ]
  },
  {
   "cell_type": "code",
   "execution_count": 7,
   "metadata": {
    "execution": {
     "iopub.execute_input": "2023-05-23T14:09:35.449902Z",
     "iopub.status.busy": "2023-05-23T14:09:35.449590Z",
     "iopub.status.idle": "2023-05-23T14:13:04.030408Z",
     "shell.execute_reply": "2023-05-23T14:13:04.029511Z",
     "shell.execute_reply.started": "2023-05-23T14:09:35.449884Z"
    },
    "id": "Vlvj_yTpmXW7",
    "tags": []
   },
   "outputs": [
    {
     "name": "stdout",
     "output_type": "stream",
     "text": [
      "Training epoch: 0\n",
      "Training loss: 1.5133\n",
      "Training epoch: 1\n",
      "Training loss: 1.0318\n",
      "Training epoch: 2\n",
      "Training loss: 0.9722\n",
      "Training epoch: 3\n",
      "Training loss: 0.9557\n",
      "Training epoch: 4\n",
      "Training loss: 0.9493\n",
      "Training epoch: 5\n",
      "Training loss: 0.9459\n",
      "Training epoch: 6\n",
      "Training loss: 0.9441\n",
      "Training epoch: 7\n",
      "Training loss: 0.9426\n",
      "Training epoch: 8\n",
      "Training loss: 0.9407\n",
      "Training epoch: 9\n",
      "Training loss: 0.9410\n",
      "Training epoch: 10\n",
      "Training loss: 0.9392\n",
      "Training epoch: 11\n",
      "Training loss: 0.9393\n",
      "Training epoch: 12\n",
      "Training loss: 0.9385\n",
      "Training epoch: 13\n",
      "Training loss: 0.9374\n",
      "Training epoch: 14\n",
      "Training loss: 0.9380\n",
      "Training epoch: 15\n",
      "Training loss: 0.9373\n",
      "Training epoch: 16\n",
      "Training loss: 0.9363\n",
      "Training epoch: 17\n",
      "Training loss: 0.9369\n",
      "Training epoch: 18\n",
      "Training loss: 0.9358\n",
      "Training epoch: 19\n",
      "Training loss: 0.9362\n"
     ]
    }
   ],
   "source": [
    "import torch.nn as nn\n",
    "\n",
    "# We create a new class \"FeedForwardNetwork\" from nn.Module\n",
    "class FeedForwardNetwork(nn.Module):\n",
    "    def __init__(self):\n",
    "        # Call the super class constructor\n",
    "        super().__init__()\n",
    "\n",
    "        # Our network will have a single hidden layer with 100 units\n",
    "        self.layers = nn.Sequential(\n",
    "            nn.Flatten(),        # Convert 28 x 28 images into a flat tensor\n",
    "            nn.Linear(784, 100), # 28 x 28 = 784 inputs; 100 outputs\n",
    "            nn.ReLU(),           # Add ReLU activation\n",
    "            nn.Linear(100, 10)   # 100 inputs; 10 outputs (10 classes)\n",
    "        )\n",
    "\n",
    "    def forward(self, x): # implements the forward method (flow of tensors)\n",
    "        # Given input x, we just run x through the layers in the network\n",
    "        out = self.layers(x)\n",
    "        return out\n",
    "    \n",
    "# Create an instance of the network\n",
    "net = FeedForwardNetwork()\n",
    "\n",
    "loss = nn.CrossEntropyLoss()\n",
    "\n",
    "EPOCHS = 20\n",
    "\n",
    "# Define the optimizer. We indicate:\n",
    "#   - What is being optimized (the parameters of the network)\n",
    "#   - The learning rate \n",
    "optimizer = torch.optim.SGD(net.parameters(), lr=0.001, weight_decay=0.1)\n",
    "\n",
    "# Reset data loader\n",
    "iter(data_loader)\n",
    "\n",
    "for ep in range(EPOCHS):\n",
    "    print('Training epoch:', ep)\n",
    "\n",
    "    # Keep track of the loss during training\n",
    "    train_loss = []\n",
    "\n",
    "    # We use our data loader to fetch batches from our dataset\n",
    "    for Xbatch, ybatch in data_loader:\n",
    "\n",
    "        # We first zero-out the gradients\n",
    "        optimizer.zero_grad()\n",
    "\n",
    "        # Compute output\n",
    "        output = net(Xbatch)\n",
    "\n",
    "        # Get loss\n",
    "        l = loss(output, ybatch)\n",
    "\n",
    "        # Compute gradients\n",
    "        l.backward()\n",
    "\n",
    "        # Perform optimization step\n",
    "        optimizer.step()\n",
    "\n",
    "        train_loss.append(l)\n",
    "\n",
    "    print('Training loss: %.4f' % torch.tensor(train_loss).mean().item())"
   ]
  },
  {
   "cell_type": "code",
   "execution_count": 8,
   "metadata": {
    "execution": {
     "iopub.execute_input": "2023-05-23T14:13:08.164457Z",
     "iopub.status.busy": "2023-05-23T14:13:08.164063Z",
     "iopub.status.idle": "2023-05-23T14:13:08.171597Z",
     "shell.execute_reply": "2023-05-23T14:13:08.170307Z",
     "shell.execute_reply.started": "2023-05-23T14:13:08.164437Z"
    },
    "id": "UKQ3X3by9vbF",
    "tags": []
   },
   "outputs": [],
   "source": [
    "@torch.no_grad()\n",
    "def get_predictions(network, dataset):\n",
    "\n",
    "    # Create dataloader from dataset\n",
    "    dataloader = torch.utils.data.DataLoader(dataset, batch_size=10000)\n",
    "\n",
    "    # Create a tensor to store results\n",
    "    predictions = torch.tensor([])\n",
    "    for Xbatch, _ in dataloader:\n",
    "        # Get predictions\n",
    "        output = network(Xbatch)\n",
    "\n",
    "        # Add them to the tensor\n",
    "        predictions = torch.cat((predictions, output), dim=0)\n",
    "        \n",
    "    return predictions"
   ]
  },
  {
   "cell_type": "code",
   "execution_count": 11,
   "metadata": {
    "execution": {
     "iopub.execute_input": "2023-05-23T14:13:34.397145Z",
     "iopub.status.busy": "2023-05-23T14:13:34.396183Z",
     "iopub.status.idle": "2023-05-23T14:13:40.562953Z",
     "shell.execute_reply": "2023-05-23T14:13:40.561696Z",
     "shell.execute_reply.started": "2023-05-23T14:13:34.397099Z"
    },
    "id": "undFqeDP-a-s",
    "tags": []
   },
   "outputs": [
    {
     "name": "stdout",
     "output_type": "stream",
     "text": [
      "\n",
      "= Confusion matrix in training =\n",
      "[[4756   84   81  651   35    1  262    1  127    2]\n",
      " [  25 5586  126  220   30    0   11    0    2    0]\n",
      " [  76   18 3851   56 1468    1  407    1  121    1]\n",
      " [ 290  118   28 5149  157    0  240    0   17    1]\n",
      " [   8   65 1136  548 4036    1  147    0   58    1]\n",
      " [   6    1    7    8    2 1712    0 2501  106 1657]\n",
      " [1347   38 1370  364 1850    1  779    2  247    2]\n",
      " [   0    0    0    0    0   18    0 5373   10  599]\n",
      " [  19    5   72  118   35    3   97   83 5554   14]\n",
      " [   2    4    1    4    0    5    1  400    4 5579]]\n",
      "\n",
      "Training accuracy: 0.70625\n",
      "\n",
      "= Confusion matrix in test =\n",
      "[[781   8  12 110   9   1  54   0  25   0]\n",
      " [  5 919  16  46  12   0   0   0   2   0]\n",
      " [ 15   3 616  13 250   0  82   0  20   1]\n",
      " [ 48  17   6 838  28   0  59   0   4   0]\n",
      " [  0  11 238  71 641   0  30   0   9   0]\n",
      " [  1   1   0   2   0 265   0 410  20 301]\n",
      " [226   4 213  80 308   0 123   0  46   0]\n",
      " [  0   0   0   0   0   6   0 894   0 100]\n",
      " [  3   2  15  21   1   0  14  12 930   2]\n",
      " [  0   0   0   2   0   0   0  60   1 937]]\n",
      "\n",
      "Test accuracy: 0.6944\n"
     ]
    }
   ],
   "source": [
    "predictions = get_predictions(net, train_set)\n",
    "cm_train = confusion_matrix(y_true=train_set.targets, y_pred=predictions.argmax(1))\n",
    "\n",
    "print('\\n= Confusion matrix in training =')\n",
    "print(cm_train)\n",
    "\n",
    "print('\\nTraining accuracy:', cm_train.trace() / predictions.shape[0])\n",
    "\n",
    "# We compute the confusion matrix for the test set\n",
    "predictions = get_predictions(net, test_set)\n",
    "cm_test = confusion_matrix(y_true=test_set.targets, y_pred=predictions.argmax(1))\n",
    "\n",
    "print('\\n= Confusion matrix in test =')\n",
    "print(cm_test)\n",
    "\n",
    "print('\\nTest accuracy:', cm_test.trace() / predictions.shape[0])"
   ]
  },
  {
   "cell_type": "markdown",
   "metadata": {
    "id": "x42z0hX-Cr-o"
   },
   "source": [
    "## Verify the impact of dropout in the performance of the network. To that purpose, repeat the training of the network, but add a dropout layer after the ReLU in the network definition. You can do it by adding the line `nn.Dropout(0.3),` (the number is the dropout probability)."
   ]
  },
  {
   "cell_type": "code",
   "execution_count": 12,
   "metadata": {
    "execution": {
     "iopub.execute_input": "2023-05-23T14:16:18.166923Z",
     "iopub.status.busy": "2023-05-23T14:16:18.165834Z",
     "iopub.status.idle": "2023-05-23T14:19:43.581213Z",
     "shell.execute_reply": "2023-05-23T14:19:43.580186Z",
     "shell.execute_reply.started": "2023-05-23T14:16:18.166898Z"
    },
    "id": "Vlvj_yTpmXW7",
    "tags": []
   },
   "outputs": [
    {
     "name": "stdout",
     "output_type": "stream",
     "text": [
      "Training epoch: 0\n",
      "Training loss: 1.3888\n",
      "Training epoch: 1\n",
      "Training loss: 0.8533\n",
      "Training epoch: 2\n",
      "Training loss: 0.7343\n",
      "Training epoch: 3\n",
      "Training loss: 0.6648\n",
      "Training epoch: 4\n",
      "Training loss: 0.6213\n",
      "Training epoch: 5\n",
      "Training loss: 0.5905\n",
      "Training epoch: 6\n",
      "Training loss: 0.5652\n",
      "Training epoch: 7\n",
      "Training loss: 0.5440\n",
      "Training epoch: 8\n",
      "Training loss: 0.5296\n",
      "Training epoch: 9\n",
      "Training loss: 0.5162\n",
      "Training epoch: 10\n",
      "Training loss: 0.5052\n",
      "Training epoch: 11\n",
      "Training loss: 0.4925\n",
      "Training epoch: 12\n",
      "Training loss: 0.4852\n",
      "Training epoch: 13\n",
      "Training loss: 0.4756\n",
      "Training epoch: 14\n",
      "Training loss: 0.4699\n",
      "Training epoch: 15\n",
      "Training loss: 0.4623\n",
      "Training epoch: 16\n",
      "Training loss: 0.4550\n",
      "Training epoch: 17\n",
      "Training loss: 0.4507\n",
      "Training epoch: 18\n",
      "Training loss: 0.4444\n",
      "Training epoch: 19\n",
      "Training loss: 0.4413\n"
     ]
    }
   ],
   "source": [
    "import torch.nn as nn\n",
    "\n",
    "# We create a new class \"FeedForwardNetwork\" from nn.Module\n",
    "class FeedForwardNetwork(nn.Module):\n",
    "    def __init__(self):\n",
    "        # Call the super class constructor\n",
    "        super().__init__()\n",
    "\n",
    "        # Our network will have a single hidden layer with 100 units\n",
    "        self.layers = nn.Sequential(\n",
    "            nn.Flatten(),        # Convert 28 x 28 images into a flat tensor\n",
    "            nn.Linear(784, 100), # 28 x 28 = 784 inputs; 100 outputs\n",
    "            nn.ReLU(),           # Add ReLU activation\n",
    "            nn.Dropout(0.3),\n",
    "            nn.Linear(100, 10)   # 100 inputs; 10 outputs (10 classes)\n",
    "        )\n",
    "\n",
    "    def forward(self, x): # implements the forward method (flow of tensors)\n",
    "        # Given input x, we just run x through the layers in the network\n",
    "        out = self.layers(x)\n",
    "        return out\n",
    "    \n",
    "# Create an instance of the network\n",
    "net = FeedForwardNetwork()\n",
    "\n",
    "loss = nn.CrossEntropyLoss()\n",
    "\n",
    "EPOCHS = 20\n",
    "\n",
    "# Define the optimizer. We indicate:\n",
    "#   - What is being optimized (the parameters of the network)\n",
    "#   - The learning rate \n",
    "optimizer = torch.optim.SGD(net.parameters(), lr=0.001)\n",
    "\n",
    "# Reset data loader\n",
    "iter(data_loader)\n",
    "\n",
    "for ep in range(EPOCHS):\n",
    "    print('Training epoch:', ep)\n",
    "\n",
    "    # Keep track of the loss during training\n",
    "    train_loss = []\n",
    "\n",
    "    # We use our data loader to fetch batches from our dataset\n",
    "    for Xbatch, ybatch in data_loader:\n",
    "\n",
    "        # We first zero-out the gradients\n",
    "        optimizer.zero_grad()\n",
    "\n",
    "        # Compute output\n",
    "        output = net(Xbatch)\n",
    "\n",
    "        # Get loss\n",
    "        l = loss(output, ybatch)\n",
    "\n",
    "        # Compute gradients\n",
    "        l.backward()\n",
    "\n",
    "        # Perform optimization step\n",
    "        optimizer.step()\n",
    "\n",
    "        train_loss.append(l)\n",
    "\n",
    "    print('Training loss: %.4f' % torch.tensor(train_loss).mean().item())"
   ]
  },
  {
   "cell_type": "code",
   "execution_count": 13,
   "metadata": {
    "execution": {
     "iopub.execute_input": "2023-05-23T14:19:43.583525Z",
     "iopub.status.busy": "2023-05-23T14:19:43.582779Z",
     "iopub.status.idle": "2023-05-23T14:19:43.589193Z",
     "shell.execute_reply": "2023-05-23T14:19:43.588073Z",
     "shell.execute_reply.started": "2023-05-23T14:19:43.583498Z"
    },
    "id": "UKQ3X3by9vbF",
    "tags": []
   },
   "outputs": [],
   "source": [
    "@torch.no_grad()\n",
    "def get_predictions(network, dataset):\n",
    "\n",
    "    # Create dataloader from dataset\n",
    "    dataloader = torch.utils.data.DataLoader(dataset, batch_size=10000)\n",
    "\n",
    "    # Create a tensor to store results\n",
    "    predictions = torch.tensor([])\n",
    "    for Xbatch, _ in dataloader:\n",
    "        # Get predictions\n",
    "        output = network(Xbatch)\n",
    "\n",
    "        # Add them to the tensor\n",
    "        predictions = torch.cat((predictions, output), dim=0)\n",
    "        \n",
    "    return predictions"
   ]
  },
  {
   "cell_type": "code",
   "execution_count": 14,
   "metadata": {
    "execution": {
     "iopub.execute_input": "2023-05-23T14:19:43.591550Z",
     "iopub.status.busy": "2023-05-23T14:19:43.590629Z",
     "iopub.status.idle": "2023-05-23T14:19:50.017197Z",
     "shell.execute_reply": "2023-05-23T14:19:50.016145Z",
     "shell.execute_reply.started": "2023-05-23T14:19:43.591441Z"
    },
    "id": "undFqeDP-a-s",
    "tags": []
   },
   "outputs": [
    {
     "name": "stdout",
     "output_type": "stream",
     "text": [
      "\n",
      "= Confusion matrix in training =\n",
      "[[4897   37   84  268   24    7  603    1   77    2]\n",
      " [  11 5745   46  156   17    1   22    0    2    0]\n",
      " [  69   10 4431   48  877    7  489    1   67    1]\n",
      " [ 271   71   55 5108  269    3  195    0   27    1]\n",
      " [  11    9  430  162 4891    2  456    0   38    1]\n",
      " [   6    1    1    3    0 5515    1  252   38  183]\n",
      " [ 830   15  618  156  678    5 3589    1  107    1]\n",
      " [   0    0    0    0    0  260    0 5326   17  397]\n",
      " [  31    4   34   42   32   43  102   30 5679    3]\n",
      " [   0    1    1    0    0   86    2  172    8 5730]]\n",
      "\n",
      "Training accuracy: 0.8485166666666667\n",
      "\n",
      "= Confusion matrix in test =\n",
      "[[788   2  14  47   7   2 123   0  17   0]\n",
      " [  3 944   7  35   7   0   2   0   2   0]\n",
      " [ 18   5 714   8 158   2  82   0  13   0]\n",
      " [ 28  14   9 847  38   1  57   0   6   0]\n",
      " [  0   2  94  26 788   1  80   0   9   0]\n",
      " [  1   0   0   1   0 907   0  45   3  43]\n",
      " [128   2 113  35 100   2 586   0  34   0]\n",
      " [  0   0   0   0   0  40   0 887   0  73]\n",
      " [  4   1  12  10   4   3  20   6 940   0]\n",
      " [  0   0   0   0   0  14   0  32   2 952]]\n",
      "\n",
      "Test accuracy: 0.8353\n"
     ]
    }
   ],
   "source": [
    "predictions = get_predictions(net, train_set)\n",
    "cm_train = confusion_matrix(y_true=train_set.targets, y_pred=predictions.argmax(1))\n",
    "\n",
    "print('\\n= Confusion matrix in training =')\n",
    "print(cm_train)\n",
    "\n",
    "print('\\nTraining accuracy:', cm_train.trace() / predictions.shape[0])\n",
    "\n",
    "# We compute the confusion matrix for the test set\n",
    "predictions = get_predictions(net, test_set)\n",
    "cm_test = confusion_matrix(y_true=test_set.targets, y_pred=predictions.argmax(1))\n",
    "\n",
    "print('\\n= Confusion matrix in test =')\n",
    "print(cm_test)\n",
    "\n",
    "print('\\nTest accuracy:', cm_test.trace() / predictions.shape[0])"
   ]
  },
  {
   "cell_type": "markdown",
   "metadata": {
    "id": "x42z0hX-Cr-o"
   },
   "source": [
    "## From your results, do you believe that the original model is overfitting?"
   ]
  },
  {
   "cell_type": "markdown",
   "metadata": {
    "execution": {
     "iopub.execute_input": "2023-05-23T14:25:22.679042Z",
     "iopub.status.busy": "2023-05-23T14:25:22.678666Z",
     "iopub.status.idle": "2023-05-23T14:25:22.688116Z",
     "shell.execute_reply": "2023-05-23T14:25:22.685831Z",
     "shell.execute_reply.started": "2023-05-23T14:25:22.679024Z"
    },
    "tags": []
   },
   "source": [
    "No, I dont think the original model is overfitting.\n",
    "\n",
    "Firstly, in the original model the accuracy of the training (0.85865) and test (0.8421) dataset are similar.\n",
    "\n",
    "Secondly, when testing with two forms of regularization, L2 and dropout, thus simplyfing the model, the accuracy either decreased in the case of the L2 or maintained in the case of dropout. The diference between the training and test dataset stayed similar between all the tests.\n",
    "If the model was previously overfitted then with the regularization the accuracy could increase."
   ]
  }
 ],
 "metadata": {
  "colab": {
   "authorship_tag": "ABX9TyOLqefr81L4fh9BHgFjv+d3",
   "collapsed_sections": [],
   "name": "Lab1.ipynb",
   "provenance": []
  },
  "kernelspec": {
   "display_name": "Python 3 (ipykernel)",
   "language": "python",
   "name": "python3"
  },
  "language_info": {
   "codemirror_mode": {
    "name": "ipython",
    "version": 3
   },
   "file_extension": ".py",
   "mimetype": "text/x-python",
   "name": "python",
   "nbconvert_exporter": "python",
   "pygments_lexer": "ipython3",
   "version": "3.10.11"
  },
  "toc-autonumbering": true
 },
 "nbformat": 4,
 "nbformat_minor": 4
}
