{
 "cells": [
  {
   "cell_type": "markdown",
   "metadata": {
    "id": "l8jx134dakEm"
   },
   "source": [
    "# Sequence-to-sequence models\n",
    "\n",
    "In this lab, we will look at sequence-to-sequence models. When discussing recurrent neural networks, we already considered models that take sequences as input, and return sequences as output. However, the models we see today require looking at the *full* input sequence to build the output sequence."
   ]
  },
  {
   "cell_type": "markdown",
   "metadata": {
    "id": "v7_tMzMAdxf6"
   },
   "source": [
    "## Preparation\n",
    "\n",
    "We start by importing the libraries that we will use throughout."
   ]
  },
  {
   "cell_type": "code",
   "execution_count": 1,
   "metadata": {
    "execution": {
     "iopub.execute_input": "2023-06-01T09:34:58.105233Z",
     "iopub.status.busy": "2023-06-01T09:34:58.104998Z",
     "iopub.status.idle": "2023-06-01T09:35:01.245102Z",
     "shell.execute_reply": "2023-06-01T09:35:01.243505Z",
     "shell.execute_reply.started": "2023-06-01T09:34:58.105213Z"
    },
    "executionInfo": {
     "elapsed": 786,
     "status": "ok",
     "timestamp": 1655556320734,
     "user": {
      "displayName": "Francisco Melo",
      "userId": "00306568718420504230"
     },
     "user_tz": -60
    },
    "id": "aWvGUgnDabis",
    "tags": []
   },
   "outputs": [],
   "source": [
    "# Numpy library provides useful numeric computation utilities\n",
    "import numpy as np\n",
    "\n",
    "# We import Pyplot for its plotting utilities\n",
    "import matplotlib.pyplot as plt\n",
    "\n",
    "# We also import the random library for its randomization utilities\n",
    "import random\n",
    "\n",
    "# We import torch and torch.nn for the neural network utilities we will use\n",
    "import torch\n",
    "import torch.nn as nn\n",
    "\n",
    "# We import the Pytorch implementations of several functions\n",
    "import torch.nn.functional as F\n",
    "\n",
    "# We also import Pytorch data-handling utilities\n",
    "import torch.utils.data as datautils\n",
    "\n",
    "#random.seed(5)\n",
    "#np.random.seed(5)\n",
    "#torch.random.manual_seed(5)"
   ]
  },
  {
   "cell_type": "code",
   "execution_count": 2,
   "metadata": {
    "execution": {
     "iopub.execute_input": "2023-06-01T09:35:01.248129Z",
     "iopub.status.busy": "2023-06-01T09:35:01.247491Z",
     "iopub.status.idle": "2023-06-01T09:35:04.672944Z",
     "shell.execute_reply": "2023-06-01T09:35:04.671994Z",
     "shell.execute_reply.started": "2023-06-01T09:35:01.248109Z"
    },
    "tags": []
   },
   "outputs": [
    {
     "name": "stdout",
     "output_type": "stream",
     "text": [
      "Device used to store tensor: cuda:0\n",
      "Device name: Quadro RTX 3000\n",
      "Allocated: 0.0 MB\n",
      "Cached:    2.0 MB\n",
      "cuda:0\n"
     ]
    }
   ],
   "source": [
    "t = torch.rand(3, 4)\n",
    "# Let's now move our tensor to a GPU, if one is available\n",
    "if torch.cuda.is_available():\n",
    "    t = t.to('cuda')\n",
    "    print('Device used to store tensor:', t.device)\n",
    "    print('Device name:', torch.cuda.get_device_name(0))\n",
    "    print('Allocated:', round(torch.cuda.memory_allocated(0)/1024**2,3), 'MB')\n",
    "    print('Cached:   ', round(torch.cuda.memory_reserved(0)/1024**2,3), 'MB')\n",
    "    device = torch.device('cuda:0')\n",
    "else:\n",
    "    print('No GPU available.')\n",
    "    device = torch.device('cpu')\n",
    "    \n",
    "print(device)"
   ]
  },
  {
   "cell_type": "markdown",
   "metadata": {
    "id": "FrvLRIWzgi_n"
   },
   "source": [
    "To make our life easier further ahead, we create auxiliary functions to train and evaluate networks. The first function, `evaluate`, computes the accuracy of the network in a given dataset. It receives, as arguments,\n",
    "\n",
    "* The neural network\n",
    "* The dataset object.\n",
    "\n",
    "It returns the accuracy of the network. The accuracy of the network counts how many characters the network is able to generate correctly, from the input sequence and given the correct previous sub-sequence."
   ]
  },
  {
   "cell_type": "code",
   "execution_count": 3,
   "metadata": {
    "execution": {
     "iopub.execute_input": "2023-06-01T09:35:04.674194Z",
     "iopub.status.busy": "2023-06-01T09:35:04.673868Z",
     "iopub.status.idle": "2023-06-01T09:35:04.681227Z",
     "shell.execute_reply": "2023-06-01T09:35:04.680117Z",
     "shell.execute_reply.started": "2023-06-01T09:35:04.674176Z"
    },
    "executionInfo": {
     "elapsed": 644,
     "status": "ok",
     "timestamp": 1655556324842,
     "user": {
      "displayName": "Francisco Melo",
      "userId": "00306568718420504230"
     },
     "user_tz": -60
    },
    "id": "XUJfYRg_kH1w",
    "tags": []
   },
   "outputs": [],
   "source": [
    "def evaluate(net, dataset):\n",
    "    \n",
    "    # We first set the network to evaluation mode\n",
    "    net.eval()\n",
    "\n",
    "    acc = 0\n",
    "    dataset_size = 0\n",
    "    \n",
    "    # We run through the dataset, not computing gradients\n",
    "    with torch.no_grad():\n",
    "        \n",
    "        # The input-output pairs consist of sequences, which we refer as the\n",
    "        # source and target sequences\n",
    "        for source_seq, target_seq in dataset:\n",
    "            \n",
    "            # We want to evaluate the model's ability to generate the *next* \n",
    "            # character given the previous one. To that purpose, we feed the\n",
    "            # decoder with the *correct* previous characters, obtained from \n",
    "            # the target sequence. \n",
    "\n",
    "            # The input for the decoder is, therefore, the target sequence minus\n",
    "            # the last character.\n",
    "            decoder_in = target_seq[:, :-1]\n",
    "            \n",
    "            # We use our network to predict the scores for the output sequence, \n",
    "            # given the input sequence and the decoder input\n",
    "            output_scores, _ = net(source_seq, decoder_in)\n",
    "            \n",
    "            # From the scores, we compute the most likely next character\n",
    "            _,  output_seq = torch.max(output_scores, dim=1)\n",
    "\n",
    "            # The desired output consists of the target sequence (except \n",
    "            # the first character).\n",
    "            desired_seq = target_seq[:, 1:].contiguous().view(-1)\n",
    "\n",
    "            # Note: The \"contiguous\" method pushes the tensor to a contiguous \n",
    "            # region in memory, which leads to faster computations. The \"view\" \n",
    "            # method provides a specific view of the tensor. In the present \n",
    "            # case, it is a one-dimensional tensor with dimension inferred from\n",
    "            # the object size.\n",
    "            \n",
    "            # Compute accuracy\n",
    "            acc += (output_seq == desired_seq).sum().item()\n",
    "            \n",
    "            dataset_size += desired_seq.size(0)\n",
    "\n",
    "        # Average\n",
    "        acc = acc / dataset_size\n",
    "\n",
    "    # We reset the network back to training mode\n",
    "    net.train()\n",
    "        \n",
    "    return acc"
   ]
  },
  {
   "cell_type": "markdown",
   "metadata": {
    "id": "yIBBFxjVuJlw"
   },
   "source": [
    "We also define a function to be used when training the neural network. We call this function `train_network`. The function shall receive, as arguments:\n",
    "\n",
    "* The neural network\n",
    "* The loss function\n",
    "* The optimizer\n",
    "* The training set\n",
    "* The validation set\n",
    "\n",
    "We'll also include an optional parameter to specify the number of epochs (we'll use 30 as the default value)."
   ]
  },
  {
   "cell_type": "code",
   "execution_count": 4,
   "metadata": {
    "execution": {
     "iopub.execute_input": "2023-06-01T09:35:04.684201Z",
     "iopub.status.busy": "2023-06-01T09:35:04.683918Z",
     "iopub.status.idle": "2023-06-01T09:35:04.698908Z",
     "shell.execute_reply": "2023-06-01T09:35:04.695061Z",
     "shell.execute_reply.started": "2023-06-01T09:35:04.684166Z"
    },
    "executionInfo": {
     "elapsed": 207,
     "status": "ok",
     "timestamp": 1655556327456,
     "user": {
      "displayName": "Francisco Melo",
      "userId": "00306568718420504230"
     },
     "user_tz": -60
    },
    "id": "ClRtPuCXvFo9",
    "tags": []
   },
   "outputs": [],
   "source": [
    "def train_network(net, loss, optimizer, train_dataset, valid_dataset, epochs=30):\n",
    "\n",
    "    # We define an auxiliary function that takes care of the training for a \n",
    "    # epoch. This function is \"invisible\" outside the \"train_network\" function.\n",
    "    \n",
    "    def train_epoch(net, dataset):\n",
    "        \n",
    "        # We use an auxiliary variable to keep track of the loss within an \n",
    "        # epoch\n",
    "        running_loss = 0.\n",
    "        \n",
    "        dataset.shuffle()\n",
    "        \n",
    "        for source_seq, target_seq in dataset:\n",
    "            \n",
    "            # We first zero-out the gradients\n",
    "            optimizer.zero_grad()\n",
    "            \n",
    "            # We build the decoder input from the target sequence\n",
    "            decoder_in = target_seq[:, :-1]\n",
    "            \n",
    "            # We compute the output\n",
    "            output_scores, _ = net(source_seq, decoder_in)\n",
    "            \n",
    "            # Desired ouput\n",
    "            desired_seq = target_seq[:, 1:].contiguous().view(-1)\n",
    "\n",
    "            # Compute the loss\n",
    "            l = loss(output_scores, desired_seq)\n",
    "            \n",
    "            # Compute gradient\n",
    "            l.backward()\n",
    "\n",
    "            # Perform optimization step\n",
    "            optimizer.step()\n",
    "\n",
    "            # Update the total running loss\n",
    "            running_loss += l.item()\n",
    "        \n",
    "        return running_loss\n",
    "\n",
    "    # We start by initializing two lists, to track the performance during \n",
    "    # training\n",
    "    train_losses = []\n",
    "    valid_accuracies = []\n",
    "    \n",
    "    for ep in range(epochs):\n",
    "        print(f'\\n- Training epoch: {ep} -')\n",
    "        \n",
    "        train_losses += [train_epoch(net, train_dataset)]\n",
    "        valid_accuracies += [evaluate(net, valid_dataset)]\n",
    "\n",
    "        print(f'Training loss: {train_losses[-1]:.4f}')\n",
    "        print(f'Validation accuracy: {valid_accuracies[-1]:.1%}')\n",
    "\n",
    "    return net, train_losses, valid_accuracies"
   ]
  },
  {
   "cell_type": "markdown",
   "metadata": {
    "id": "rZ4rG2AcyvfA"
   },
   "source": [
    "## Preparing the dataset\n",
    "\n",
    "The data we will be using today will be generated synthetically. We will build a set of strings comprising the letters `\"a\"`, `\"b\"`, `\"c\"`, and `\"d\"`, plus the characters `\"<bos>\"` and `\"<eos>\"`, standing for \"beginning of sentence\" and \"end of sentence\", respectively. \n",
    "\n",
    "Our network should learn to _invert_ the input string. To that purpose, we define some auxiliary functions that generate random sequences using the aforementioned 4 characters, and invert them to create the dataset."
   ]
  },
  {
   "cell_type": "code",
   "execution_count": 5,
   "metadata": {
    "execution": {
     "iopub.execute_input": "2023-06-01T09:35:04.701068Z",
     "iopub.status.busy": "2023-06-01T09:35:04.700520Z",
     "iopub.status.idle": "2023-06-01T09:35:04.711047Z",
     "shell.execute_reply": "2023-06-01T09:35:04.708965Z",
     "shell.execute_reply.started": "2023-06-01T09:35:04.701014Z"
    },
    "executionInfo": {
     "elapsed": 315,
     "status": "ok",
     "timestamp": 1655557814571,
     "user": {
      "displayName": "Francisco Melo",
      "userId": "00306568718420504230"
     },
     "user_tz": -60
    },
    "id": "e1-FHaS6gojv"
   },
   "outputs": [],
   "source": [
    "LETTERS = ['a', 'b', 'c', 'd']\n",
    "\n",
    "BOS = \"<bos>\"\n",
    "EOS = \"<eos>\"\n",
    "\n",
    "# Index to string mapping: given an index, it returns the corresponding string\n",
    "I2S  = [BOS, EOS] + LETTERS\n",
    "\n",
    "# String to index mapping: given a string, it returns the corresponding index \n",
    "S2I = {BOS: 0, EOS: 1, 'a': 2, 'b': 3, 'c': 4, 'd': 5}\n",
    "\n",
    "def gen_string(min_len, max_len):\n",
    "    ''' \n",
    "        Function to generate a random string with length between \n",
    "        min_len and max_len.\n",
    "    '''\n",
    "    \n",
    "    # Sample sequence length\n",
    "    seq_len = random.randint(min_len, max_len)\n",
    "    \n",
    "    # Sample sequence\n",
    "    seq = [random.choice(LETTERS) for _ in range(seq_len)]\n",
    "    \n",
    "    # Return generated string (no <BOS> or <EOS>)\n",
    "    return \"\".join(seq)\n",
    "\n",
    "def gen_string_batch(min_len, max_len, size):\n",
    "    '''\n",
    "        Function to generate a batch of strings with length between´\n",
    "        min_len and max_len with given size.\n",
    "    '''\n",
    "\n",
    "    return [gen_string(min_len, max_len) for _ in range(size)]\n",
    "\n",
    "def string2tensor(string):\n",
    "    '''\n",
    "        Function to convert a string to a tensor of indices. <EOS> and\n",
    "        <BOS> are added now.\n",
    "    '''\n",
    "\n",
    "    seq = [BOS] + list(string) + [EOS]\n",
    "    index_seq = [S2I[x] for x in seq]\n",
    "    \n",
    "    # We use unsqueeze to add an initial dimension to the beginning, \n",
    "    # to facilitate concatenation later on.\n",
    "    return torch.tensor(index_seq, dtype=torch.long).unsqueeze(0)"
   ]
  },
  {
   "cell_type": "markdown",
   "metadata": {
    "id": "Cl65QQ7r3WqA"
   },
   "source": [
    "We now build a dataset class to hold our data."
   ]
  },
  {
   "cell_type": "code",
   "execution_count": 6,
   "metadata": {
    "execution": {
     "iopub.execute_input": "2023-06-01T09:35:04.714237Z",
     "iopub.status.busy": "2023-06-01T09:35:04.713754Z",
     "iopub.status.idle": "2023-06-01T09:35:04.724311Z",
     "shell.execute_reply": "2023-06-01T09:35:04.723235Z",
     "shell.execute_reply.started": "2023-06-01T09:35:04.714207Z"
    },
    "executionInfo": {
     "elapsed": 219,
     "status": "ok",
     "timestamp": 1655557820231,
     "user": {
      "displayName": "Francisco Melo",
      "userId": "00306568718420504230"
     },
     "user_tz": -60
    },
    "id": "-8TLMnSu3bFi"
   },
   "outputs": [],
   "source": [
    "class StringDataset(datautils.Dataset):\n",
    "    def __init__(self, min_len, max_len, size):\n",
    "        strings = gen_string_batch(min_len, max_len, size)\n",
    "\n",
    "        self.samples = []\n",
    "        \n",
    "        for seq in strings:\n",
    "            straight_seq = string2tensor(seq)\n",
    "            reversed_seq = string2tensor(reversed(seq))\n",
    "\n",
    "            self.samples += [(straight_seq, reversed_seq)]\n",
    "\n",
    "    def shuffle(self):\n",
    "        random.shuffle(self.samples)\n",
    "\n",
    "    def __len__(self):\n",
    "        return len(self.samples)\n",
    "\n",
    "    def __getitem__(self, idx):\n",
    "        return self.samples[idx]"
   ]
  },
  {
   "cell_type": "markdown",
   "metadata": {
    "id": "ZgSWXa-F4sQf"
   },
   "source": [
    "We can now create our datasets."
   ]
  },
  {
   "cell_type": "code",
   "execution_count": 7,
   "metadata": {
    "execution": {
     "iopub.execute_input": "2023-06-01T09:35:04.725466Z",
     "iopub.status.busy": "2023-06-01T09:35:04.725213Z",
     "iopub.status.idle": "2023-06-01T09:35:04.751201Z",
     "shell.execute_reply": "2023-06-01T09:35:04.750400Z",
     "shell.execute_reply.started": "2023-06-01T09:35:04.725448Z"
    },
    "executionInfo": {
     "elapsed": 211,
     "status": "ok",
     "timestamp": 1655557823287,
     "user": {
      "displayName": "Francisco Melo",
      "userId": "00306568718420504230"
     },
     "user_tz": -60
    },
    "id": "ohYsJIOA4u4j"
   },
   "outputs": [],
   "source": [
    "# Number of samples in the training set:\n",
    "train_size = 200\n",
    "\n",
    "# Number of samples in validation set\n",
    "valid_size = 100\n",
    "\n",
    "train_set = StringDataset(3, 15, train_size)\n",
    "valid_set = StringDataset(3, 15, valid_size)"
   ]
  },
  {
   "cell_type": "markdown",
   "metadata": {
    "id": "gUuuV3vWgztO"
   },
   "source": [
    "## Creating a sequence-to-sequence model\n",
    "\n",
    "Let us now create our sequence-to-sequence model. Our model will consist of an encoder and a decoder, both of which will consist of recurrent neural networks. The encoder has a structure similar to that of pooled classification models, where a sequence is processed to a single output. The decoder has a structure similar to that of sequence generation models, which generates sequences auto-regressively.\n",
    "\n",
    "We start by defining the encoder as an RNN network. We allow our model to be either single- or bi-directional. Unlike the previous lab, we do not manually run each element of the sequence through the recurrent layer, but instead allow the layer to process the whole sequence automatically."
   ]
  },
  {
   "cell_type": "code",
   "execution_count": 8,
   "metadata": {
    "execution": {
     "iopub.execute_input": "2023-06-01T09:35:04.752266Z",
     "iopub.status.busy": "2023-06-01T09:35:04.752064Z",
     "iopub.status.idle": "2023-06-01T09:35:04.761028Z",
     "shell.execute_reply": "2023-06-01T09:35:04.759371Z",
     "shell.execute_reply.started": "2023-06-01T09:35:04.752249Z"
    },
    "executionInfo": {
     "elapsed": 225,
     "status": "ok",
     "timestamp": 1655557826216,
     "user": {
      "displayName": "Francisco Melo",
      "userId": "00306568718420504230"
     },
     "user_tz": -60
    },
    "id": "wstSjHqIg1PX"
   },
   "outputs": [],
   "source": [
    "class Encoder(nn.Module):\n",
    "    def __init__(self, input_size, embedding_size, hidden_size, bidirectional=False):\n",
    "        super().__init__()\n",
    "\n",
    "        # We create an embedding layer to convert the input to a feature vector\n",
    "        self.i2f_layer = nn.Embedding(input_size, embedding_size)\n",
    "\n",
    "        # If we use a bi-directional network, we split the dimension of the \n",
    "        # hidden vector by the two networks, the forward network and the\n",
    "        # backward network\n",
    "        if bidirectional:\n",
    "            hidden_size //= 2\n",
    "        \n",
    "        # We now create our LSTM layer. The argument \"batch_first\" indicates \n",
    "        # that the first coordinate of the input tensor corresponds to the size\n",
    "        # of the batch\n",
    "        self.f2h_layer = nn.LSTM(embedding_size, \n",
    "                                 hidden_size, \n",
    "                                 bidirectional=bidirectional, \n",
    "                                 batch_first=True)\n",
    "\n",
    "    def _reshape_hidden(self, hidden):\n",
    "        ''' \n",
    "            This function is used to reshape the hidden vector when the network\n",
    "            is bidirectional. It uses the auxiliary function \"_merge_tensor\".\n",
    "        '''\n",
    "        \n",
    "        def _merge_tensor(hidden):\n",
    "            # If the network is bidirectional, then hidden is a tensor with \n",
    "            # dimension (2, hidden_size), otherwise (1, hidden_size).\n",
    "            forward_hidden  = hidden[::2]\n",
    "            backward_hidden = hidden[1::2]\n",
    "            \n",
    "            # Merges the two hidden states (forward and backward) into a single\n",
    "            # hidden tensor\n",
    "            return torch.cat([forward_hidden, backward_hidden], 2)\n",
    "\n",
    "        # Make sure that reshape only happens if the network is bidirectional\n",
    "        assert self.f2h_layer.bidirectional\n",
    "\n",
    "        # If the layer's hidden state is a tuple (in LSTM that is the case)\n",
    "        # then treat each element of the tuple separately\n",
    "        if isinstance(hidden, tuple):\n",
    "            return tuple(_merge_tensor(h) for h in hidden)\n",
    "        else:\n",
    "            return _merge_tensor(hidden)\n",
    "\n",
    "    def forward(self, input, hidden=None):\n",
    "        \n",
    "        # Process the whole input sequence\n",
    "        f = self.i2f_layer(input)\n",
    "\n",
    "        # \"hidden\" is a tuple containing both the hidden state and the cell \n",
    "        # tensor of the LSTM layer\n",
    "        output, hidden = self.f2h_layer(f, hidden)\n",
    "\n",
    "        # In bi-directional networks, hidden will include both the forward and\n",
    "        # the backward hidden vectors, which need to be reshaped accordingly\n",
    "        if self.f2h_layer.bidirectional:\n",
    "            hidden = self._reshape_hidden(hidden)\n",
    "        \n",
    "        return output, hidden"
   ]
  },
  {
   "cell_type": "markdown",
   "metadata": {
    "id": "cxyZE_YOg5SH"
   },
   "source": [
    "We also need to define the decoder. The decoder is also an LSTM network, and (to save some trouble further ahead) we will implement it to work both with and without attention."
   ]
  },
  {
   "cell_type": "code",
   "execution_count": 9,
   "metadata": {
    "execution": {
     "iopub.execute_input": "2023-06-01T09:35:04.764153Z",
     "iopub.status.busy": "2023-06-01T09:35:04.763706Z",
     "iopub.status.idle": "2023-06-01T09:35:04.773602Z",
     "shell.execute_reply": "2023-06-01T09:35:04.771313Z",
     "shell.execute_reply.started": "2023-06-01T09:35:04.764098Z"
    },
    "executionInfo": {
     "elapsed": 210,
     "status": "ok",
     "timestamp": 1655557829972,
     "user": {
      "displayName": "Francisco Melo",
      "userId": "00306568718420504230"
     },
     "user_tz": -60
    },
    "id": "EVfu_yRsg-Ml"
   },
   "outputs": [],
   "source": [
    "class Decoder(nn.Module):\n",
    "    def __init__(self, input_size, embedding_size, hidden_size, output_size, attention=None):\n",
    "        super().__init__()\n",
    "        \n",
    "        self.hidden_size = hidden_size\n",
    "        \n",
    "        # Create an embedding layer, to process the input sequence\n",
    "        # (e.g., used in auto-regression)\n",
    "        self.i2f_layer = nn.Embedding(input_size, embedding_size)\n",
    "\n",
    "        # LSTM layer (unidirectional - inputs are processed sequentially)\n",
    "        self.f2h_layer = nn.LSTM(embedding_size, hidden_size, batch_first=True)\n",
    "\n",
    "        # Output layer that returns scores over output_size \n",
    "        self.h2o_layer = nn.Linear(hidden_size, output_size)\n",
    "        \n",
    "        self.attention = attention\n",
    "\n",
    "    def forward(self, input, encoder_out, hidden):\n",
    "        ''' \n",
    "            The forward pass receives 3 input arguments:\n",
    "            - \"input\" corresponds to the input sequence;\n",
    "            - \"hidden\" corresponds to the corresponding hidden states;\n",
    "            - \"encoder_out\" corresponds to the encoder output for the attention \n",
    "              mechanism.\n",
    "        '''\n",
    "        \n",
    "        # Process the whole input sequence\n",
    "        f = self.i2f_layer(input)\n",
    "        \n",
    "        # \"hidden\" is a tuple containing both the hidden state and the cell \n",
    "        # tensor of the LSTM layer\n",
    "        o, hidden = self.f2h_layer(f, hidden)\n",
    "\n",
    "        # \"context\" is the input sequence information coming from the encoder\n",
    "        # When available, we use it to compute the alignment mask with the\n",
    "        # current query\n",
    "        alignment = None\n",
    "        \n",
    "        # Use attention layer to compute the weighted output and alignment\n",
    "        # tensor\n",
    "        if self.attention is not None:\n",
    "            o, alignment = self.attention(o, encoder_out)\n",
    "\n",
    "        # Reshape output to the correct size (N, len(seq), hidden_size)\n",
    "        o = o.contiguous().view(-1, self.hidden_size)\n",
    "\n",
    "        # Compute output\n",
    "        o = self.h2o_layer(o)\n",
    "        \n",
    "        return o, hidden, alignment"
   ]
  },
  {
   "cell_type": "markdown",
   "metadata": {
    "id": "MmW7wdVChFnC"
   },
   "source": [
    "Finally, we can build our sequence to sequence class by putting the encoder and decoder together, into an encoder-decoder model."
   ]
  },
  {
   "cell_type": "code",
   "execution_count": 10,
   "metadata": {
    "execution": {
     "iopub.execute_input": "2023-06-01T09:35:04.776566Z",
     "iopub.status.busy": "2023-06-01T09:35:04.775904Z",
     "iopub.status.idle": "2023-06-01T09:35:04.789533Z",
     "shell.execute_reply": "2023-06-01T09:35:04.788785Z",
     "shell.execute_reply.started": "2023-06-01T09:35:04.776492Z"
    },
    "executionInfo": {
     "elapsed": 351,
     "status": "ok",
     "timestamp": 1655557834035,
     "user": {
      "displayName": "Francisco Melo",
      "userId": "00306568718420504230"
     },
     "user_tz": -60
    },
    "id": "3AsStsSAhIYF"
   },
   "outputs": [],
   "source": [
    "class Seq2Seq(nn.Module):\n",
    "    def __init__(self, encoder, decoder):\n",
    "        super().__init__()\n",
    "        \n",
    "        # The sequence to sequence model consists of the encoder and decoder\n",
    "        self.encoder = encoder\n",
    "        self.decoder = decoder\n",
    "\n",
    "    def forward(self, source_seq, target_seq):\n",
    "        \n",
    "        # In the forward pass, we run the source sequence through the encoder\n",
    "        # We get the context and last hidden state\n",
    "        encoder_out, hidden = self.encoder(source_seq)\n",
    "\n",
    "        # To generate the output sequence, we pass the context to the decoder,\n",
    "        # initialize its hidden state to that coming from the encoder, and \n",
    "        # pass the target sequence to the decoder, to ensure that the \n",
    "        # generation comes from the right sequence (\"teacher-forcing\")\n",
    "        out, hidden, alignment = self.decoder(target_seq, \n",
    "                                              encoder_out=encoder_out, \n",
    "                                              hidden=hidden)\n",
    "\n",
    "        return out, alignment\n",
    "\n",
    "    def sample(self, source_seq, max_length=None):\n",
    "        ''' \n",
    "            We will use this function to generate output sequences given an \n",
    "            source sequence.\n",
    "        '''\n",
    "            \n",
    "        # During sampling, we store no gradient information\n",
    "        self.eval()\n",
    "\n",
    "        # Beginning and end of sentence tensors\n",
    "        bos_tensor = torch.tensor([0], dtype=torch.long).unsqueeze(0)\n",
    "        eos_tensor = torch.tensor([1], dtype=torch.long).unsqueeze(0)\n",
    "\n",
    "        source_seq = string2tensor(source_seq)\n",
    "\n",
    "        with torch.no_grad():\n",
    "            encoder_out, hidden = self.encoder(source_seq)\n",
    "          \n",
    "            # We initialize the output string with the BOS tensor\n",
    "            output = bos_tensor\n",
    "\n",
    "            # While not <EOS>\n",
    "            while True:\n",
    "                out, _, _ = self.decoder(output,\n",
    "                                         encoder_out=encoder_out,\n",
    "                                         hidden=hidden)\n",
    "                \n",
    "                # Select next symbol\n",
    "                _, next_idx = torch.max(out, dim=1)\n",
    "\n",
    "                output = torch.cat((bos_tensor, next_idx.unsqueeze(0)), dim=1)\n",
    "\n",
    "                # If the next symbol is <EOS>, we stop\n",
    "                if next_idx[-1] == 1:\n",
    "                    break\n",
    "                \n",
    "                # If string is too long, add eos and stop\n",
    "                elif max_length is not None and len(next_idx) > max_length:\n",
    "                    output = torch.cat((output, eos_tensor), dim=1)\n",
    "                    break\n",
    "\n",
    "        self.train()\n",
    "\n",
    "        output = ''.join([I2S[x] for x in output.squeeze(0)[1:-1]])\n",
    "\n",
    "        return output"
   ]
  },
  {
   "cell_type": "markdown",
   "metadata": {
    "id": "GqNuGnDmhZ5D"
   },
   "source": [
    "We can now define our sequence-to-sequence model. We use a unidirectional model without attention."
   ]
  },
  {
   "cell_type": "code",
   "execution_count": 11,
   "metadata": {
    "colab": {
     "base_uri": "https://localhost:8080/"
    },
    "execution": {
     "iopub.execute_input": "2023-06-01T09:35:04.791314Z",
     "iopub.status.busy": "2023-06-01T09:35:04.790851Z",
     "iopub.status.idle": "2023-06-01T09:35:04.814000Z",
     "shell.execute_reply": "2023-06-01T09:35:04.811277Z",
     "shell.execute_reply.started": "2023-06-01T09:35:04.791262Z"
    },
    "executionInfo": {
     "elapsed": 216,
     "status": "ok",
     "timestamp": 1655557922138,
     "user": {
      "displayName": "Francisco Melo",
      "userId": "00306568718420504230"
     },
     "user_tz": -60
    },
    "id": "Jgsv3ecohbw_",
    "outputId": "858ca1f1-ed7d-4977-aa01-e574a08625f5"
   },
   "outputs": [
    {
     "name": "stdout",
     "output_type": "stream",
     "text": [
      "Seq2Seq(\n",
      "  (encoder): Encoder(\n",
      "    (i2f_layer): Embedding(6, 6)\n",
      "    (f2h_layer): LSTM(6, 64, batch_first=True)\n",
      "  )\n",
      "  (decoder): Decoder(\n",
      "    (i2f_layer): Embedding(6, 6)\n",
      "    (f2h_layer): LSTM(6, 64, batch_first=True)\n",
      "    (h2o_layer): Linear(in_features=64, out_features=6, bias=True)\n",
      "  )\n",
      ")\n"
     ]
    }
   ],
   "source": [
    "input_size     = len(I2S)\n",
    "embedding_size = len(I2S)\n",
    "hidden_size    = 64\n",
    "output_size    = input_size\n",
    "\n",
    "enc = Encoder(input_size, embedding_size, hidden_size)\n",
    "dec = Decoder(input_size, embedding_size, hidden_size, output_size)\n",
    "\n",
    "# We are not going to train the embedding layers in the encoder or decoder, \n",
    "# since in our application, the vocabulary is trivially small\n",
    "enc.i2f_layer.weight.data = torch.eye(input_size)\n",
    "enc.i2f_layer.weight.requires_grad = False\n",
    "\n",
    "dec.i2f_layer.weight.data = enc.i2f_layer.weight.data\n",
    "dec.i2f_layer.weight.requires_grad = False\n",
    "\n",
    "# We create our model\n",
    "seq2seq_net = Seq2Seq(enc, dec)\n",
    "print(seq2seq_net)"
   ]
  },
  {
   "cell_type": "markdown",
   "metadata": {
    "id": "3XSO9NQXTxsG"
   },
   "source": [
    "Let's see how well our network is able to invert sequences..."
   ]
  },
  {
   "cell_type": "code",
   "execution_count": 12,
   "metadata": {
    "colab": {
     "base_uri": "https://localhost:8080/"
    },
    "execution": {
     "iopub.execute_input": "2023-06-01T09:35:04.815884Z",
     "iopub.status.busy": "2023-06-01T09:35:04.815623Z",
     "iopub.status.idle": "2023-06-01T09:35:04.911092Z",
     "shell.execute_reply": "2023-06-01T09:35:04.910276Z",
     "shell.execute_reply.started": "2023-06-01T09:35:04.815862Z"
    },
    "executionInfo": {
     "elapsed": 216,
     "status": "ok",
     "timestamp": 1655557952542,
     "user": {
      "displayName": "Francisco Melo",
      "userId": "00306568718420504230"
     },
     "user_tz": -60
    },
    "id": "bbIywbD6Txd0",
    "outputId": "b065da37-c7e2-4241-890f-9ffee1e6384c"
   },
   "outputs": [
    {
     "name": "stdout",
     "output_type": "stream",
     "text": [
      "Network converted aabbbdd to aaaaaaaaaaaaaaaa\n",
      "Network converted dacc to aaaaaaaaaaaaaaaa\n",
      "Network converted aad to aaaaaaaaaaaaaaaa\n",
      "Network converted bccbbdbdc to aaaaaaaaaaaaaaaa\n",
      "Network converted cdbccacdaad to aaaaaaaaaaaaaaaa\n"
     ]
    }
   ],
   "source": [
    "for i in range(5):\n",
    "    source = gen_string(3, 15)\n",
    "    out = seq2seq_net.sample(source, max_length=15)\n",
    "    print(f'Network converted {source} to {out}')"
   ]
  },
  {
   "cell_type": "markdown",
   "metadata": {
    "id": "QTz86giHTpyG"
   },
   "source": [
    "We now proceed with training our network."
   ]
  },
  {
   "cell_type": "code",
   "execution_count": 13,
   "metadata": {
    "colab": {
     "base_uri": "https://localhost:8080/"
    },
    "execution": {
     "iopub.execute_input": "2023-06-01T09:35:04.915639Z",
     "iopub.status.busy": "2023-06-01T09:35:04.915358Z",
     "iopub.status.idle": "2023-06-01T09:35:29.904687Z",
     "shell.execute_reply": "2023-06-01T09:35:29.903706Z",
     "shell.execute_reply.started": "2023-06-01T09:35:04.915618Z"
    },
    "executionInfo": {
     "elapsed": 4987,
     "status": "ok",
     "timestamp": 1655558065382,
     "user": {
      "displayName": "Francisco Melo",
      "userId": "00306568718420504230"
     },
     "user_tz": -60
    },
    "id": "PeaYYCwlTpYG",
    "outputId": "a73555c9-80cb-4c2a-b2f3-783d8e2fae7b"
   },
   "outputs": [
    {
     "name": "stdout",
     "output_type": "stream",
     "text": [
      "\n",
      "- Training epoch: 0 -\n",
      "Training loss: 329.2283\n",
      "Validation accuracy: 25.7%\n",
      "\n",
      "- Training epoch: 1 -\n",
      "Training loss: 319.1867\n",
      "Validation accuracy: 21.5%\n",
      "\n",
      "- Training epoch: 2 -\n",
      "Training loss: 315.7052\n",
      "Validation accuracy: 25.7%\n",
      "\n",
      "- Training epoch: 3 -\n",
      "Training loss: 311.5084\n",
      "Validation accuracy: 24.4%\n",
      "\n",
      "- Training epoch: 4 -\n",
      "Training loss: 308.8984\n",
      "Validation accuracy: 24.4%\n",
      "\n",
      "- Training epoch: 5 -\n",
      "Training loss: 307.7888\n",
      "Validation accuracy: 24.4%\n",
      "\n",
      "- Training epoch: 6 -\n",
      "Training loss: 307.5509\n",
      "Validation accuracy: 26.0%\n",
      "\n",
      "- Training epoch: 7 -\n",
      "Training loss: 306.8296\n",
      "Validation accuracy: 26.7%\n",
      "\n",
      "- Training epoch: 8 -\n",
      "Training loss: 306.2311\n",
      "Validation accuracy: 26.7%\n",
      "\n",
      "- Training epoch: 9 -\n",
      "Training loss: 304.2773\n",
      "Validation accuracy: 25.7%\n",
      "\n",
      "- Training epoch: 10 -\n",
      "Training loss: 293.9386\n",
      "Validation accuracy: 28.8%\n",
      "\n",
      "- Training epoch: 11 -\n",
      "Training loss: 284.2842\n",
      "Validation accuracy: 25.3%\n",
      "\n",
      "- Training epoch: 12 -\n",
      "Training loss: 273.7654\n",
      "Validation accuracy: 28.7%\n",
      "\n",
      "- Training epoch: 13 -\n",
      "Training loss: 263.1960\n",
      "Validation accuracy: 34.6%\n",
      "\n",
      "- Training epoch: 14 -\n",
      "Training loss: 253.2467\n",
      "Validation accuracy: 32.8%\n",
      "\n",
      "- Training epoch: 15 -\n",
      "Training loss: 248.3558\n",
      "Validation accuracy: 21.4%\n",
      "\n",
      "- Training epoch: 16 -\n",
      "Training loss: 243.4891\n",
      "Validation accuracy: 40.6%\n",
      "\n",
      "- Training epoch: 17 -\n",
      "Training loss: 238.2596\n",
      "Validation accuracy: 41.0%\n",
      "\n",
      "- Training epoch: 18 -\n",
      "Training loss: 232.7834\n",
      "Validation accuracy: 40.4%\n",
      "\n",
      "- Training epoch: 19 -\n",
      "Training loss: 226.7464\n",
      "Validation accuracy: 40.9%\n",
      "\n",
      "- Training epoch: 20 -\n",
      "Training loss: 223.5999\n",
      "Validation accuracy: 41.9%\n",
      "\n",
      "- Training epoch: 21 -\n",
      "Training loss: 220.0560\n",
      "Validation accuracy: 44.8%\n",
      "\n",
      "- Training epoch: 22 -\n",
      "Training loss: 216.9124\n",
      "Validation accuracy: 46.3%\n",
      "\n",
      "- Training epoch: 23 -\n",
      "Training loss: 209.2303\n",
      "Validation accuracy: 50.5%\n",
      "\n",
      "- Training epoch: 24 -\n",
      "Training loss: 204.0098\n",
      "Validation accuracy: 46.7%\n",
      "\n",
      "- Training epoch: 25 -\n",
      "Training loss: 201.7092\n",
      "Validation accuracy: 53.9%\n",
      "\n",
      "- Training epoch: 26 -\n",
      "Training loss: 195.5786\n",
      "Validation accuracy: 58.4%\n",
      "\n",
      "- Training epoch: 27 -\n",
      "Training loss: 187.7600\n",
      "Validation accuracy: 51.4%\n",
      "\n",
      "- Training epoch: 28 -\n",
      "Training loss: 180.1448\n",
      "Validation accuracy: 61.6%\n",
      "\n",
      "- Training epoch: 29 -\n",
      "Training loss: 173.8108\n",
      "Validation accuracy: 61.3%\n",
      "\n",
      "- Training epoch: 30 -\n",
      "Training loss: 167.7337\n",
      "Validation accuracy: 63.3%\n",
      "\n",
      "- Training epoch: 31 -\n",
      "Training loss: 158.8793\n",
      "Validation accuracy: 52.0%\n",
      "\n",
      "- Training epoch: 32 -\n",
      "Training loss: 154.0557\n",
      "Validation accuracy: 64.7%\n",
      "\n",
      "- Training epoch: 33 -\n",
      "Training loss: 148.9060\n",
      "Validation accuracy: 67.5%\n",
      "\n",
      "- Training epoch: 34 -\n",
      "Training loss: 143.1091\n",
      "Validation accuracy: 56.0%\n",
      "\n",
      "- Training epoch: 35 -\n",
      "Training loss: 138.0285\n",
      "Validation accuracy: 67.3%\n",
      "\n",
      "- Training epoch: 36 -\n",
      "Training loss: 133.6106\n",
      "Validation accuracy: 68.5%\n",
      "\n",
      "- Training epoch: 37 -\n",
      "Training loss: 128.3671\n",
      "Validation accuracy: 65.6%\n",
      "\n",
      "- Training epoch: 38 -\n",
      "Training loss: 124.6433\n",
      "Validation accuracy: 69.9%\n",
      "\n",
      "- Training epoch: 39 -\n",
      "Training loss: 121.2417\n",
      "Validation accuracy: 71.8%\n",
      "\n",
      "- Training epoch: 40 -\n",
      "Training loss: 113.1649\n",
      "Validation accuracy: 71.4%\n",
      "\n",
      "- Training epoch: 41 -\n",
      "Training loss: 109.9017\n",
      "Validation accuracy: 74.4%\n",
      "\n",
      "- Training epoch: 42 -\n",
      "Training loss: 103.6921\n",
      "Validation accuracy: 73.4%\n",
      "\n",
      "- Training epoch: 43 -\n",
      "Training loss: 99.7027\n",
      "Validation accuracy: 74.9%\n",
      "\n",
      "- Training epoch: 44 -\n",
      "Training loss: 98.9854\n",
      "Validation accuracy: 75.1%\n",
      "\n",
      "- Training epoch: 45 -\n",
      "Training loss: 95.1601\n",
      "Validation accuracy: 77.0%\n",
      "\n",
      "- Training epoch: 46 -\n",
      "Training loss: 92.4893\n",
      "Validation accuracy: 71.7%\n",
      "\n",
      "- Training epoch: 47 -\n",
      "Training loss: 88.1442\n",
      "Validation accuracy: 77.8%\n",
      "\n",
      "- Training epoch: 48 -\n",
      "Training loss: 83.3129\n",
      "Validation accuracy: 76.0%\n",
      "\n",
      "- Training epoch: 49 -\n",
      "Training loss: 85.2080\n",
      "Validation accuracy: 74.9%\n",
      "\n",
      "- Training epoch: 50 -\n",
      "Training loss: 78.5232\n",
      "Validation accuracy: 78.2%\n",
      "\n",
      "- Training epoch: 51 -\n",
      "Training loss: 74.1573\n",
      "Validation accuracy: 73.2%\n",
      "\n",
      "- Training epoch: 52 -\n",
      "Training loss: 79.6096\n",
      "Validation accuracy: 81.7%\n",
      "\n",
      "- Training epoch: 53 -\n",
      "Training loss: 68.5265\n",
      "Validation accuracy: 81.1%\n",
      "\n",
      "- Training epoch: 54 -\n",
      "Training loss: 67.2345\n",
      "Validation accuracy: 79.6%\n",
      "\n",
      "- Training epoch: 55 -\n",
      "Training loss: 65.2280\n",
      "Validation accuracy: 81.0%\n",
      "\n",
      "- Training epoch: 56 -\n",
      "Training loss: 61.4886\n",
      "Validation accuracy: 80.5%\n",
      "\n",
      "- Training epoch: 57 -\n",
      "Training loss: 58.9988\n",
      "Validation accuracy: 82.7%\n",
      "\n",
      "- Training epoch: 58 -\n",
      "Training loss: 61.4211\n",
      "Validation accuracy: 83.7%\n",
      "\n",
      "- Training epoch: 59 -\n",
      "Training loss: 57.7826\n",
      "Validation accuracy: 79.9%\n",
      "\n",
      "- Training epoch: 60 -\n",
      "Training loss: 59.3710\n",
      "Validation accuracy: 82.1%\n",
      "\n",
      "- Training epoch: 61 -\n",
      "Training loss: 51.0985\n",
      "Validation accuracy: 81.5%\n",
      "\n",
      "- Training epoch: 62 -\n",
      "Training loss: 48.8699\n",
      "Validation accuracy: 85.2%\n",
      "\n",
      "- Training epoch: 63 -\n",
      "Training loss: 46.8857\n",
      "Validation accuracy: 83.9%\n",
      "\n",
      "- Training epoch: 64 -\n",
      "Training loss: 49.0967\n",
      "Validation accuracy: 83.8%\n",
      "\n",
      "- Training epoch: 65 -\n",
      "Training loss: 43.9854\n",
      "Validation accuracy: 83.3%\n",
      "\n",
      "- Training epoch: 66 -\n",
      "Training loss: 44.0905\n",
      "Validation accuracy: 85.6%\n",
      "\n",
      "- Training epoch: 67 -\n",
      "Training loss: 46.1249\n",
      "Validation accuracy: 85.6%\n",
      "\n",
      "- Training epoch: 68 -\n",
      "Training loss: 43.7280\n",
      "Validation accuracy: 84.6%\n",
      "\n",
      "- Training epoch: 69 -\n",
      "Training loss: 39.8263\n",
      "Validation accuracy: 85.4%\n"
     ]
    }
   ],
   "source": [
    "# We define the loss\n",
    "loss = nn.CrossEntropyLoss()\n",
    "\n",
    "# We setup our optimizer\n",
    "optimizer = torch.optim.SGD(seq2seq_net.parameters(), lr=0.1)\n",
    "\n",
    "# ... and we run the training routine\n",
    "seq2seq_net, train_loss, valid_acc = train_network(seq2seq_net, loss, optimizer, train_set, valid_set, epochs=70)"
   ]
  },
  {
   "cell_type": "code",
   "execution_count": 14,
   "metadata": {
    "colab": {
     "base_uri": "https://localhost:8080/",
     "height": 573
    },
    "execution": {
     "iopub.execute_input": "2023-06-01T09:35:29.906566Z",
     "iopub.status.busy": "2023-06-01T09:35:29.905864Z",
     "iopub.status.idle": "2023-06-01T09:35:30.318870Z",
     "shell.execute_reply": "2023-06-01T09:35:30.318041Z",
     "shell.execute_reply.started": "2023-06-01T09:35:29.906543Z"
    },
    "executionInfo": {
     "elapsed": 693,
     "status": "ok",
     "timestamp": 1655558254510,
     "user": {
      "displayName": "Francisco Melo",
      "userId": "00306568718420504230"
     },
     "user_tz": -60
    },
    "id": "kwdpIpHTOT3v",
    "outputId": "fc6a0082-e113-455f-ad8a-0cb16a0d97d2"
   },
   "outputs": [
    {
     "data": {
      "image/png": "[encoded data removed]",
      "text/plain": [
       "<Figure size 640x480 with 1 Axes>"
      ]
     },
     "metadata": {},
     "output_type": "display_data"
    },
    {
     "data": {
      "image/png": "[encoded data removed]",
      "text/plain": [
       "<Figure size 640x480 with 1 Axes>"
      ]
     },
     "metadata": {},
     "output_type": "display_data"
    }
   ],
   "source": [
    "plt.figure()\n",
    "plt.plot(train_loss, 'k-')\n",
    "plt.xlabel('N. epochs')\n",
    "plt.ylabel('Loss')\n",
    "plt.title('Training loss')\n",
    "plt.show()\n",
    "\n",
    "plt.figure()\n",
    "plt.plot(valid_acc, 'k-')\n",
    "plt.xlabel('N. epochs')\n",
    "plt.ylabel('Accuracy')\n",
    "plt.title('Validation accuracy')\n",
    "plt.show()"
   ]
  },
  {
   "cell_type": "markdown",
   "metadata": {
    "id": "52wNCQaAp5y-"
   },
   "source": [
    "Let's see how well our model does in inverting sequences."
   ]
  },
  {
   "cell_type": "code",
   "execution_count": 15,
   "metadata": {
    "colab": {
     "base_uri": "https://localhost:8080/"
    },
    "execution": {
     "iopub.execute_input": "2023-06-01T09:35:30.321077Z",
     "iopub.status.busy": "2023-06-01T09:35:30.320835Z",
     "iopub.status.idle": "2023-06-01T09:35:30.397235Z",
     "shell.execute_reply": "2023-06-01T09:35:30.396379Z",
     "shell.execute_reply.started": "2023-06-01T09:35:30.321056Z"
    },
    "executionInfo": {
     "elapsed": 216,
     "status": "ok",
     "timestamp": 1655558266079,
     "user": {
      "displayName": "Francisco Melo",
      "userId": "00306568718420504230"
     },
     "user_tz": -60
    },
    "id": "Pqv9tinup9fc",
    "outputId": "5f39e0f8-a90f-4c6d-8c30-7f274adb43db"
   },
   "outputs": [
    {
     "name": "stdout",
     "output_type": "stream",
     "text": [
      "Network converted bbcacdddacabd to dbacaddacbdcb\n",
      "Network converted dddab to baddd\n",
      "Network converted bcadcc to ccdacb\n",
      "Network converted cdaacbbbba to abbbbcaacd\n",
      "Network converted dbbbbccbabbcdb to bdbcbabcbbabbc\n",
      "Network converted ddaaabdbdaaadcc to ccdaaabdabdadca\n",
      "Network converted daad to daad\n",
      "Network converted adddbccbcabdc to dcbacbbcdadcc\n",
      "Network converted cacdcbadadbcc to ccbdadcbacdcd\n",
      "Network converted ccaaadad to dadaacdc\n",
      "Network converted cdc to cdc\n",
      "Network converted bbadcdbca to abccddbcb\n",
      "Network converted cddcdaadbcc to ccbdaacddcd\n",
      "Network converted cbdb to bdbc\n",
      "Network converted cccdddcaa to aacddcdcc\n",
      "Network converted ddbcdcdaadcdc to cddaacdbadcdb\n",
      "Network converted daad to daad\n",
      "Network converted bdbcdbcaaaad to adaacbadbcbd\n",
      "Network converted acaacaca to acacacaa\n",
      "Network converted adbbd to dbbda\n"
     ]
    }
   ],
   "source": [
    "for i in range(20):\n",
    "    source = gen_string(3, 15)\n",
    "    out = seq2seq_net.sample(source)\n",
    "    print(f'Network converted {source} to {out}')"
   ]
  },
  {
   "cell_type": "markdown",
   "metadata": {
    "id": "vZAJe0zAhed2"
   },
   "source": [
    "## Adding attention\n",
    "\n",
    "Our previous model managed to determine a \"relatively correct\" output sequence, but it often struggled with longer sequences. This can be explained by noting that the decoder---the part of our model that builds the output sequence---uses *only* the *last* hidden state from the encoder to jump start the output sequence generation. The last hidden state from the encoder has recently seen the final element of the source sequence---which in our case corresponds to the first element it needs to output---but the other elements (that appeared earlier in the input sequence) less recently.\n",
    "\n",
    "Attention mechanisms are extra layers added to the decoder that allow the generation process to consider hidden state information regarding *all* elements in the input sequence. Such information is provided in the `context` variable, which is the output of the encoder and, in its essence, is just a concatenation of all the hidden states of the encoder.\n",
    "\n",
    "In this exercise, we consider a simple but effective attention mechanism called *dot-product attention*."
   ]
  },
  {
   "cell_type": "code",
   "execution_count": 16,
   "metadata": {
    "execution": {
     "iopub.execute_input": "2023-06-01T09:35:30.398408Z",
     "iopub.status.busy": "2023-06-01T09:35:30.398186Z",
     "iopub.status.idle": "2023-06-01T09:35:30.405377Z",
     "shell.execute_reply": "2023-06-01T09:35:30.404224Z",
     "shell.execute_reply.started": "2023-06-01T09:35:30.398388Z"
    },
    "executionInfo": {
     "elapsed": 212,
     "status": "ok",
     "timestamp": 1655558645749,
     "user": {
      "displayName": "Francisco Melo",
      "userId": "00306568718420504230"
     },
     "user_tz": -60
    },
    "id": "cHs--PyLhiel"
   },
   "outputs": [],
   "source": [
    "# We define dot-product attention as a subclass of nn.Module\n",
    "#\n",
    "# The goal of the attention mechanism is to weight the information from the \n",
    "# input sequence as we progress in the generation of the output sequence. \n",
    "#\n",
    "# In the dot-product attention, the weights are computed simply by taking the \n",
    "# dot-product between the query (the decoder hidden state) and the keys (the\n",
    "# encoder states). The resulting values are run through a softmax function,\n",
    "# yielding the weights to be used to weight the encoder output information.\n",
    "#\n",
    "# To compute the final output we use Luong attention, and combining the context \n",
    "# information with the query through a standard FC layer.\n",
    "\n",
    "class DotProdAttention(nn.Module):\n",
    "    def __init__(self, hidden_size):\n",
    "        super().__init__()\n",
    "\n",
    "        self.att_layer = nn.Sequential(\n",
    "            nn.Linear(hidden_size * 2, hidden_size),\n",
    "            nn.Tanh()\n",
    "        )\n",
    "\n",
    "    def forward(self, query, encoder_out):\n",
    "        '''\n",
    "            The forward pass receives 2 input arguments:\n",
    "            - \"query\" corresponds to the query vector (e.g., the decoder state)\n",
    "            - \"encoder_out\" corresponds to the encoder output.\n",
    "        '''\n",
    "        \n",
    "        # Compute product between query and keys (context) \n",
    "        # Notes: \n",
    "        #   - bmm is \"batch matrix multiplication\"\n",
    "        #   - transpose(a, b) swaps dimensions a and b\n",
    "        scores = torch.bmm(query, encoder_out.transpose(1, 2))\n",
    "        \n",
    "        # Compute attention weights (applies softmax to dim 2)\n",
    "        weights = torch.softmax(scores, 2)\n",
    "\n",
    "        # Compute product between attention weights and values (context)\n",
    "        context = torch.bmm(weights, encoder_out)\n",
    "\n",
    "        # Concatenate query and context along dim 2\n",
    "        state = self.att_layer(torch.cat([context, query], 2))\n",
    "        \n",
    "        return state, weights"
   ]
  },
  {
   "cell_type": "markdown",
   "metadata": {
    "id": "z_rryvZbhlrb"
   },
   "source": [
    "We now create a new sequence-to-sequence model that uses a bi-directional encoder and a decoder with the attention layer just defined."
   ]
  },
  {
   "cell_type": "code",
   "execution_count": 17,
   "metadata": {
    "colab": {
     "base_uri": "https://localhost:8080/"
    },
    "execution": {
     "iopub.execute_input": "2023-06-01T09:35:30.406670Z",
     "iopub.status.busy": "2023-06-01T09:35:30.406454Z",
     "iopub.status.idle": "2023-06-01T09:35:30.416943Z",
     "shell.execute_reply": "2023-06-01T09:35:30.415986Z",
     "shell.execute_reply.started": "2023-06-01T09:35:30.406651Z"
    },
    "executionInfo": {
     "elapsed": 207,
     "status": "ok",
     "timestamp": 1655558709356,
     "user": {
      "displayName": "Francisco Melo",
      "userId": "00306568718420504230"
     },
     "user_tz": -60
    },
    "id": "mrsjW7xPhrBo",
    "outputId": "688506df-598b-44ec-b879-d48f5f045328"
   },
   "outputs": [
    {
     "name": "stdout",
     "output_type": "stream",
     "text": [
      "Seq2Seq(\n",
      "  (encoder): Encoder(\n",
      "    (i2f_layer): Embedding(6, 6)\n",
      "    (f2h_layer): LSTM(6, 32, batch_first=True, bidirectional=True)\n",
      "  )\n",
      "  (decoder): Decoder(\n",
      "    (i2f_layer): Embedding(6, 6)\n",
      "    (f2h_layer): LSTM(6, 64, batch_first=True)\n",
      "    (h2o_layer): Linear(in_features=64, out_features=6, bias=True)\n",
      "    (attention): DotProdAttention(\n",
      "      (att_layer): Sequential(\n",
      "        (0): Linear(in_features=128, out_features=64, bias=True)\n",
      "        (1): Tanh()\n",
      "      )\n",
      "    )\n",
      "  )\n",
      ")\n"
     ]
    }
   ],
   "source": [
    "input_size     = len(I2S)\n",
    "embedding_size = len(I2S)\n",
    "hidden_size    = 64\n",
    "output_size    = input_size\n",
    "\n",
    "att = DotProdAttention(hidden_size)\n",
    "enc = Encoder(input_size, embedding_size, hidden_size, bidirectional=True)\n",
    "dec = Decoder(input_size, embedding_size, hidden_size, output_size, attention=att)\n",
    "\n",
    "# We are not going to train the embedding layers in the encoder or decoder, \n",
    "# since in our application, the vocabulary is trivially small\n",
    "enc.i2f_layer.weight.data = torch.eye(input_size)\n",
    "enc.i2f_layer.weight.requires_grad = False\n",
    "\n",
    "dec.i2f_layer.weight.data = enc.i2f_layer.weight.data\n",
    "dec.i2f_layer.weight.requires_grad = False\n",
    "\n",
    "# We create our model\n",
    "attention_net = Seq2Seq(enc, dec)\n",
    "print(attention_net)"
   ]
  },
  {
   "cell_type": "markdown",
   "metadata": {
    "id": "dgUO79k5WMpk"
   },
   "source": [
    "Let's see how well our network is able to invert sequences before training."
   ]
  },
  {
   "cell_type": "code",
   "execution_count": 18,
   "metadata": {
    "colab": {
     "base_uri": "https://localhost:8080/"
    },
    "execution": {
     "iopub.execute_input": "2023-06-01T09:35:30.418320Z",
     "iopub.status.busy": "2023-06-01T09:35:30.418060Z",
     "iopub.status.idle": "2023-06-01T09:35:30.464159Z",
     "shell.execute_reply": "2023-06-01T09:35:30.463202Z",
     "shell.execute_reply.started": "2023-06-01T09:35:30.418300Z"
    },
    "executionInfo": {
     "elapsed": 325,
     "status": "ok",
     "timestamp": 1655558783371,
     "user": {
      "displayName": "Francisco Melo",
      "userId": "00306568718420504230"
     },
     "user_tz": -60
    },
    "id": "0j_VNzmbWP0U",
    "outputId": "6c1c2071-1566-4de0-ca27-b0e1d3271e22"
   },
   "outputs": [
    {
     "name": "stdout",
     "output_type": "stream",
     "text": [
      "Network converted bbcaaaacbacdadd to bbbbbbbbbbbbbbbb\n",
      "Network converted daaadbbbcabadc to bbbbbbbbbbbbbbbb\n",
      "Network converted aabdbccbabdddca to bbbbbbbbbbbbbbbb\n",
      "Network converted cccbdcddbaccad to bbbbbbbbbbbbbbbb\n",
      "Network converted adaaaa to bbbbbbbbbbbbbbbb\n"
     ]
    }
   ],
   "source": [
    "for i in range(5):\n",
    "    source = gen_string(3, 15)\n",
    "    out = attention_net.sample(source, max_length=15)\n",
    "    print(f'Network converted {source} to {out}')"
   ]
  },
  {
   "cell_type": "markdown",
   "metadata": {
    "id": "Gth28bM1WY5B"
   },
   "source": [
    "We train our network."
   ]
  },
  {
   "cell_type": "code",
   "execution_count": 19,
   "metadata": {
    "colab": {
     "base_uri": "https://localhost:8080/"
    },
    "execution": {
     "iopub.execute_input": "2023-06-01T09:35:30.465470Z",
     "iopub.status.busy": "2023-06-01T09:35:30.465202Z",
     "iopub.status.idle": "2023-06-01T09:35:47.468972Z",
     "shell.execute_reply": "2023-06-01T09:35:47.468112Z",
     "shell.execute_reply.started": "2023-06-01T09:35:30.465448Z"
    },
    "executionInfo": {
     "elapsed": 13864,
     "status": "ok",
     "timestamp": 1655558857090,
     "user": {
      "displayName": "Francisco Melo",
      "userId": "00306568718420504230"
     },
     "user_tz": -60
    },
    "id": "c771dbceWaaq",
    "outputId": "80c87043-6dd6-46ec-a6a5-1de7ffc162c7"
   },
   "outputs": [
    {
     "name": "stdout",
     "output_type": "stream",
     "text": [
      "\n",
      "- Training epoch: 0 -\n",
      "Training loss: 327.7853\n",
      "Validation accuracy: 20.9%\n",
      "\n",
      "- Training epoch: 1 -\n",
      "Training loss: 318.5118\n",
      "Validation accuracy: 23.5%\n",
      "\n",
      "- Training epoch: 2 -\n",
      "Training loss: 316.3103\n",
      "Validation accuracy: 25.9%\n",
      "\n",
      "- Training epoch: 3 -\n",
      "Training loss: 312.0602\n",
      "Validation accuracy: 22.6%\n",
      "\n",
      "- Training epoch: 4 -\n",
      "Training loss: 307.0321\n",
      "Validation accuracy: 28.8%\n",
      "\n",
      "- Training epoch: 5 -\n",
      "Training loss: 303.9589\n",
      "Validation accuracy: 28.4%\n",
      "\n",
      "- Training epoch: 6 -\n",
      "Training loss: 301.0102\n",
      "Validation accuracy: 25.7%\n",
      "\n",
      "- Training epoch: 7 -\n",
      "Training loss: 293.3781\n",
      "Validation accuracy: 30.2%\n",
      "\n",
      "- Training epoch: 8 -\n",
      "Training loss: 282.0612\n",
      "Validation accuracy: 39.1%\n",
      "\n",
      "- Training epoch: 9 -\n",
      "Training loss: 267.1511\n",
      "Validation accuracy: 42.3%\n",
      "\n",
      "- Training epoch: 10 -\n",
      "Training loss: 251.6277\n",
      "Validation accuracy: 46.4%\n",
      "\n",
      "- Training epoch: 11 -\n",
      "Training loss: 232.2169\n",
      "Validation accuracy: 52.0%\n",
      "\n",
      "- Training epoch: 12 -\n",
      "Training loss: 218.2614\n",
      "Validation accuracy: 56.5%\n",
      "\n",
      "- Training epoch: 13 -\n",
      "Training loss: 203.3354\n",
      "Validation accuracy: 62.4%\n",
      "\n",
      "- Training epoch: 14 -\n",
      "Training loss: 185.1662\n",
      "Validation accuracy: 40.2%\n",
      "\n",
      "- Training epoch: 15 -\n",
      "Training loss: 160.5983\n",
      "Validation accuracy: 73.0%\n",
      "\n",
      "- Training epoch: 16 -\n",
      "Training loss: 129.3057\n",
      "Validation accuracy: 85.4%\n",
      "\n",
      "- Training epoch: 17 -\n",
      "Training loss: 93.7387\n",
      "Validation accuracy: 83.2%\n",
      "\n",
      "- Training epoch: 18 -\n",
      "Training loss: 68.6526\n",
      "Validation accuracy: 88.5%\n",
      "\n",
      "- Training epoch: 19 -\n",
      "Training loss: 48.0105\n",
      "Validation accuracy: 95.5%\n",
      "\n",
      "- Training epoch: 20 -\n",
      "Training loss: 30.0293\n",
      "Validation accuracy: 94.4%\n",
      "\n",
      "- Training epoch: 21 -\n",
      "Training loss: 16.8934\n",
      "Validation accuracy: 99.0%\n",
      "\n",
      "- Training epoch: 22 -\n",
      "Training loss: 6.9012\n",
      "Validation accuracy: 98.7%\n",
      "\n",
      "- Training epoch: 23 -\n",
      "Training loss: 18.0422\n",
      "Validation accuracy: 98.9%\n",
      "\n",
      "- Training epoch: 24 -\n",
      "Training loss: 8.3855\n",
      "Validation accuracy: 98.8%\n",
      "\n",
      "- Training epoch: 25 -\n",
      "Training loss: 3.8040\n",
      "Validation accuracy: 99.9%\n",
      "\n",
      "- Training epoch: 26 -\n",
      "Training loss: 1.3386\n",
      "Validation accuracy: 99.9%\n",
      "\n",
      "- Training epoch: 27 -\n",
      "Training loss: 0.8217\n",
      "Validation accuracy: 99.8%\n",
      "\n",
      "- Training epoch: 28 -\n",
      "Training loss: 0.6652\n",
      "Validation accuracy: 99.9%\n",
      "\n",
      "- Training epoch: 29 -\n",
      "Training loss: 0.5473\n",
      "Validation accuracy: 99.8%\n"
     ]
    }
   ],
   "source": [
    "# We setup our optimizer\n",
    "optimizer = torch.optim.SGD(attention_net.parameters(), lr=0.1)\n",
    "\n",
    "# ... and we run the training routine\n",
    "attention_net, train_att_loss, valid_att_acc = train_network(attention_net, loss, optimizer, train_set, valid_set, epochs=30)"
   ]
  },
  {
   "cell_type": "code",
   "execution_count": 20,
   "metadata": {
    "colab": {
     "base_uri": "https://localhost:8080/",
     "height": 573
    },
    "execution": {
     "iopub.execute_input": "2023-06-01T09:35:47.470257Z",
     "iopub.status.busy": "2023-06-01T09:35:47.469994Z",
     "iopub.status.idle": "2023-06-01T09:35:47.840055Z",
     "shell.execute_reply": "2023-06-01T09:35:47.839194Z",
     "shell.execute_reply.started": "2023-06-01T09:35:47.470225Z"
    },
    "executionInfo": {
     "elapsed": 902,
     "status": "ok",
     "timestamp": 1655558862777,
     "user": {
      "displayName": "Francisco Melo",
      "userId": "00306568718420504230"
     },
     "user_tz": -60
    },
    "id": "9VMxHdvnWupN",
    "outputId": "42611981-02d9-4171-dd5c-ed3b8b9b0a68"
   },
   "outputs": [
    {
     "data": {
      "image/png": "[encoded data removed]",
      "text/plain": [
       "<Figure size 640x480 with 1 Axes>"
      ]
     },
     "metadata": {},
     "output_type": "display_data"
    },
    {
     "data": {
      "image/png": "[encoded data removed]",
      "text/plain": [
       "<Figure size 640x480 with 1 Axes>"
      ]
     },
     "metadata": {},
     "output_type": "display_data"
    }
   ],
   "source": [
    "plt.figure()\n",
    "plt.plot(train_att_loss, 'k-', label='With attention')\n",
    "plt.plot(train_loss, 'k:', label='Without attention')\n",
    "plt.xlabel('N. epochs')\n",
    "plt.ylabel('Loss')\n",
    "plt.title('Training loss')\n",
    "plt.legend(loc='best')\n",
    "plt.show()\n",
    "\n",
    "plt.figure()\n",
    "plt.plot(valid_att_acc, 'k-', label='With attention')\n",
    "plt.plot(valid_acc, 'k:', label='Without attention')\n",
    "plt.xlabel('N. epochs')\n",
    "plt.ylabel('Accuracy')\n",
    "plt.title('Validation accuracy')\n",
    "plt.legend(loc='best')\n",
    "plt.show()"
   ]
  },
  {
   "cell_type": "markdown",
   "metadata": {
    "id": "4lHzbWU7WuBM"
   },
   "source": [
    "Let's now see how well our trained model does in inverting sequences."
   ]
  },
  {
   "cell_type": "code",
   "execution_count": 21,
   "metadata": {
    "colab": {
     "base_uri": "https://localhost:8080/"
    },
    "execution": {
     "iopub.execute_input": "2023-06-01T09:35:47.841064Z",
     "iopub.status.busy": "2023-06-01T09:35:47.840804Z",
     "iopub.status.idle": "2023-06-01T09:35:47.948571Z",
     "shell.execute_reply": "2023-06-01T09:35:47.947485Z",
     "shell.execute_reply.started": "2023-06-01T09:35:47.841038Z"
    },
    "executionInfo": {
     "elapsed": 220,
     "status": "ok",
     "timestamp": 1655558899354,
     "user": {
      "displayName": "Francisco Melo",
      "userId": "00306568718420504230"
     },
     "user_tz": -60
    },
    "id": "UyoBAsxsXLVO",
    "outputId": "d1313b87-9333-49d8-f4ea-f69a3acad4d3"
   },
   "outputs": [
    {
     "name": "stdout",
     "output_type": "stream",
     "text": [
      "Network converted bcdddcaaaaccadc to cdaccaaaacdddcb\n",
      "Network converted ddaacabadabb to bbadabacaadd\n",
      "Network converted bddcddbbcbacba to abcabcbbddcddb\n",
      "Network converted dcdbdb to bdbdcd\n",
      "Network converted adbddaabacbbd to dbbcabaaddbda\n",
      "Network converted bbbbbdcdaac to caadcdbbbbb\n",
      "Network converted aad to daa\n",
      "Network converted cdddaa to aadddc\n",
      "Network converted cbcbcadaca to acadacbcbc\n",
      "Network converted cccaacdcacd to dcacdcaaccc\n",
      "Network converted daadaddbb to bbddadaad\n",
      "Network converted dbbbdadddbc to cbdddadbbbd\n",
      "Network converted abadbcbb to bbcbdaba\n",
      "Network converted ccbcbbcddbabbbd to dbbbabddcbbcbcc\n",
      "Network converted cbdab to badbc\n",
      "Network converted dcda to adcd\n",
      "Network converted cabbcccacdcbc to cbcdcacccbbac\n",
      "Network converted aacb to bcaa\n",
      "Network converted adddbaccccbbba to abbcbcccabddda\n",
      "Network converted aacacaccd to dccacacaa\n"
     ]
    }
   ],
   "source": [
    "for i in range(20):\n",
    "    source = gen_string(3, 15)\n",
    "    out = attention_net.sample(source)\n",
    "    print(f'Network converted {source} to {out}')"
   ]
  },
  {
   "cell_type": "markdown",
   "metadata": {
    "id": "QO_Eax3-hw-7"
   },
   "source": [
    "We can also visualize the model's attention matrix."
   ]
  },
  {
   "cell_type": "code",
   "execution_count": 22,
   "metadata": {
    "colab": {
     "base_uri": "https://localhost:8080/",
     "height": 275
    },
    "execution": {
     "iopub.execute_input": "2023-06-01T09:35:47.950335Z",
     "iopub.status.busy": "2023-06-01T09:35:47.949758Z",
     "iopub.status.idle": "2023-06-01T09:35:48.142816Z",
     "shell.execute_reply": "2023-06-01T09:35:48.141809Z",
     "shell.execute_reply.started": "2023-06-01T09:35:47.950312Z"
    },
    "executionInfo": {
     "elapsed": 582,
     "status": "ok",
     "timestamp": 1655558982317,
     "user": {
      "displayName": "Francisco Melo",
      "userId": "00306568718420504230"
     },
     "user_tz": -60
    },
    "id": "VGM7SCH-h0gK",
    "outputId": "0430474f-6a36-4b57-b792-42dbf16f81fc",
    "tags": []
   },
   "outputs": [
    {
     "data": {
      "image/png": "[encoded data removed]",
      "text/plain": [
       "<Figure size 480x480 with 1 Axes>"
      ]
     },
     "metadata": {},
     "output_type": "display_data"
    }
   ],
   "source": [
    "# Let's pick some arbitrary sequence\n",
    "string = \"abacadabacc\"\n",
    "reversed_string = reversed(string)\n",
    "\n",
    "source = string2tensor(string)\n",
    "target = string2tensor(reversed_string)\n",
    "\n",
    "with torch.no_grad():\n",
    "    _, alignment = attention_net(source, target)\n",
    "\n",
    "attention_mat = alignment.squeeze(0).numpy()\n",
    "plt.matshow(attention_mat)\n",
    "plt.show()"
   ]
  },
  {
   "cell_type": "markdown",
   "metadata": {
    "id": "x42z0hX-Cr-o"
   },
   "source": [
    "# Activities\n",
    "\n",
    "## 1. Consider the vectors\n",
    "```\n",
    "h1 = torch.tensor([[-2.0, 1.0, 0.5]])\n",
    "h2 = torch.tensor([[1.0, 1.5, -0.5]])\n",
    "h3 = torch.tensor([[-1.5, 1.0, -0.5]])\n",
    "h4 = torch.tensor([[-2.0, -2.5, 1.5]])\n",
    "```\n",
    "Suppose also that you have a query vector\n",
    "```\n",
    "qt = torch.tensor([[-2.0, 1.0, -1.0]])\n",
    "```\n",
    "What is the context `ct` resulting from using dot-product attention?"
   ]
  },
  {
   "cell_type": "code",
   "execution_count": 23,
   "metadata": {
    "execution": {
     "iopub.execute_input": "2023-06-01T09:35:48.144575Z",
     "iopub.status.busy": "2023-06-01T09:35:48.143968Z",
     "iopub.status.idle": "2023-06-01T09:35:48.158628Z",
     "shell.execute_reply": "2023-06-01T09:35:48.157580Z",
     "shell.execute_reply.started": "2023-06-01T09:35:48.144552Z"
    },
    "tags": []
   },
   "outputs": [
    {
     "data": {
      "text/plain": [
       "tensor([[-2.0000,  1.0000, -1.5000, -2.0000],\n",
       "        [ 1.0000,  1.5000,  1.0000, -2.5000],\n",
       "        [ 0.5000, -0.5000, -0.5000,  1.5000]])"
      ]
     },
     "execution_count": 23,
     "metadata": {},
     "output_type": "execute_result"
    }
   ],
   "source": [
    "h1 = torch.tensor([[-2.0, 1.0, 0.5]])\n",
    "h2 = torch.tensor([[1.0, 1.5, -0.5]])\n",
    "h3 = torch.tensor([[-1.5, 1.0, -0.5]])\n",
    "h4 = torch.tensor([[-2.0, -2.5, 1.5]])\n",
    "\n",
    "k = torch.cat([h1, h2, h3, h4]).T\n",
    "k"
   ]
  },
  {
   "cell_type": "code",
   "execution_count": 24,
   "metadata": {
    "execution": {
     "iopub.execute_input": "2023-06-01T09:35:48.160330Z",
     "iopub.status.busy": "2023-06-01T09:35:48.160054Z",
     "iopub.status.idle": "2023-06-01T09:35:48.170306Z",
     "shell.execute_reply": "2023-06-01T09:35:48.169435Z",
     "shell.execute_reply.started": "2023-06-01T09:35:48.160308Z"
    },
    "tags": []
   },
   "outputs": [
    {
     "data": {
      "text/plain": [
       "tensor([[4.5000, 0.0000, 4.5000, 0.0000]])"
      ]
     },
     "execution_count": 24,
     "metadata": {},
     "output_type": "execute_result"
    }
   ],
   "source": [
    "qt = torch.tensor([[-2.0, 1.0, -1.0]])\n",
    "sim = torch.matmul(qt, k)\n",
    "sim"
   ]
  },
  {
   "cell_type": "code",
   "execution_count": 25,
   "metadata": {
    "execution": {
     "iopub.execute_input": "2023-06-01T09:35:48.172390Z",
     "iopub.status.busy": "2023-06-01T09:35:48.171961Z",
     "iopub.status.idle": "2023-06-01T09:35:48.182553Z",
     "shell.execute_reply": "2023-06-01T09:35:48.180285Z",
     "shell.execute_reply.started": "2023-06-01T09:35:48.172366Z"
    },
    "tags": []
   },
   "outputs": [
    {
     "data": {
      "text/plain": [
       "tensor([[0.4945, 0.0055, 0.4945, 0.0055]])"
      ]
     },
     "execution_count": 25,
     "metadata": {},
     "output_type": "execute_result"
    }
   ],
   "source": [
    "m = nn.Softmax(dim=1)\n",
    "soft = m(sim)\n",
    "soft"
   ]
  },
  {
   "cell_type": "code",
   "execution_count": 26,
   "metadata": {
    "execution": {
     "iopub.execute_input": "2023-06-01T09:35:48.183969Z",
     "iopub.status.busy": "2023-06-01T09:35:48.183686Z",
     "iopub.status.idle": "2023-06-01T09:35:48.191335Z",
     "shell.execute_reply": "2023-06-01T09:35:48.190364Z",
     "shell.execute_reply.started": "2023-06-01T09:35:48.183947Z"
    },
    "tags": []
   },
   "outputs": [
    {
     "data": {
      "text/plain": [
       "tensor([[-1.7363,  0.9835,  0.0055]])"
      ]
     },
     "execution_count": 26,
     "metadata": {},
     "output_type": "execute_result"
    }
   ],
   "source": [
    "ct = torch.matmul(soft, torch.cat([h1, h2, h3, h4]))\n",
    "ct"
   ]
  },
  {
   "cell_type": "markdown",
   "metadata": {
    "id": "x42z0hX-Cr-o"
   },
   "source": [
    "## 2. Suppose now that we want to compute self-attention for the same tensors `h1`, `h2`, `h3`, `h4`, using the matrices\n",
    "```\n",
    "WQ = torch.tensor([[ 1.0, -1.5],\n",
    "                      [ 0.0,  2.0],\n",
    "                      [-0.5, -1.0]])\n",
    "WK = torch.tensor([[-1.5, -1.0],\n",
    "                      [ 2.5,  0.0],\n",
    "                      [ 0.5, -1.0]])\n",
    "WV = torch.tensor([[ 1.0,  2.5],\n",
    "                      [-0.5, -2.0],\n",
    "                      [ 0.0, -1.0]])\n",
    "```\n",
    "\n",
    "What are `Q`, `K`, `V` in this case? And what is the resulting context?"
   ]
  },
  {
   "cell_type": "code",
   "execution_count": 27,
   "metadata": {
    "execution": {
     "iopub.execute_input": "2023-06-01T09:35:48.193146Z",
     "iopub.status.busy": "2023-06-01T09:35:48.192749Z",
     "iopub.status.idle": "2023-06-01T09:35:48.201017Z",
     "shell.execute_reply": "2023-06-01T09:35:48.199423Z",
     "shell.execute_reply.started": "2023-06-01T09:35:48.193124Z"
    },
    "tags": []
   },
   "outputs": [],
   "source": [
    "WQ = torch.tensor([[ 1.0, -1.5], [ 0.0,  2.0], [-0.5, -1.0]])\n",
    "WK = torch.tensor([[-1.5, -1.0], [ 2.5,  0.0], [ 0.5, -1.0]])\n",
    "WV = torch.tensor([[ 1.0,  2.5], [-0.5, -2.0], [ 0.0, -1.0]])"
   ]
  },
  {
   "cell_type": "code",
   "execution_count": 28,
   "metadata": {
    "execution": {
     "iopub.execute_input": "2023-06-01T09:35:48.202683Z",
     "iopub.status.busy": "2023-06-01T09:35:48.202369Z",
     "iopub.status.idle": "2023-06-01T09:35:48.214446Z",
     "shell.execute_reply": "2023-06-01T09:35:48.212417Z",
     "shell.execute_reply.started": "2023-06-01T09:35:48.202660Z"
    },
    "tags": []
   },
   "outputs": [
    {
     "data": {
      "text/plain": [
       "(tensor([[-2.2500,  1.2500, -1.2500, -2.7500],\n",
       "         [ 4.5000,  2.0000,  4.7500, -3.5000]]),\n",
       " tensor([[ 5.7500,  2.0000,  4.5000, -2.5000],\n",
       "         [ 1.5000, -0.5000,  2.0000,  0.5000]]),\n",
       " tensor([[-2.5000,  0.2500, -2.0000, -0.7500],\n",
       "         [-7.5000,  0.0000, -5.2500, -1.5000]]))"
      ]
     },
     "execution_count": 28,
     "metadata": {},
     "output_type": "execute_result"
    }
   ],
   "source": [
    "Q = torch.matmul(WQ.T, k)\n",
    "K = torch.matmul(WK.T, k)\n",
    "V = torch.matmul(WV.T, k)\n",
    "Q, K, V"
   ]
  },
  {
   "cell_type": "code",
   "execution_count": 29,
   "metadata": {
    "execution": {
     "iopub.execute_input": "2023-06-01T09:35:48.216577Z",
     "iopub.status.busy": "2023-06-01T09:35:48.216303Z",
     "iopub.status.idle": "2023-06-01T09:35:48.225336Z",
     "shell.execute_reply": "2023-06-01T09:35:48.224113Z",
     "shell.execute_reply.started": "2023-06-01T09:35:48.216555Z"
    },
    "tags": []
   },
   "outputs": [
    {
     "data": {
      "text/plain": [
       "tensor([[1.0000e+00, 1.2690e-26, 1.4060e-07, 3.5678e-20],\n",
       "        [0.0000e+00, 1.0000e+00, 0.0000e+00, 2.2689e-25]])"
      ]
     },
     "execution_count": 29,
     "metadata": {},
     "output_type": "execute_result"
    }
   ],
   "source": [
    "import math\n",
    "m(torch.matmul(torch.matmul(Q, K.T)/math.sqrt(2), V))"
   ]
  },
  {
   "cell_type": "markdown",
   "metadata": {
    "id": "x42z0hX-Cr-o"
   },
   "source": [
    "## 3. Why does the sequence-to-sequence model use a bidirectional recurrent neural network in the encoder?"
   ]
  }
 ],
 "metadata": {
  "colab": {
   "authorship_tag": "ABX9TyMekrNDKiB1/GayhZzBPqAP",
   "collapsed_sections": [],
   "name": "Lab4.ipynb",
   "provenance": []
  },
  "kernelspec": {
   "display_name": "Python 3 (ipykernel)",
   "language": "python",
   "name": "python3"
  },
  "language_info": {
   "codemirror_mode": {
    "name": "ipython",
    "version": 3
   },
   "file_extension": ".py",
   "mimetype": "text/x-python",
   "name": "python",
   "nbconvert_exporter": "python",
   "pygments_lexer": "ipython3",
   "version": "3.10.11"
  }
 },
 "nbformat": 4,
 "nbformat_minor": 4
}
