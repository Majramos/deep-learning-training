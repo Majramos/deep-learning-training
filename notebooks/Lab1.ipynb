{
 "cells": [
  {
   "cell_type": "markdown",
   "metadata": {
    "id": "l8jx134dakEm"
   },
   "source": [
    "# Introduction to Neural Networks\n",
    "\n",
    "In this lab, you will have your first contact with Neural Networks, and neural network training. We will use Pytorch to quickly deploy and train neural networks in different types of data, assess their performance and interpret their results."
   ]
  },
  {
   "cell_type": "markdown",
   "metadata": {
    "id": "v7_tMzMAdxf6"
   },
   "source": [
    "## Preparation\n",
    "\n",
    "To create our first neural network model, we are going to load the Pytorch library, which contains many of the necessary utilities to deploy and train neural network models. We also import `numpy`, a library that is useful for some numerical computations."
   ]
  },
  {
   "cell_type": "code",
   "execution_count": 1,
   "metadata": {
    "id": "aWvGUgnDabis",
    "tags": []
   },
   "outputs": [],
   "source": [
    "import torch\n",
    "import numpy as np"
   ]
  },
  {
   "cell_type": "markdown",
   "metadata": {
    "id": "_XqUXs65eeNP"
   },
   "source": [
    "The most basic `Pytorch` datatype is the tensor, which you can think of as a more general version of a matrix. `Pytorch` tensors are built to facilitate the computation of gradients, which will be useful when we train our neural network models.\n",
    "\n",
    "Let us start by creating a simple random tensor and check some of its attributes."
   ]
  },
  {
   "cell_type": "code",
   "execution_count": 2,
   "metadata": {
    "id": "1vvSWjWQeZYo",
    "tags": []
   },
   "outputs": [
    {
     "name": "stdout",
     "output_type": "stream",
     "text": [
      "tensor([[0.8345, 0.7270, 0.7358, 0.4049],\n",
      "        [0.2613, 0.0529, 0.5568, 0.9982],\n",
      "        [0.4074, 0.9245, 0.7670, 0.0882]])\n"
     ]
    }
   ],
   "source": [
    "t = torch.rand(3, 4) # Create a 3 x 4 tensor with random numbers\n",
    "\n",
    "# Let's check the contents of t\n",
    "print(t)"
   ]
  },
  {
   "cell_type": "code",
   "execution_count": 7,
   "metadata": {
    "id": "hGEOzAGqfDDl",
    "tags": []
   },
   "outputs": [
    {
     "name": "stdout",
     "output_type": "stream",
     "text": [
      "Shape of tensor: torch.Size([3, 4])\n",
      "Datatype of tensor: torch.float32\n",
      "Device used to store tensor: cuda:0\n"
     ]
    }
   ],
   "source": [
    "# Let's now check some properties of t\n",
    "print('Shape of tensor:', t.shape)\n",
    "print('Datatype of tensor:', t.dtype)\n",
    "print('Device used to store tensor:', t.device)"
   ]
  },
  {
   "cell_type": "code",
   "execution_count": 17,
   "metadata": {
    "tags": []
   },
   "outputs": [
    {
     "data": {
      "text/plain": [
       "device(type='cuda', index=0)"
      ]
     },
     "execution_count": 17,
     "metadata": {},
     "output_type": "execute_result"
    }
   ],
   "source": [
    "torch.device('cuda:0')"
   ]
  },
  {
   "cell_type": "code",
   "execution_count": 18,
   "metadata": {
    "id": "nzXUvb7pfTKc",
    "tags": []
   },
   "outputs": [
    {
     "name": "stdout",
     "output_type": "stream",
     "text": [
      "Device used to store tensor: cuda:0\n",
      "Device name: Quadro RTX 3000\n",
      "Allocated: 0.0 GB\n",
      "Cached:    0.0 GB\n",
      "cuda:0\n"
     ]
    }
   ],
   "source": [
    "# Let's now move our tensor to a GPU, if one is available\n",
    "if torch.cuda.is_available():\n",
    "    t = t.to('cuda')\n",
    "    print('Device used to store tensor:', t.device)\n",
    "    print('Device name:', torch.cuda.get_device_name(0))\n",
    "    print('Allocated:', round(torch.cuda.memory_allocated(0)/1024**3,1), 'GB')\n",
    "    print('Cached:   ', round(torch.cuda.memory_reserved(0)/1024**3,1), 'GB')\n",
    "    device = torch.device('cuda:0')\n",
    "else:\n",
    "    print('No GPU available.')\n",
    "    device = torch.device('cpu')\n",
    "    \n",
    "print(device)"
   ]
  },
  {
   "cell_type": "markdown",
   "metadata": {
    "id": "J7oECt6pf5by"
   },
   "source": [
    "## Differentiation with `autograd`\n",
    "\n",
    "Let's look at how Pytorch helps with keeping track of gradients. To that purpose, we will create two tensors, perform some operations on them, and check how these operations are tracked for the purpose of computing the gradients."
   ]
  },
  {
   "cell_type": "code",
   "execution_count": 19,
   "metadata": {
    "id": "Ub3LJ0ZPffqL",
    "tags": []
   },
   "outputs": [
    {
     "name": "stdout",
     "output_type": "stream",
     "text": [
      "a: tensor([2., 3.], device='cuda:0', grad_fn=<ToCopyBackward0>)\n",
      "b: tensor([6., 4.], device='cuda:0', grad_fn=<ToCopyBackward0>)\n"
     ]
    }
   ],
   "source": [
    "# We create two tensors with two elements each, and activate gradient tracking\n",
    "a = torch.tensor([2., 3.], requires_grad=True).to(device)\n",
    "b = torch.tensor([6., 4.], requires_grad=True).to(device)\n",
    "\n",
    "print('a:', a)\n",
    "print('b:', b)"
   ]
  },
  {
   "cell_type": "markdown",
   "metadata": {
    "id": "_eOFNLnMgnGn"
   },
   "source": [
    "Let's perform some computation using `a` and `b`. In particular, let us compute\n",
    "\n",
    "$$c=3a^3-b^2$$\n",
    "\n",
    "where the powers are computed elementwise. "
   ]
  },
  {
   "cell_type": "code",
   "execution_count": 20,
   "metadata": {
    "id": "2Y7hpKiOgliV",
    "tags": []
   },
   "outputs": [
    {
     "name": "stdout",
     "output_type": "stream",
     "text": [
      "c = tensor([-12.,  65.], device='cuda:0', grad_fn=<SubBackward0>)\n"
     ]
    }
   ],
   "source": [
    "c = 3 * a ** 3 - b ** 2\n",
    "print('c =', c)"
   ]
  },
  {
   "cell_type": "markdown",
   "metadata": {
    "id": "878ZNEHThdj8"
   },
   "source": [
    "We have that:\n",
    "\n",
    "$$\\frac{\\partial c}{\\partial a}=9a^2,$$\n",
    "\n",
    "and\n",
    "\n",
    "$$\\frac{\\partial c}{\\partial b}=-2b.$$\n",
    "\n",
    "When we call the method `.backward()` on `c`, `Autograd` calculates these gradients and stores them in the respective tensors' `.grad` attribute. For example, we can compute the sum of the elements in `c` and then backpropagate the gradient, to have:"
   ]
  },
  {
   "cell_type": "code",
   "execution_count": null,
   "metadata": {
    "id": "qc47I_rmg2zO",
    "tags": []
   },
   "outputs": [],
   "source": [
    "c.sum().backward()\n",
    "\n",
    "grada = a.grad\n",
    "gradb = b.grad"
   ]
  },
  {
   "cell_type": "code",
   "execution_count": 23,
   "metadata": {
    "id": "JrInhnERiQam",
    "tags": []
   },
   "outputs": [
    {
     "name": "stdout",
     "output_type": "stream",
     "text": [
      "9 * a ** 2 = tensor([36., 81.], device='cuda:0', grad_fn=<MulBackward0>)\n",
      "grad_a = None\n",
      "\n",
      "-2b = tensor([-12.,  -8.], device='cuda:0', grad_fn=<MulBackward0>)\n",
      "grad_b = None\n"
     ]
    }
   ],
   "source": [
    "print('9 * a ** 2 =', 9 * a ** 2)\n",
    "print('grad_a =', grada)\n",
    "\n",
    "print('\\n-2b =', -2 * b)\n",
    "print('grad_b =', gradb)"
   ]
  },
  {
   "cell_type": "markdown",
   "metadata": {
    "id": "7XVaa5lYjQ0R"
   },
   "source": [
    "## Neural networks\n",
    "\n",
    "We can now implement our first neural network. We will use the neural network to classify pieces of clothing in the well known Fashion-MNIST dataset. "
   ]
  },
  {
   "cell_type": "markdown",
   "metadata": {
    "id": "5cKRCtMrmzA7"
   },
   "source": [
    "### Data\n",
    "\n",
    "We start by loading the data to be used, for which we use the `torchvision` library."
   ]
  },
  {
   "cell_type": "code",
   "execution_count": 24,
   "metadata": {
    "id": "Ump4DMofjFsy",
    "tags": []
   },
   "outputs": [],
   "source": [
    "# The library torchvision will be used to load the data\n",
    "import torchvision\n",
    "\n",
    "# The transforms module is used to convert the data into adequate Pytorch\n",
    "# tensors.\n",
    "import torchvision.transforms as transforms"
   ]
  },
  {
   "cell_type": "code",
   "execution_count": 25,
   "metadata": {
    "id": "1Ys4Klpzkrs5",
    "tags": []
   },
   "outputs": [],
   "source": [
    "# We import data for training and testing separately\n",
    "train_set = torchvision.datasets.FashionMNIST(root=\"./\", download=True,\n",
    "                                              train=True,\n",
    "                                              transform=transforms.Compose([transforms.ToTensor()]))\n",
    "\n",
    "test_set = torchvision.datasets.FashionMNIST(root=\"./\", download=True, \n",
    "                                              train=False,\n",
    "                                              transform=transforms.Compose([transforms.ToTensor()]))"
   ]
  },
  {
   "cell_type": "markdown",
   "metadata": {
    "id": "8IYJqeU7k6jj"
   },
   "source": [
    "To facilitate the manipulation of the data, we create a **data loader**: an object that is used to get batches of data from the dataset during training. "
   ]
  },
  {
   "cell_type": "code",
   "execution_count": 26,
   "metadata": {
    "id": "yLwHxK4Oky8b",
    "tags": []
   },
   "outputs": [],
   "source": [
    "data_loader = torch.utils.data.DataLoader(train_set, batch_size=10, shuffle=True)"
   ]
  },
  {
   "cell_type": "markdown",
   "metadata": {
    "id": "eTtgUHO2lTEA"
   },
   "source": [
    "Let's visualize some of the samples in our dataset."
   ]
  },
  {
   "cell_type": "code",
   "execution_count": 28,
   "metadata": {
    "id": "z-IA6hhAlR9n",
    "tags": []
   },
   "outputs": [
    {
     "name": "stdout",
     "output_type": "stream",
     "text": [
      "Image tensor: torch.Size([10, 1, 28, 28])\n",
      "class labels: tensor([0, 3, 0, 7, 9, 4, 4, 6, 2, 5])\n"
     ]
    },
    {
     "data": {
      "text/plain": [
       "<matplotlib.image.AxesImage at 0x7f4f39012800>"
      ]
     },
     "execution_count": 28,
     "metadata": {},
     "output_type": "execute_result"
    },
    {
     "data": {
      "image/png": "[encoded data removed]",
      "text/plain": [
       "<Figure size 1500x1000 with 1 Axes>"
      ]
     },
     "metadata": {},
     "output_type": "display_data"
    }
   ],
   "source": [
    "# Import plotting utilities\n",
    "import matplotlib.pyplot as plt\n",
    "\n",
    "# Get a sample from our dataloader. \n",
    "# The sample consists of a batch of images and corresponding labels.\n",
    "images, labels = next(iter(data_loader))\n",
    "\n",
    "# To plot the sample, we create a grid\n",
    "plt.figure(figsize=(15, 10))\n",
    "grid = torchvision.utils.make_grid(nrow=20, tensor=images)\n",
    "print('Image tensor:', images.shape)\n",
    "print('class labels:', labels)\n",
    "\n",
    "# Plot the samples\n",
    "plt.imshow(np.transpose(grid, axes=(1,2,0)), cmap='gray')"
   ]
  },
  {
   "cell_type": "markdown",
   "metadata": {
    "id": "OADzvTn-m7cz"
   },
   "source": [
    "Let's decode the previous output. The images in the sample are stored in a single tensor with dimensions 10 &times; 1 &times; 28 &times; 28. What this means is that the sample contains:\n",
    "\n",
    "* 10 images;\n",
    "* Each image has a single channel, since these are black & white images. Colored images would have 3 channels (RGB);\n",
    "* Each image is 28 &times; 28 pixels.\n",
    "\n",
    "The labels are encoded as numbers. For example, 5 stands for \"sandal\", 8 for \"bag\", 7 for \"sneaker\", etc. The complete correspondence is summarized in the next table.\n",
    "\n",
    "| Label   |  0  |  1  |  2  |  3  |  4  |  5  |  6  |  7  |  8  |  9  | \n",
    "| ------- | --- | --- | --- | --- | --- | --- | --- | --- | --- | --- | \n",
    "| Object  | T-shirt | Trousers | Pull-over | Dress | Coat | Sandal | Shirt | Sneaker | Bag | Boot |"
   ]
  },
  {
   "cell_type": "code",
   "execution_count": 29,
   "metadata": {
    "id": "9oArL5vRt69R",
    "tags": []
   },
   "outputs": [],
   "source": [
    "LABELS = ('T-shirt', 'Trousers', 'Pull-over', 'Dress', 'Coat', 'Sandal', 'Shirt', 'Sneaker', 'Bag', 'Boot')"
   ]
  },
  {
   "cell_type": "markdown",
   "metadata": {
    "id": "aC69Z6rzodTs"
   },
   "source": [
    "### Creating a neural network\n",
    "\n",
    "We will now create a simple neural network. We use the `nn` module of Pytorch and create a new class corresponding to the neural network. In this class, we should specify the `__init__` method, and the `forward` method, which computes the output for a given input."
   ]
  },
  {
   "cell_type": "code",
   "execution_count": 30,
   "metadata": {
    "id": "Vlvj_yTpmXW7",
    "tags": []
   },
   "outputs": [],
   "source": [
    "import torch.nn as nn\n",
    "\n",
    "# We create a new class \"FeedForwardNetwork\" from nn.Module\n",
    "class FeedForwardNetwork(nn.Module):\n",
    "    def __init__(self):\n",
    "        # Call the super class constructor\n",
    "        super().__init__()\n",
    "\n",
    "        # Our network will have a single hidden layer with 100 units\n",
    "        self.layers = nn.Sequential(\n",
    "            nn.Flatten(),        # Convert 28 x 28 images into a flat tensor\n",
    "            nn.Linear(784, 100), # 28 x 28 = 784 inputs; 100 outputs\n",
    "            nn.ReLU(),           # Add ReLU activation\n",
    "            nn.Linear(100, 10)   # 100 inputs; 10 outputs (10 classes)\n",
    "        )\n",
    "\n",
    "    def forward(self, x): # implements the forward method (flow of tensors)\n",
    "        # Given input x, we just run x through the layers in the network\n",
    "        out = self.layers(x)\n",
    "        return out"
   ]
  },
  {
   "cell_type": "markdown",
   "metadata": {
    "id": "Y6nrXC_1tcMI"
   },
   "source": [
    "We can see how the (untrained) network classifies the examples in the sample. As expected, the classification is completely meaningless."
   ]
  },
  {
   "cell_type": "code",
   "execution_count": 32,
   "metadata": {
    "id": "X8Rh44l3ru9K",
    "tags": []
   },
   "outputs": [
    {
     "name": "stdout",
     "output_type": "stream",
     "text": [
      "\n",
      "Image 0:\n",
      "\tEstimated label: Shirt\n",
      "\tCorrect label: T-shirt\n",
      "\n",
      "Image 1:\n",
      "\tEstimated label: Shirt\n",
      "\tCorrect label: Dress\n",
      "\n",
      "Image 2:\n",
      "\tEstimated label: Shirt\n",
      "\tCorrect label: T-shirt\n",
      "\n",
      "Image 3:\n",
      "\tEstimated label: Shirt\n",
      "\tCorrect label: Sneaker\n",
      "\n",
      "Image 4:\n",
      "\tEstimated label: Shirt\n",
      "\tCorrect label: Boot\n",
      "\n",
      "Image 5:\n",
      "\tEstimated label: Shirt\n",
      "\tCorrect label: Coat\n",
      "\n",
      "Image 6:\n",
      "\tEstimated label: Shirt\n",
      "\tCorrect label: Coat\n",
      "\n",
      "Image 7:\n",
      "\tEstimated label: Shirt\n",
      "\tCorrect label: Shirt\n",
      "\n",
      "Image 8:\n",
      "\tEstimated label: Shirt\n",
      "\tCorrect label: Pull-over\n",
      "\n",
      "Image 9:\n",
      "\tEstimated label: Shirt\n",
      "\tCorrect label: Sandal\n"
     ]
    }
   ],
   "source": [
    "# Create an instance of the network\n",
    "net = FeedForwardNetwork().to(device)\n",
    "\n",
    "# Run the sample through the network\n",
    "output = net(images.to(device))\n",
    "\n",
    "# Let's check the classification\n",
    "for i in range(output.shape[0]):\n",
    "    y_est = torch.argmax(output[i, :])\n",
    "    y_opt = labels[i]\n",
    "    print('\\nImage %i:' % i)\n",
    "    print('\\tEstimated label:', LABELS[y_est])\n",
    "    print('\\tCorrect label:', LABELS[y_opt])"
   ]
  },
  {
   "cell_type": "markdown",
   "metadata": {
    "id": "PGQTjBUduzYE"
   },
   "source": [
    "## Training the network\n",
    "\n",
    "Let us now train the network we just created. The first thing to do is to specify how to measure the performance of our network, and then optimize the parameters of our network with respect to the defined performance measure. \n",
    "\n",
    "As performance criterion, we will use the _cross-entropy loss_, which measures the negative log-likelihood of the data according to the neural network. By adjusting the parameters of the network to minimize this loss, we are implicitly optimizing the network to make the observed labels in the dataset as likely as possible."
   ]
  },
  {
   "cell_type": "code",
   "execution_count": 33,
   "metadata": {
    "id": "sYoTjlENsWNe",
    "tags": []
   },
   "outputs": [],
   "source": [
    "loss = nn.CrossEntropyLoss()"
   ]
  },
  {
   "cell_type": "markdown",
   "metadata": {
    "id": "f2qhlMaOyvw2"
   },
   "source": [
    "We now proceed with the training of the network. We will train the network for 20 epochs using stochastic gradient descent with a learning rate of 0.01. To fetch the data from the dataset we use the previously created data loader. However, since we've already extracted a sample (batch), we start by resetting it."
   ]
  },
  {
   "cell_type": "code",
   "execution_count": 35,
   "metadata": {
    "id": "J9mDwlPUytIk",
    "tags": []
   },
   "outputs": [
    {
     "name": "stdout",
     "output_type": "stream",
     "text": [
      "Training epoch: 0\n",
      "Training loss: 1.3728\n",
      "Training epoch: 1\n",
      "Training loss: 0.7749\n",
      "Training epoch: 2\n",
      "Training loss: 0.6550\n",
      "Training epoch: 3\n",
      "Training loss: 0.5927\n",
      "Training epoch: 4\n",
      "Training loss: 0.5541\n",
      "Training epoch: 5\n",
      "Training loss: 0.5278\n",
      "Training epoch: 6\n",
      "Training loss: 0.5078\n",
      "Training epoch: 7\n",
      "Training loss: 0.4934\n",
      "Training epoch: 8\n",
      "Training loss: 0.4814\n",
      "Training epoch: 9\n",
      "Training loss: 0.4715\n",
      "Training epoch: 10\n",
      "Training loss: 0.4633\n",
      "Training epoch: 11\n",
      "Training loss: 0.4563\n",
      "Training epoch: 12\n",
      "Training loss: 0.4497\n",
      "Training epoch: 13\n",
      "Training loss: 0.4442\n",
      "Training epoch: 14\n",
      "Training loss: 0.4389\n",
      "Training epoch: 15\n",
      "Training loss: 0.4346\n",
      "Training epoch: 16\n",
      "Training loss: 0.4305\n",
      "Training epoch: 17\n",
      "Training loss: 0.4265\n",
      "Training epoch: 18\n",
      "Training loss: 0.4226\n",
      "Training epoch: 19\n",
      "Training loss: 0.4192\n"
     ]
    }
   ],
   "source": [
    "EPOCHS = 20\n",
    "\n",
    "# Define the optimizer. We indicate:\n",
    "#   - What is being optimized (the parameters of the network)\n",
    "#   - The learning rate \n",
    "optimizer = torch.optim.SGD(net.parameters(), lr=0.001)\n",
    "\n",
    "# Reset data loader\n",
    "iter(data_loader)\n",
    "\n",
    "for ep in range(EPOCHS):\n",
    "    print('Training epoch:', ep)\n",
    "\n",
    "    # Keep track of the loss during training\n",
    "    train_loss = []\n",
    "\n",
    "    # We use our data loader to fetch batches from our dataset\n",
    "    for Xbatch, ybatch in data_loader:\n",
    "        Xbatch, ybatch = Xbatch.to(device), ybatch.to(device)\n",
    "        # We first zero-out the gradients\n",
    "        optimizer.zero_grad()\n",
    "\n",
    "        # Compute output\n",
    "        output = net(Xbatch)\n",
    "\n",
    "        # Get loss\n",
    "        l = loss(output, ybatch)\n",
    "\n",
    "        # Compute gradients\n",
    "        l.backward()\n",
    "\n",
    "        # Perform optimization step\n",
    "        optimizer.step()\n",
    "\n",
    "        train_loss.append(l)\n",
    "\n",
    "    print('Training loss: %.4f' % torch.tensor(train_loss).mean().item())"
   ]
  },
  {
   "cell_type": "markdown",
   "metadata": {
    "id": "M1uj1KdL9oNE"
   },
   "source": [
    "Let us now check how the trained network classifies the examples in our original sample."
   ]
  },
  {
   "cell_type": "code",
   "execution_count": 38,
   "metadata": {
    "id": "UM5LKnbY0eRT",
    "tags": []
   },
   "outputs": [
    {
     "name": "stdout",
     "output_type": "stream",
     "text": [
      "\n",
      "Image 0:\n",
      "\tEstimated label: T-shirt\n",
      "\tCorrect label: T-shirt\n",
      "\n",
      "Image 1:\n",
      "\tEstimated label: Dress\n",
      "\tCorrect label: Dress\n",
      "\n",
      "Image 2:\n",
      "\tEstimated label: T-shirt\n",
      "\tCorrect label: T-shirt\n",
      "\n",
      "Image 3:\n",
      "\tEstimated label: Sneaker\n",
      "\tCorrect label: Sneaker\n",
      "\n",
      "Image 4:\n",
      "\tEstimated label: Boot\n",
      "\tCorrect label: Boot\n",
      "\n",
      "Image 5:\n",
      "\tEstimated label: Coat\n",
      "\tCorrect label: Coat\n",
      "\n",
      "Image 6:\n",
      "\tEstimated label: Shirt\n",
      "\tCorrect label: Coat\n",
      "\n",
      "Image 7:\n",
      "\tEstimated label: Shirt\n",
      "\tCorrect label: Shirt\n",
      "\n",
      "Image 8:\n",
      "\tEstimated label: Shirt\n",
      "\tCorrect label: Pull-over\n",
      "\n",
      "Image 9:\n",
      "\tEstimated label: Sandal\n",
      "\tCorrect label: Sandal\n"
     ]
    }
   ],
   "source": [
    "# Run the sample through the network\n",
    "output = net(images.to(device))\n",
    "\n",
    "# Let's check the classification\n",
    "for i in range(output.shape[0]):\n",
    "    y_est = torch.argmax(output[i, :])\n",
    "    y_opt = labels[i]\n",
    "    print('\\nImage %i:' % i)\n",
    "    print('\\tEstimated label:', LABELS[y_est])\n",
    "    print('\\tCorrect label:', LABELS[y_opt])"
   ]
  },
  {
   "cell_type": "markdown",
   "metadata": {
    "id": "oXGtT8v8-L0_"
   },
   "source": [
    "## Evaluate the network\n",
    "\n",
    "We now use the test set that was kept aside to determine the performance of the network on unseen data. We create a simple function that receives a network and a dataset and computes the predictions for that dataset."
   ]
  },
  {
   "cell_type": "code",
   "execution_count": 60,
   "metadata": {
    "id": "UKQ3X3by9vbF",
    "tags": []
   },
   "outputs": [],
   "source": [
    "@torch.no_grad() # We don't need gradients for this\n",
    "def get_predictions(network, dataset):\n",
    "\n",
    "    # Create dataloader from dataset\n",
    "    dataloader = torch.utils.data.DataLoader(dataset, batch_size=10000)\n",
    "\n",
    "    # Create a tensor to store results\n",
    "    predictions = torch.tensor([])\n",
    "    for Xbatch, _ in dataloader:\n",
    "        # Get predictions\n",
    "        output = network(Xbatch.to(device))\n",
    "\n",
    "        # Add them to the tensor\n",
    "        # NOTE: \n",
    "        predictions = torch.cat((predictions, output.cpu()), dim=0)\n",
    "        \n",
    "    return predictions"
   ]
  },
  {
   "cell_type": "code",
   "execution_count": 61,
   "metadata": {
    "id": "undFqeDP-a-s",
    "tags": []
   },
   "outputs": [
    {
     "name": "stdout",
     "output_type": "stream",
     "text": [
      "\n",
      "= Confusion matrix in training =\n",
      "[[4739   28   98  317   24    7  713    0   73    1]\n",
      " [   9 5767   32  143   20    1   24    0    4    0]\n",
      " [  42   14 4291   54  960    6  574    0   59    0]\n",
      " [ 180   62   57 5251  244    0  185    0   21    0]\n",
      " [   7    3  332  163 5012    0  452    0   30    1]\n",
      " [   5    0    0    4    0 5578    1  242   38  132]\n",
      " [ 658   19  570  170  666    0 3807    1  108    1]\n",
      " [   0    0    0    0    0  198    0 5534   13  255]\n",
      " [  13    5   24   43   28   33  110   32 5707    5]\n",
      " [   1    1    0    3    0   80    1  214    7 5693]]\n",
      "\n",
      "Training accuracy: 0.8563166666666666\n",
      "\n",
      "= Confusion matrix in test =\n",
      "[[768   4  15  53   7   1 135   0  17   0]\n",
      " [  4 953   4  27   6   0   4   0   2   0]\n",
      " [ 11   4 687  11 177   1  96   0  13   0]\n",
      " [ 21   9  14 863  38   1  50   0   4   0]\n",
      " [  0   1  65  31 807   1  88   0   7   0]\n",
      " [  0   0   0   1   0 910   0  52   4  33]\n",
      " [113   1 106  41 124   1 583   0  31   0]\n",
      " [  0   0   0   0   0  34   0 919   0  47]\n",
      " [  0   1   8   8   4   4  24   6 945   0]\n",
      " [  0   0   0   0   0  13   0  41   1 945]]\n",
      "\n",
      "Test accuracy: 0.838\n"
     ]
    }
   ],
   "source": [
    "# Import function to compute confusion matrix\n",
    "from sklearn.metrics import confusion_matrix\n",
    "\n",
    "# We compute the confusion matrix for the training set\n",
    "predictions = get_predictions(net, train_set)\n",
    "cm_train = confusion_matrix(y_true=train_set.targets, y_pred=predictions.argmax(1))\n",
    "\n",
    "print('\\n= Confusion matrix in training =')\n",
    "print(cm_train)\n",
    "\n",
    "print('\\nTraining accuracy:', cm_train.trace() / predictions.shape[0])\n",
    "\n",
    "# We compute the confusion matrix for the test set\n",
    "predictions = get_predictions(net, test_set)\n",
    "cm_test = confusion_matrix(y_true=test_set.targets, y_pred=predictions.argmax(1))\n",
    "\n",
    "print('\\n= Confusion matrix in test =')\n",
    "print(cm_test)\n",
    "\n",
    "print('\\nTest accuracy:', cm_test.trace() / predictions.shape[0])"
   ]
  },
  {
   "cell_type": "markdown",
   "metadata": {
    "id": "x42z0hX-Cr-o"
   },
   "source": [
    "# Activities\n",
    "\n",
    "1. Verify the impact of L2 regularization in the performance of the network. To that purpose, repeat the training of the network, but add to the SGD parameters the option `weight_decay=0.1`.\n",
    "\n",
    "2. Verify the impact of dropout in the performance of the network. To that purpose, repeat the training of the network, but add a dropout layer after the ReLU in the network definition. You can do it by adding the line `nn.Dropout(0.3),` (the number is the dropout probability).\n",
    "\n",
    "3. From your results, do you believe that the original model is overfitting?"
   ]
  }
 ],
 "metadata": {
  "colab": {
   "authorship_tag": "ABX9TyOLqefr81L4fh9BHgFjv+d3",
   "collapsed_sections": [],
   "name": "Lab1.ipynb",
   "provenance": []
  },
  "kernelspec": {
   "display_name": "Python 3 (ipykernel)",
   "language": "python",
   "name": "python3"
  },
  "language_info": {
   "codemirror_mode": {
    "name": "ipython",
    "version": 3
   },
   "file_extension": ".py",
   "mimetype": "text/x-python",
   "name": "python",
   "nbconvert_exporter": "python",
   "pygments_lexer": "ipython3",
   "version": "3.10.11"
  },
  "toc-autonumbering": true
 },
 "nbformat": 4,
 "nbformat_minor": 4
}
